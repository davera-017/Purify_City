{
 "cells": [
  {
   "cell_type": "code",
   "execution_count": 180,
   "metadata": {
    "ExecuteTime": {
     "end_time": "2021-03-12T17:08:34.196626Z",
     "start_time": "2021-03-12T17:08:34.190771Z"
    }
   },
   "outputs": [],
   "source": [
    "import numpy as np\n",
    "import pandas as pd\n",
    "import matplotlib.pyplot as plt\n",
    "import tensorflow as tf\n",
    "import datetime"
   ]
  },
  {
   "cell_type": "markdown",
   "metadata": {},
   "source": [
    "## IMPORTACIÓN"
   ]
  },
  {
   "cell_type": "code",
   "execution_count": 181,
   "metadata": {
    "ExecuteTime": {
     "end_time": "2021-03-12T17:08:34.661735Z",
     "start_time": "2021-03-12T17:08:34.609304Z"
    }
   },
   "outputs": [],
   "source": [
    "d_pm25 = pd.read_csv('Datos_Bogota/pm25/2014.csv', sep=';')\n",
    "for i in range(2015,2019):\n",
    "    d_temp = pd.read_csv('Datos_Bogota/pm25/' + str(i) + '.csv', sep=';', names=d_pm25.columns.values, skiprows= 1) \n",
    "    d_pm25 = d_pm25.append(d_temp)"
   ]
  },
  {
   "cell_type": "code",
   "execution_count": 182,
   "metadata": {
    "ExecuteTime": {
     "end_time": "2021-03-12T17:08:35.122270Z",
     "start_time": "2021-03-12T17:08:35.101585Z"
    }
   },
   "outputs": [],
   "source": [
    "d_2019 = pd.read_csv('Datos_Bogota/pm25/2019.csv', sep=';', usecols= range(12), names=d_pm25.columns.values, skiprows= 1)\n",
    "d_pm25 = d_pm25.append(d_2019)\n"
   ]
  },
  {
   "cell_type": "code",
   "execution_count": 183,
   "metadata": {
    "ExecuteTime": {
     "end_time": "2021-03-12T17:08:35.510145Z",
     "start_time": "2021-03-12T17:08:35.432301Z"
    },
    "code_folding": []
   },
   "outputs": [],
   "source": [
    "d_pm10 = pd.read_csv('Datos_Bogota/pm10/2014.csv', sep=';') \n",
    "for i in range(2015,2020):\n",
    "    d_temp = pd.read_csv('Datos_Bogota/pm10/' + str(i) + '.csv', sep=';', names=d_pm10.columns.values, skiprows= 1) \n",
    "    d_pm10 = d_pm10.append(d_temp)"
   ]
  },
  {
   "cell_type": "code",
   "execution_count": 184,
   "metadata": {
    "ExecuteTime": {
     "end_time": "2021-03-12T17:08:35.644776Z",
     "start_time": "2021-03-12T17:08:35.632621Z"
    }
   },
   "outputs": [
    {
     "data": {
      "text/plain": [
       "(72, 12)"
      ]
     },
     "execution_count": 184,
     "metadata": {},
     "output_type": "execute_result"
    }
   ],
   "source": [
    "np.shape(d_pm25)"
   ]
  },
  {
   "cell_type": "code",
   "execution_count": 185,
   "metadata": {
    "ExecuteTime": {
     "end_time": "2021-03-12T17:08:35.837333Z",
     "start_time": "2021-03-12T17:08:35.823999Z"
    }
   },
   "outputs": [],
   "source": [
    "def reset_index(datos):\n",
    "    datos = datos.reset_index()\n",
    "    datos = datos.iloc[:,1:]\n",
    "    return datos\n",
    "\n",
    "d_pm10 = reset_index(d_pm10)\n",
    "d_pm25 = reset_index(d_pm25)"
   ]
  },
  {
   "cell_type": "code",
   "execution_count": 186,
   "metadata": {
    "ExecuteTime": {
     "end_time": "2021-03-12T17:08:36.197467Z",
     "start_time": "2021-03-12T17:08:36.022759Z"
    },
    "code_folding": [
     0
    ]
   },
   "outputs": [
    {
     "name": "stderr",
     "output_type": "stream",
     "text": [
      "/Users/PutosHackers/anaconda3/lib/python3.7/site-packages/ipykernel_launcher.py:14: SettingWithCopyWarning:\n",
      "\n",
      "\n",
      "A value is trying to be set on a copy of a slice from a DataFrame.\n",
      "Try using .loc[row_indexer,col_indexer] = value instead\n",
      "\n",
      "See the caveats in the documentation: https://pandas.pydata.org/pandas-docs/stable/user_guide/indexing.html#returning-a-view-versus-a-copy\n",
      "\n",
      "/Users/PutosHackers/anaconda3/lib/python3.7/site-packages/ipykernel_launcher.py:19: SettingWithCopyWarning:\n",
      "\n",
      "\n",
      "A value is trying to be set on a copy of a slice from a DataFrame.\n",
      "Try using .loc[row_indexer,col_indexer] = value instead\n",
      "\n",
      "See the caveats in the documentation: https://pandas.pydata.org/pandas-docs/stable/user_guide/indexing.html#returning-a-view-versus-a-copy\n",
      "\n"
     ]
    }
   ],
   "source": [
    "def to_col(datos, pm):\n",
    "    columns = datos.columns\n",
    "    \n",
    "    abrv = []\n",
    "    for c in columns[1:]:\n",
    "        pos = 0 \n",
    "        for i in range(len(c)):\n",
    "            if c[i] == '-':\n",
    "                pos = i+2\n",
    "                break\n",
    "        abrv.append(c[pos:])\n",
    "    \n",
    "    datos_new = datos[columns[:2]]\n",
    "    datos_new['codigoSerial'] = abrv[0]\n",
    "    datos_new = datos_new.rename(columns={columns[1]: pm})\n",
    "    \n",
    "    for i in range(2,len(columns)):\n",
    "        datos_temp = datos[[columns[0],columns[i]]]\n",
    "        datos_temp['codigoSerial'] = abrv[i-2]\n",
    "        datos_temp = datos_temp.rename(columns={columns[i]: pm})\n",
    "        datos_new = datos_new.append(datos_temp)\n",
    "        \n",
    "    return datos_new\n",
    "\n",
    "\n",
    "datos = to_col(d_pm10, 'pm10')\n",
    "datos2 = to_col(d_pm25, 'pm25')"
   ]
  },
  {
   "cell_type": "code",
   "execution_count": 187,
   "metadata": {
    "ExecuteTime": {
     "end_time": "2021-03-12T17:08:36.310628Z",
     "start_time": "2021-03-12T17:08:36.297602Z"
    }
   },
   "outputs": [
    {
     "data": {
      "text/plain": [
       "(792, 3)"
      ]
     },
     "execution_count": 187,
     "metadata": {},
     "output_type": "execute_result"
    }
   ],
   "source": [
    "np.shape(datos2)"
   ]
  },
  {
   "cell_type": "code",
   "execution_count": 188,
   "metadata": {
    "ExecuteTime": {
     "end_time": "2021-03-12T17:08:38.239504Z",
     "start_time": "2021-03-12T17:08:38.231069Z"
    }
   },
   "outputs": [],
   "source": [
    "datos = datos.rename(columns={'Fecha':'Fecha_Hora'})\n",
    "datos2 = datos2.rename(columns={'fecha':'Fecha_Hora'})"
   ]
  },
  {
   "cell_type": "code",
   "execution_count": 189,
   "metadata": {
    "ExecuteTime": {
     "end_time": "2021-03-12T17:08:38.518497Z",
     "start_time": "2021-03-12T17:08:38.504611Z"
    }
   },
   "outputs": [],
   "source": [
    "datos = datos.merge(datos2, on=['Fecha_Hora', 'codigoSerial'], how='left')"
   ]
  },
  {
   "cell_type": "code",
   "execution_count": 190,
   "metadata": {
    "ExecuteTime": {
     "end_time": "2021-03-12T17:08:45.718392Z",
     "start_time": "2021-03-12T17:08:45.702831Z"
    }
   },
   "outputs": [
    {
     "data": {
      "text/html": [
       "<div>\n",
       "<style scoped>\n",
       "    .dataframe tbody tr th:only-of-type {\n",
       "        vertical-align: middle;\n",
       "    }\n",
       "\n",
       "    .dataframe tbody tr th {\n",
       "        vertical-align: top;\n",
       "    }\n",
       "\n",
       "    .dataframe thead th {\n",
       "        text-align: right;\n",
       "    }\n",
       "</style>\n",
       "<table border=\"1\" class=\"dataframe\">\n",
       "  <thead>\n",
       "    <tr style=\"text-align: right;\">\n",
       "      <th></th>\n",
       "      <th>Fecha_Hora</th>\n",
       "      <th>pm10</th>\n",
       "      <th>codigoSerial</th>\n",
       "      <th>pm25</th>\n",
       "    </tr>\n",
       "  </thead>\n",
       "  <tbody>\n",
       "    <tr>\n",
       "      <th>0</th>\n",
       "      <td>2014-01</td>\n",
       "      <td>95.0</td>\n",
       "      <td>Ken</td>\n",
       "      <td>36.0</td>\n",
       "    </tr>\n",
       "    <tr>\n",
       "      <th>1</th>\n",
       "      <td>2014-01</td>\n",
       "      <td>95.0</td>\n",
       "      <td>Ken</td>\n",
       "      <td>NaN</td>\n",
       "    </tr>\n",
       "    <tr>\n",
       "      <th>2</th>\n",
       "      <td>2014-02</td>\n",
       "      <td>103.0</td>\n",
       "      <td>Ken</td>\n",
       "      <td>41.0</td>\n",
       "    </tr>\n",
       "    <tr>\n",
       "      <th>3</th>\n",
       "      <td>2014-02</td>\n",
       "      <td>103.0</td>\n",
       "      <td>Ken</td>\n",
       "      <td>48.0</td>\n",
       "    </tr>\n",
       "    <tr>\n",
       "      <th>4</th>\n",
       "      <td>2014-03</td>\n",
       "      <td>94.0</td>\n",
       "      <td>Ken</td>\n",
       "      <td>42.0</td>\n",
       "    </tr>\n",
       "  </tbody>\n",
       "</table>\n",
       "</div>"
      ],
      "text/plain": [
       "  Fecha_Hora   pm10 codigoSerial  pm25\n",
       "0    2014-01   95.0          Ken  36.0\n",
       "1    2014-01   95.0          Ken   NaN\n",
       "2    2014-02  103.0          Ken  41.0\n",
       "3    2014-02  103.0          Ken  48.0\n",
       "4    2014-03   94.0          Ken  42.0"
      ]
     },
     "execution_count": 190,
     "metadata": {},
     "output_type": "execute_result"
    }
   ],
   "source": [
    "datos.head(5)"
   ]
  },
  {
   "cell_type": "markdown",
   "metadata": {},
   "source": [
    "## LIMPIAR"
   ]
  },
  {
   "cell_type": "code",
   "execution_count": 191,
   "metadata": {
    "ExecuteTime": {
     "end_time": "2021-03-12T17:08:46.711579Z",
     "start_time": "2021-03-12T17:08:46.701622Z"
    }
   },
   "outputs": [],
   "source": [
    "#conservar = ['Fecha_Hora', 'codigoSerial', 'pm25','pm10']\n",
    "#datos = datos[conservar]"
   ]
  },
  {
   "cell_type": "code",
   "execution_count": 192,
   "metadata": {
    "ExecuteTime": {
     "end_time": "2021-03-12T17:08:46.890943Z",
     "start_time": "2021-03-12T17:08:46.886303Z"
    }
   },
   "outputs": [],
   "source": [
    "#pos_del = np.where(datos['Fecha'] == 'Fecha ')[0]\n",
    "#datos = datos.drop(pos_del)"
   ]
  },
  {
   "cell_type": "code",
   "execution_count": 193,
   "metadata": {
    "ExecuteTime": {
     "end_time": "2021-03-12T17:08:47.096808Z",
     "start_time": "2021-03-12T17:08:47.088983Z"
    }
   },
   "outputs": [
    {
     "data": {
      "text/plain": [
       "(1008, 4)"
      ]
     },
     "execution_count": 193,
     "metadata": {},
     "output_type": "execute_result"
    }
   ],
   "source": [
    "np.shape(datos)"
   ]
  },
  {
   "cell_type": "code",
   "execution_count": 194,
   "metadata": {
    "ExecuteTime": {
     "end_time": "2021-03-12T17:08:47.262500Z",
     "start_time": "2021-03-12T17:08:47.250920Z"
    },
    "code_folding": []
   },
   "outputs": [],
   "source": [
    "datos['Fecha_Hora'] = pd.to_datetime(datos['Fecha_Hora'])"
   ]
  },
  {
   "cell_type": "code",
   "execution_count": 195,
   "metadata": {
    "ExecuteTime": {
     "end_time": "2021-03-12T17:08:47.793681Z",
     "start_time": "2021-03-12T17:08:47.770927Z"
    }
   },
   "outputs": [],
   "source": [
    "#datos = datos.loc[pd.DatetimeIndex(datos['Fecha_Hora']).year > 2018]"
   ]
  },
  {
   "cell_type": "code",
   "execution_count": 196,
   "metadata": {
    "ExecuteTime": {
     "end_time": "2021-03-12T17:08:48.284890Z",
     "start_time": "2021-03-12T17:08:48.257180Z"
    }
   },
   "outputs": [],
   "source": [
    "datos.iloc[:,1:-2] = datos.iloc[:,[1,-1]].astype(float)"
   ]
  },
  {
   "cell_type": "code",
   "execution_count": 197,
   "metadata": {
    "ExecuteTime": {
     "end_time": "2021-03-12T17:08:48.723982Z",
     "start_time": "2021-03-12T17:08:48.718679Z"
    }
   },
   "outputs": [],
   "source": [
    "#datos['pm25'].loc[ (datos['pm25']<= 0) | (datos['pm25']> 200)] = None\n",
    "\n",
    "#datos['pm10'].loc[ (datos['pm10']<= 0) | (datos['pm10'] > 200)] = None"
   ]
  },
  {
   "cell_type": "markdown",
   "metadata": {},
   "source": [
    "## DATOS GRANDES ERRONEOS"
   ]
  },
  {
   "cell_type": "code",
   "execution_count": 165,
   "metadata": {
    "ExecuteTime": {
     "end_time": "2021-03-12T17:07:56.732137Z",
     "start_time": "2021-03-12T17:07:56.727327Z"
    }
   },
   "outputs": [],
   "source": [
    "#datos['Semana'] = datos['Fecha_Hora'].dt.dayofweek"
   ]
  },
  {
   "cell_type": "code",
   "execution_count": 166,
   "metadata": {
    "ExecuteTime": {
     "end_time": "2021-03-12T17:07:57.080581Z",
     "start_time": "2021-03-12T17:07:57.064742Z"
    }
   },
   "outputs": [
    {
     "data": {
      "text/plain": [
       "pm10    45.327645\n",
       "pm25    20.686177\n",
       "dtype: float64"
      ]
     },
     "execution_count": 166,
     "metadata": {},
     "output_type": "execute_result"
    }
   ],
   "source": [
    "datos[['pm10', 'pm25']].mean()"
   ]
  },
  {
   "cell_type": "markdown",
   "metadata": {},
   "source": [
    "## CALENDARIO"
   ]
  },
  {
   "cell_type": "code",
   "execution_count": 210,
   "metadata": {
    "ExecuteTime": {
     "end_time": "2021-03-12T17:13:15.133241Z",
     "start_time": "2021-03-12T17:13:15.117087Z"
    }
   },
   "outputs": [
    {
     "data": {
      "text/plain": [
       "2.522"
      ]
     },
     "execution_count": 210,
     "metadata": {},
     "output_type": "execute_result"
    }
   ],
   "source": [
    "130000*20*0.97*(10**-6)"
   ]
  },
  {
   "cell_type": "code",
   "execution_count": 198,
   "metadata": {
    "ExecuteTime": {
     "end_time": "2021-03-12T17:08:50.853736Z",
     "start_time": "2021-03-12T17:08:50.846019Z"
    }
   },
   "outputs": [],
   "source": [
    "import calendar\n",
    "days = list(calendar.day_abbr)\n",
    "months = list(calendar.month_abbr)[1:]"
   ]
  },
  {
   "cell_type": "markdown",
   "metadata": {},
   "source": [
    "## SEMANAL"
   ]
  },
  {
   "cell_type": "code",
   "execution_count": 199,
   "metadata": {
    "ExecuteTime": {
     "end_time": "2021-03-12T17:08:51.545752Z",
     "start_time": "2021-03-12T17:08:51.525257Z"
    }
   },
   "outputs": [
    {
     "name": "stdout",
     "output_type": "stream",
     "text": [
      "(11, 4)\n"
     ]
    },
    {
     "data": {
      "text/plain": [
       "array(['Ken', 'LFer', 'MinA', 'SanC', 'Usaq'], dtype='<U4')"
      ]
     },
     "execution_count": 199,
     "metadata": {},
     "output_type": "execute_result"
    }
   ],
   "source": [
    "max_total = get_top_estaciones('Total',5)\n",
    "max_total"
   ]
  },
  {
   "cell_type": "code",
   "execution_count": 200,
   "metadata": {
    "ExecuteTime": {
     "end_time": "2021-03-12T17:08:51.718315Z",
     "start_time": "2021-03-12T17:08:51.709685Z"
    }
   },
   "outputs": [
    {
     "data": {
      "text/plain": [
       "array(['Ken', 'MinA', 'SanC'], dtype='<U4')"
      ]
     },
     "execution_count": 200,
     "metadata": {},
     "output_type": "execute_result"
    }
   ],
   "source": [
    "max_est_25"
   ]
  },
  {
   "cell_type": "code",
   "execution_count": 201,
   "metadata": {
    "ExecuteTime": {
     "end_time": "2021-03-12T17:08:52.232739Z",
     "start_time": "2021-03-12T17:08:52.199540Z"
    },
    "code_folding": [
     2
    ]
   },
   "outputs": [
    {
     "name": "stdout",
     "output_type": "stream",
     "text": [
      "(11, 4)\n"
     ]
    }
   ],
   "source": [
    "#top n estaciones pm25\n",
    "\n",
    "def get_top_estaciones(valor, n):\n",
    "    \n",
    "    #promedio total (mensual)\n",
    "    d_total_mensual = datos.groupby(by= [datos['codigoSerial']]).mean()\n",
    "    d_total_mensual = d_total_mensual.reset_index()\n",
    "    d_total_mensual['Total'] = d_total_mensual['pm25'] + d_total_mensual['pm10']\n",
    "    \n",
    "    print(np.shape(d_total_mensual))\n",
    "    \n",
    "    #datos organizados\n",
    "    total = d_total_mensual.sort_values(by= valor, ascending= False).head(n)\n",
    "    \n",
    "    #index del top\n",
    "    max_est = np.array(list(set(total['codigoSerial'].values)))\n",
    "    return np.sort(max_est)\n",
    "    \n",
    "\n",
    "max_est_25 = get_top_estaciones('pm25', 3)\n",
    "#max_est_10 = get_top_estaciones('pm10', 3)\n",
    "max_est_10 = max_est_25"
   ]
  },
  {
   "cell_type": "code",
   "execution_count": 202,
   "metadata": {
    "ExecuteTime": {
     "end_time": "2021-03-12T17:08:52.529953Z",
     "start_time": "2021-03-12T17:08:52.524414Z"
    },
    "code_folding": [
     0
    ]
   },
   "outputs": [],
   "source": [
    "def get_semanal(datos):\n",
    "    d_semanal = datos.groupby(by= [datos['codigoSerial'], datos['Semana']]).mean()\n",
    "    d_semanal = d_semanal.reset_index()\n",
    "    return d_semanal\n",
    "\n",
    "#d_semanal = get_semanal(datos)"
   ]
  },
  {
   "cell_type": "code",
   "execution_count": 203,
   "metadata": {
    "ExecuteTime": {
     "end_time": "2021-03-12T17:08:52.718958Z",
     "start_time": "2021-03-12T17:08:52.714210Z"
    }
   },
   "outputs": [],
   "source": [
    "def get_estaciones(datos):\n",
    "    return np.array(list(set(datos['codigoSerial'].values)))"
   ]
  },
  {
   "cell_type": "code",
   "execution_count": 204,
   "metadata": {
    "ExecuteTime": {
     "end_time": "2021-03-12T17:08:52.981333Z",
     "start_time": "2021-03-12T17:08:52.972901Z"
    },
    "code_folding": []
   },
   "outputs": [],
   "source": [
    "colors = [\n",
    "    'salmon',\n",
    "    'mediumaquamarine',\n",
    "    'slateblue',\n",
    "    'grey',\n",
    "    'lightpink',\n",
    "    'khaki'\n",
    "]"
   ]
  },
  {
   "cell_type": "code",
   "execution_count": 205,
   "metadata": {
    "ExecuteTime": {
     "end_time": "2021-03-12T17:08:53.245739Z",
     "start_time": "2021-03-12T17:08:53.175620Z"
    },
    "code_folding": [
     3
    ]
   },
   "outputs": [],
   "source": [
    "from plotly.subplots import make_subplots\n",
    "import plotly.graph_objects as go\n",
    "\n",
    "def fig_bar(max_est_1, max_est_2, datos):\n",
    "    \n",
    "    d_semanal = get_semanal(datos)\n",
    "    \n",
    "    \n",
    "    #figura\n",
    "    fig = make_subplots(rows=2, \n",
    "                        cols=1, \n",
    "                        shared_xaxes=True, \n",
    "                        vertical_spacing = 0.03,\n",
    "                        specs=[[{\"secondary_y\": True}],\n",
    "                           [{\"secondary_y\": True}]]\n",
    "                       )\n",
    "\n",
    "    #opacidad\n",
    "    op = 0.75\n",
    "\n",
    "\n",
    "    #Traces \n",
    "    \n",
    "    #top estaciones\n",
    "    \n",
    "    for i in range(np.size(max_est_1)):\n",
    "        \n",
    "        #query for data of each station\n",
    "        datos_temp = d_semanal.loc[d_semanal['codigoSerial'] == max_est_1[i]]\n",
    "\n",
    "\n",
    "        # Add traces\n",
    "\n",
    "        fig.add_trace(go.Bar(x=datos_temp['Semana']+1, y=datos_temp['pm25'],\n",
    "                             name='Estación ' + str(int(max_est_1[i])),\n",
    "                             legendgroup = 'Estación ' + str(int(max_est_1[i])),\n",
    "                             opacity= op,\n",
    "                             marker_color = colors[i]\n",
    "                            ),\n",
    "                      row=1, col=1)\n",
    "\n",
    "\n",
    "\n",
    "    for i in range(np.size(max_est_2)):\n",
    "        \n",
    "        showlegend = False\n",
    "        color = colors[i]\n",
    "        \n",
    "        if np.isin(max_est_2[i], max_est_1) != True:\n",
    "            showlegend = True\n",
    "            color = colors[-1]\n",
    "        \n",
    "        #query for data of each station\n",
    "        datos_temp = d_semanal.loc[d_semanal['codigoSerial'] == max_est_2[i]]\n",
    "\n",
    "        fig.add_trace(go.Bar(x=datos_temp['Semana']+1, y=datos_temp['pm10'],\n",
    "                             name='Estación ' + str(int(max_est_2[i])),\n",
    "                             legendgroup = 'Estación ' + str(int(max_est_2[i])),\n",
    "                             opacity= op,\n",
    "                             marker_color = color,\n",
    "                             showlegend=showlegend\n",
    "                            ),\n",
    "                     row=2, col=1)   \n",
    "        \n",
    "    #Total\n",
    "    \n",
    "    d_temp = datos.groupby(by = datos['Semana']).mean()[['pm25', 'pm10']]\n",
    "    d_temp = d_temp.reset_index()\n",
    "\n",
    "    fig.add_trace(go.Bar(x=d_temp['Semana']+1, y=d_temp['pm25'],\n",
    "                         name='Promedio total ',\n",
    "                         opacity= op,\n",
    "                         legendgroup = 'Promedio total ',\n",
    "                         marker_color = colors[i+1]\n",
    "                                ),\n",
    "                  row=1, col=1)    \n",
    "\n",
    "    fig.add_trace(go.Bar(x=d_temp['Semana']+1, y=d_temp['pm10'],\n",
    "                         name='Promedio total ',\n",
    "                         legendgroup = 'Promedio total ',\n",
    "                         opacity= op,\n",
    "                         marker_color = colors[i+1],\n",
    "                         showlegend=False),\n",
    "                  row=2, col=1)   \n",
    "    \n",
    "    # Porcentaje diario\n",
    "    \n",
    "    d_temp[['pm25','pm10']] = d_temp[['pm25','pm10']]/np.sum(d_temp[['pm25','pm10']])\n",
    "    \n",
    "    fig.add_trace(go.Scatter(x=d_temp['Semana']+1, y=d_temp['pm25'],\n",
    "                             name = 'Porcentaje dia de la semana',\n",
    "                             legendgroup = 'Porcentaje dia de la semana',\n",
    "                             mode = 'lines+markers',\n",
    "                             showlegend = True,\n",
    "                             line = dict(color='black', width=1.5, dash = 'dash')),\n",
    "                  row=1, col=1, secondary_y=True,)\n",
    "    \n",
    "    fig.add_trace(go.Scatter(x=d_temp['Semana']+1, y=d_temp['pm10'],\n",
    "                             name = 'Porcentaje dia de la semana',\n",
    "                             legendgroup = 'Porcentaje dia de la semana',\n",
    "                             mode = 'lines+markers',\n",
    "                             showlegend = False,\n",
    "                             line = dict(color='black', width=1.5, dash = 'dash')),\n",
    "                  row=2, col=1, secondary_y=True,)\n",
    "       \n",
    "        \n",
    "\n",
    "    \n",
    "    #Figure layout\n",
    "    \n",
    "    fig.update_yaxes(title_text= 'pm 2.5',  row=1, col=1, secondary_y=False )\n",
    "    fig.update_yaxes(title_text= 'pm 10', row=2, col=1, secondary_y=False)\n",
    "    \n",
    "    fig.update_yaxes(tickformat= '%', row=1, col=1, secondary_y=True)\n",
    "    fig.update_yaxes(tickformat= '%', row=2, col=1, secondary_y=True)\n",
    "\n",
    "\n",
    "    dim = 1200\n",
    "\n",
    "    fig.update_layout(height=9*dim/16, width=dim, title= 'Promedio diario por estación (2019-2021)',\n",
    "                      title_font_size=20, \n",
    "                      font_size=12,\n",
    "                      legend=dict(\n",
    "                                    orientation=\"h\",\n",
    "                                    yanchor=\"bottom\",\n",
    "                                    y=1.0,\n",
    "                                    xanchor=\"right\",\n",
    "                                    x=0.8\n",
    "                                )\n",
    "                     )\n",
    "    fig.show()\n",
    "\n",
    "    #Write HTML file\n",
    "    fig.write_html(\"Datos_2000_2020/comparativo_diario.html\")\n",
    "\n",
    "#d_temp = fig_bar(max_est_25, max_est_10, datos)"
   ]
  },
  {
   "cell_type": "markdown",
   "metadata": {},
   "source": [
    "## MENSUAL"
   ]
  },
  {
   "cell_type": "code",
   "execution_count": 206,
   "metadata": {
    "ExecuteTime": {
     "end_time": "2021-03-12T17:08:53.671987Z",
     "start_time": "2021-03-12T17:08:53.655189Z"
    },
    "code_folding": []
   },
   "outputs": [],
   "source": [
    "def get_mensual(datos):\n",
    "    d_mensual = datos.groupby(by= [datos['codigoSerial'], pd.DatetimeIndex(datos['Fecha_Hora']).month]).mean()\n",
    "    d_mensual = d_mensual.reset_index()\n",
    "    return d_mensual\n",
    "\n",
    "d_mensual = get_mensual(datos)"
   ]
  },
  {
   "cell_type": "code",
   "execution_count": 207,
   "metadata": {
    "ExecuteTime": {
     "end_time": "2021-03-12T17:08:54.921640Z",
     "start_time": "2021-03-12T17:08:54.766676Z"
    },
    "code_folding": [
     3
    ]
   },
   "outputs": [
    {
     "data": {
      "application/vnd.plotly.v1+json": {
       "config": {
        "plotlyServerURL": "https://plotly.com"
       },
       "data": [
        {
         "legendgroup": "Estación Ken",
         "marker": {
          "color": "salmon"
         },
         "name": "Estación Ken",
         "opacity": 0.75,
         "type": "bar",
         "x": [
          1,
          2,
          3,
          4,
          5,
          6,
          7,
          8,
          9,
          10,
          11,
          12
         ],
         "xaxis": "x",
         "y": [
          29.363636363636363,
          37,
          36.916666666666664,
          29.583333333333332,
          27.083333333333332,
          24.333333333333332,
          23.363636363636363,
          26.333333333333332,
          27.8,
          30.272727272727273,
          30.444444444444443,
          30.818181818181817
         ],
         "yaxis": "y"
        },
        {
         "legendgroup": "Estación MinA",
         "marker": {
          "color": "mediumaquamarine"
         },
         "name": "Estación MinA",
         "opacity": 0.75,
         "type": "bar",
         "x": [
          1,
          2,
          3,
          4,
          5,
          6,
          7,
          8,
          9,
          10,
          11,
          12
         ],
         "xaxis": "x",
         "y": [
          19.8,
          28,
          29.833333333333332,
          21.333333333333332,
          16,
          11.6,
          11.2,
          15.2,
          16.25,
          17.4,
          18.6,
          20
         ],
         "yaxis": "y"
        },
        {
         "legendgroup": "Estación SanC",
         "marker": {
          "color": "slateblue"
         },
         "name": "Estación SanC",
         "opacity": 0.75,
         "type": "bar",
         "x": [
          1,
          2,
          3,
          4,
          5,
          6,
          7,
          8,
          9,
          10,
          11,
          12
         ],
         "xaxis": "x",
         "y": [
          22.833333333333332,
          28.833333333333332,
          31,
          22.5,
          18.5,
          12.6,
          11.5,
          14.8,
          16.5,
          21.833333333333332,
          24.5,
          22
         ],
         "yaxis": "y"
        },
        {
         "legendgroup": "Estación Ken",
         "marker": {
          "color": "salmon"
         },
         "name": "Estación Ken",
         "opacity": 0.75,
         "showlegend": false,
         "type": "bar",
         "x": [
          1,
          2,
          3,
          4,
          5,
          6,
          7,
          8,
          9,
          10,
          11,
          12
         ],
         "xaxis": "x2",
         "y": [
          66.54545454545455,
          83.3,
          76.3,
          61.18181818181818,
          59.09090909090909,
          55.75,
          54.5,
          59.166666666666664,
          61.09090909090909,
          66.5,
          66,
          64.58333333333333
         ],
         "yaxis": "y3"
        },
        {
         "legendgroup": "Estación MinA",
         "marker": {
          "color": "mediumaquamarine"
         },
         "name": "Estación MinA",
         "opacity": 0.75,
         "showlegend": false,
         "type": "bar",
         "x": [
          1,
          2,
          3,
          4,
          5,
          6,
          7,
          8,
          9,
          10,
          11,
          12
         ],
         "xaxis": "x2",
         "y": [
          48.2,
          63.2,
          63.25,
          41.75,
          35,
          37.8,
          36.2,
          38.75,
          46.333333333333336,
          46.2,
          44.8,
          45.4
         ],
         "yaxis": "y3"
        },
        {
         "legendgroup": "Estación SanC",
         "marker": {
          "color": "slateblue"
         },
         "name": "Estación SanC",
         "opacity": 0.75,
         "showlegend": false,
         "type": "bar",
         "x": [
          1,
          2,
          3,
          4,
          5,
          6,
          7,
          8,
          9,
          10,
          11,
          12
         ],
         "xaxis": "x2",
         "y": [
          46,
          52.5,
          45.8,
          28.6,
          29.4,
          30.166666666666668,
          27.833333333333332,
          33,
          35.5,
          39.833333333333336,
          50,
          43
         ],
         "yaxis": "y3"
        },
        {
         "legendgroup": "Promedio total ",
         "marker": {
          "color": "grey"
         },
         "name": "Promedio total ",
         "opacity": 0.75,
         "type": "bar",
         "x": [
          1,
          2,
          3,
          4,
          5,
          6,
          7,
          8,
          9,
          10,
          11,
          12
         ],
         "xaxis": "x",
         "y": [
          20.169696969696968,
          25.075,
          26.75,
          19.166666666666664,
          15.26666666666667,
          11.776666666666666,
          10.553030303030303,
          12.578333333333333,
          14.830000000000002,
          17.080606060606062,
          19.70444444444444,
          18.323484848484846
         ],
         "yaxis": "y"
        },
        {
         "legendgroup": "Promedio total ",
         "marker": {
          "color": "grey"
         },
         "name": "Promedio total ",
         "opacity": 0.75,
         "showlegend": false,
         "type": "bar",
         "x": [
          1,
          2,
          3,
          4,
          5,
          6,
          7,
          8,
          9,
          10,
          11,
          12
         ],
         "xaxis": "x2",
         "y": [
          45.26170798898072,
          54.469696969696955,
          53.23030303030304,
          37.736225895316814,
          34.70068870523416,
          30.716666666666665,
          27.039393939393936,
          30.262121212121205,
          35.94765840220386,
          40.52424242424243,
          44.76969696969697,
          42.38484848484848
         ],
         "yaxis": "y3"
        },
        {
         "legendgroup": "Porcentaje mes del año",
         "line": {
          "color": "black",
          "dash": "dash",
          "width": 1.5
         },
         "mode": "lines+markers",
         "name": "Porcentaje mes del año",
         "showlegend": true,
         "type": "scatter",
         "x": [
          1,
          2,
          3,
          4,
          5,
          6,
          7,
          8,
          9,
          10,
          11,
          12
         ],
         "xaxis": "x",
         "y": [
          0.09546674023011366,
          0.11868440635804282,
          0.12661247737099285,
          0.09071922054619425,
          0.07225983132201214,
          0.055741044554731174,
          0.0499493573995449,
          0.05953547456192417,
          0.07019301081913361,
          0.08084552704042348,
          0.09326461780673673,
          0.0867282919901502
         ],
         "yaxis": "y2"
        },
        {
         "legendgroup": "Porcentaje mes del año",
         "line": {
          "color": "black",
          "dash": "dash",
          "width": 1.5
         },
         "mode": "lines+markers",
         "name": "Porcentaje mes del año",
         "showlegend": false,
         "type": "scatter",
         "x": [
          1,
          2,
          3,
          4,
          5,
          6,
          7,
          8,
          9,
          10,
          11,
          12
         ],
         "xaxis": "x2",
         "y": [
          0.09487967374789728,
          0.11418188369934865,
          0.11158380912727452,
          0.07910441210694669,
          0.07274117945309347,
          0.06438968924163826,
          0.05668122104307584,
          0.06343685015652548,
          0.07535513467658622,
          0.08494878056808847,
          0.09384829762304187,
          0.08884906855648345
         ],
         "yaxis": "y4"
        }
       ],
       "layout": {
        "font": {
         "size": 20
        },
        "height": 675,
        "legend": {
         "orientation": "h",
         "x": 0.95,
         "xanchor": "right",
         "y": 1,
         "yanchor": "bottom"
        },
        "template": {
         "data": {
          "bar": [
           {
            "error_x": {
             "color": "#2a3f5f"
            },
            "error_y": {
             "color": "#2a3f5f"
            },
            "marker": {
             "line": {
              "color": "#E5ECF6",
              "width": 0.5
             }
            },
            "type": "bar"
           }
          ],
          "barpolar": [
           {
            "marker": {
             "line": {
              "color": "#E5ECF6",
              "width": 0.5
             }
            },
            "type": "barpolar"
           }
          ],
          "carpet": [
           {
            "aaxis": {
             "endlinecolor": "#2a3f5f",
             "gridcolor": "white",
             "linecolor": "white",
             "minorgridcolor": "white",
             "startlinecolor": "#2a3f5f"
            },
            "baxis": {
             "endlinecolor": "#2a3f5f",
             "gridcolor": "white",
             "linecolor": "white",
             "minorgridcolor": "white",
             "startlinecolor": "#2a3f5f"
            },
            "type": "carpet"
           }
          ],
          "choropleth": [
           {
            "colorbar": {
             "outlinewidth": 0,
             "ticks": ""
            },
            "type": "choropleth"
           }
          ],
          "contour": [
           {
            "colorbar": {
             "outlinewidth": 0,
             "ticks": ""
            },
            "colorscale": [
             [
              0,
              "#0d0887"
             ],
             [
              0.1111111111111111,
              "#46039f"
             ],
             [
              0.2222222222222222,
              "#7201a8"
             ],
             [
              0.3333333333333333,
              "#9c179e"
             ],
             [
              0.4444444444444444,
              "#bd3786"
             ],
             [
              0.5555555555555556,
              "#d8576b"
             ],
             [
              0.6666666666666666,
              "#ed7953"
             ],
             [
              0.7777777777777778,
              "#fb9f3a"
             ],
             [
              0.8888888888888888,
              "#fdca26"
             ],
             [
              1,
              "#f0f921"
             ]
            ],
            "type": "contour"
           }
          ],
          "contourcarpet": [
           {
            "colorbar": {
             "outlinewidth": 0,
             "ticks": ""
            },
            "type": "contourcarpet"
           }
          ],
          "heatmap": [
           {
            "colorbar": {
             "outlinewidth": 0,
             "ticks": ""
            },
            "colorscale": [
             [
              0,
              "#0d0887"
             ],
             [
              0.1111111111111111,
              "#46039f"
             ],
             [
              0.2222222222222222,
              "#7201a8"
             ],
             [
              0.3333333333333333,
              "#9c179e"
             ],
             [
              0.4444444444444444,
              "#bd3786"
             ],
             [
              0.5555555555555556,
              "#d8576b"
             ],
             [
              0.6666666666666666,
              "#ed7953"
             ],
             [
              0.7777777777777778,
              "#fb9f3a"
             ],
             [
              0.8888888888888888,
              "#fdca26"
             ],
             [
              1,
              "#f0f921"
             ]
            ],
            "type": "heatmap"
           }
          ],
          "heatmapgl": [
           {
            "colorbar": {
             "outlinewidth": 0,
             "ticks": ""
            },
            "colorscale": [
             [
              0,
              "#0d0887"
             ],
             [
              0.1111111111111111,
              "#46039f"
             ],
             [
              0.2222222222222222,
              "#7201a8"
             ],
             [
              0.3333333333333333,
              "#9c179e"
             ],
             [
              0.4444444444444444,
              "#bd3786"
             ],
             [
              0.5555555555555556,
              "#d8576b"
             ],
             [
              0.6666666666666666,
              "#ed7953"
             ],
             [
              0.7777777777777778,
              "#fb9f3a"
             ],
             [
              0.8888888888888888,
              "#fdca26"
             ],
             [
              1,
              "#f0f921"
             ]
            ],
            "type": "heatmapgl"
           }
          ],
          "histogram": [
           {
            "marker": {
             "colorbar": {
              "outlinewidth": 0,
              "ticks": ""
             }
            },
            "type": "histogram"
           }
          ],
          "histogram2d": [
           {
            "colorbar": {
             "outlinewidth": 0,
             "ticks": ""
            },
            "colorscale": [
             [
              0,
              "#0d0887"
             ],
             [
              0.1111111111111111,
              "#46039f"
             ],
             [
              0.2222222222222222,
              "#7201a8"
             ],
             [
              0.3333333333333333,
              "#9c179e"
             ],
             [
              0.4444444444444444,
              "#bd3786"
             ],
             [
              0.5555555555555556,
              "#d8576b"
             ],
             [
              0.6666666666666666,
              "#ed7953"
             ],
             [
              0.7777777777777778,
              "#fb9f3a"
             ],
             [
              0.8888888888888888,
              "#fdca26"
             ],
             [
              1,
              "#f0f921"
             ]
            ],
            "type": "histogram2d"
           }
          ],
          "histogram2dcontour": [
           {
            "colorbar": {
             "outlinewidth": 0,
             "ticks": ""
            },
            "colorscale": [
             [
              0,
              "#0d0887"
             ],
             [
              0.1111111111111111,
              "#46039f"
             ],
             [
              0.2222222222222222,
              "#7201a8"
             ],
             [
              0.3333333333333333,
              "#9c179e"
             ],
             [
              0.4444444444444444,
              "#bd3786"
             ],
             [
              0.5555555555555556,
              "#d8576b"
             ],
             [
              0.6666666666666666,
              "#ed7953"
             ],
             [
              0.7777777777777778,
              "#fb9f3a"
             ],
             [
              0.8888888888888888,
              "#fdca26"
             ],
             [
              1,
              "#f0f921"
             ]
            ],
            "type": "histogram2dcontour"
           }
          ],
          "mesh3d": [
           {
            "colorbar": {
             "outlinewidth": 0,
             "ticks": ""
            },
            "type": "mesh3d"
           }
          ],
          "parcoords": [
           {
            "line": {
             "colorbar": {
              "outlinewidth": 0,
              "ticks": ""
             }
            },
            "type": "parcoords"
           }
          ],
          "pie": [
           {
            "automargin": true,
            "type": "pie"
           }
          ],
          "scatter": [
           {
            "marker": {
             "colorbar": {
              "outlinewidth": 0,
              "ticks": ""
             }
            },
            "type": "scatter"
           }
          ],
          "scatter3d": [
           {
            "line": {
             "colorbar": {
              "outlinewidth": 0,
              "ticks": ""
             }
            },
            "marker": {
             "colorbar": {
              "outlinewidth": 0,
              "ticks": ""
             }
            },
            "type": "scatter3d"
           }
          ],
          "scattercarpet": [
           {
            "marker": {
             "colorbar": {
              "outlinewidth": 0,
              "ticks": ""
             }
            },
            "type": "scattercarpet"
           }
          ],
          "scattergeo": [
           {
            "marker": {
             "colorbar": {
              "outlinewidth": 0,
              "ticks": ""
             }
            },
            "type": "scattergeo"
           }
          ],
          "scattergl": [
           {
            "marker": {
             "colorbar": {
              "outlinewidth": 0,
              "ticks": ""
             }
            },
            "type": "scattergl"
           }
          ],
          "scattermapbox": [
           {
            "marker": {
             "colorbar": {
              "outlinewidth": 0,
              "ticks": ""
             }
            },
            "type": "scattermapbox"
           }
          ],
          "scatterpolar": [
           {
            "marker": {
             "colorbar": {
              "outlinewidth": 0,
              "ticks": ""
             }
            },
            "type": "scatterpolar"
           }
          ],
          "scatterpolargl": [
           {
            "marker": {
             "colorbar": {
              "outlinewidth": 0,
              "ticks": ""
             }
            },
            "type": "scatterpolargl"
           }
          ],
          "scatterternary": [
           {
            "marker": {
             "colorbar": {
              "outlinewidth": 0,
              "ticks": ""
             }
            },
            "type": "scatterternary"
           }
          ],
          "surface": [
           {
            "colorbar": {
             "outlinewidth": 0,
             "ticks": ""
            },
            "colorscale": [
             [
              0,
              "#0d0887"
             ],
             [
              0.1111111111111111,
              "#46039f"
             ],
             [
              0.2222222222222222,
              "#7201a8"
             ],
             [
              0.3333333333333333,
              "#9c179e"
             ],
             [
              0.4444444444444444,
              "#bd3786"
             ],
             [
              0.5555555555555556,
              "#d8576b"
             ],
             [
              0.6666666666666666,
              "#ed7953"
             ],
             [
              0.7777777777777778,
              "#fb9f3a"
             ],
             [
              0.8888888888888888,
              "#fdca26"
             ],
             [
              1,
              "#f0f921"
             ]
            ],
            "type": "surface"
           }
          ],
          "table": [
           {
            "cells": {
             "fill": {
              "color": "#EBF0F8"
             },
             "line": {
              "color": "white"
             }
            },
            "header": {
             "fill": {
              "color": "#C8D4E3"
             },
             "line": {
              "color": "white"
             }
            },
            "type": "table"
           }
          ]
         },
         "layout": {
          "annotationdefaults": {
           "arrowcolor": "#2a3f5f",
           "arrowhead": 0,
           "arrowwidth": 1
          },
          "coloraxis": {
           "colorbar": {
            "outlinewidth": 0,
            "ticks": ""
           }
          },
          "colorscale": {
           "diverging": [
            [
             0,
             "#8e0152"
            ],
            [
             0.1,
             "#c51b7d"
            ],
            [
             0.2,
             "#de77ae"
            ],
            [
             0.3,
             "#f1b6da"
            ],
            [
             0.4,
             "#fde0ef"
            ],
            [
             0.5,
             "#f7f7f7"
            ],
            [
             0.6,
             "#e6f5d0"
            ],
            [
             0.7,
             "#b8e186"
            ],
            [
             0.8,
             "#7fbc41"
            ],
            [
             0.9,
             "#4d9221"
            ],
            [
             1,
             "#276419"
            ]
           ],
           "sequential": [
            [
             0,
             "#0d0887"
            ],
            [
             0.1111111111111111,
             "#46039f"
            ],
            [
             0.2222222222222222,
             "#7201a8"
            ],
            [
             0.3333333333333333,
             "#9c179e"
            ],
            [
             0.4444444444444444,
             "#bd3786"
            ],
            [
             0.5555555555555556,
             "#d8576b"
            ],
            [
             0.6666666666666666,
             "#ed7953"
            ],
            [
             0.7777777777777778,
             "#fb9f3a"
            ],
            [
             0.8888888888888888,
             "#fdca26"
            ],
            [
             1,
             "#f0f921"
            ]
           ],
           "sequentialminus": [
            [
             0,
             "#0d0887"
            ],
            [
             0.1111111111111111,
             "#46039f"
            ],
            [
             0.2222222222222222,
             "#7201a8"
            ],
            [
             0.3333333333333333,
             "#9c179e"
            ],
            [
             0.4444444444444444,
             "#bd3786"
            ],
            [
             0.5555555555555556,
             "#d8576b"
            ],
            [
             0.6666666666666666,
             "#ed7953"
            ],
            [
             0.7777777777777778,
             "#fb9f3a"
            ],
            [
             0.8888888888888888,
             "#fdca26"
            ],
            [
             1,
             "#f0f921"
            ]
           ]
          },
          "colorway": [
           "#636efa",
           "#EF553B",
           "#00cc96",
           "#ab63fa",
           "#FFA15A",
           "#19d3f3",
           "#FF6692",
           "#B6E880",
           "#FF97FF",
           "#FECB52"
          ],
          "font": {
           "color": "#2a3f5f"
          },
          "geo": {
           "bgcolor": "white",
           "lakecolor": "white",
           "landcolor": "#E5ECF6",
           "showlakes": true,
           "showland": true,
           "subunitcolor": "white"
          },
          "hoverlabel": {
           "align": "left"
          },
          "hovermode": "closest",
          "mapbox": {
           "style": "light"
          },
          "paper_bgcolor": "white",
          "plot_bgcolor": "#E5ECF6",
          "polar": {
           "angularaxis": {
            "gridcolor": "white",
            "linecolor": "white",
            "ticks": ""
           },
           "bgcolor": "#E5ECF6",
           "radialaxis": {
            "gridcolor": "white",
            "linecolor": "white",
            "ticks": ""
           }
          },
          "scene": {
           "xaxis": {
            "backgroundcolor": "#E5ECF6",
            "gridcolor": "white",
            "gridwidth": 2,
            "linecolor": "white",
            "showbackground": true,
            "ticks": "",
            "zerolinecolor": "white"
           },
           "yaxis": {
            "backgroundcolor": "#E5ECF6",
            "gridcolor": "white",
            "gridwidth": 2,
            "linecolor": "white",
            "showbackground": true,
            "ticks": "",
            "zerolinecolor": "white"
           },
           "zaxis": {
            "backgroundcolor": "#E5ECF6",
            "gridcolor": "white",
            "gridwidth": 2,
            "linecolor": "white",
            "showbackground": true,
            "ticks": "",
            "zerolinecolor": "white"
           }
          },
          "shapedefaults": {
           "line": {
            "color": "#2a3f5f"
           }
          },
          "ternary": {
           "aaxis": {
            "gridcolor": "white",
            "linecolor": "white",
            "ticks": ""
           },
           "baxis": {
            "gridcolor": "white",
            "linecolor": "white",
            "ticks": ""
           },
           "bgcolor": "#E5ECF6",
           "caxis": {
            "gridcolor": "white",
            "linecolor": "white",
            "ticks": ""
           }
          },
          "title": {
           "x": 0.05
          },
          "xaxis": {
           "automargin": true,
           "gridcolor": "white",
           "linecolor": "white",
           "ticks": "",
           "title": {
            "standoff": 15
           },
           "zerolinecolor": "white",
           "zerolinewidth": 2
          },
          "yaxis": {
           "automargin": true,
           "gridcolor": "white",
           "linecolor": "white",
           "ticks": "",
           "title": {
            "standoff": 15
           },
           "zerolinecolor": "white",
           "zerolinewidth": 2
          }
         }
        },
        "title": {
         "font": {
          "size": 25
         },
         "text": "Promedio mensual por estación (2014-2019)"
        },
        "width": 1200,
        "xaxis": {
         "anchor": "y",
         "domain": [
          0,
          0.94
         ],
         "matches": "x2",
         "showticklabels": false,
         "tickmode": "array",
         "ticktext": [
          "Jan",
          "Feb",
          "Mar",
          "Apr",
          "May",
          "Jun",
          "Jul",
          "Aug",
          "Sep",
          "Oct",
          "Nov",
          "Dec"
         ],
         "tickvals": [
          1,
          2,
          3,
          4,
          5,
          6,
          7,
          8,
          9,
          10,
          11,
          12
         ]
        },
        "xaxis2": {
         "anchor": "y3",
         "domain": [
          0,
          0.94
         ],
         "tickmode": "array",
         "ticktext": [
          "Jan",
          "Feb",
          "Mar",
          "Apr",
          "May",
          "Jun",
          "Jul",
          "Aug",
          "Sep",
          "Oct",
          "Nov",
          "Dec"
         ],
         "tickvals": [
          1,
          2,
          3,
          4,
          5,
          6,
          7,
          8,
          9,
          10,
          11,
          12
         ]
        },
        "yaxis": {
         "anchor": "x",
         "domain": [
          0.515,
          1
         ],
         "title": {
          "text": "pm 2.5 (μg/m³)"
         }
        },
        "yaxis2": {
         "anchor": "x",
         "overlaying": "y",
         "side": "right",
         "tickformat": "%"
        },
        "yaxis3": {
         "anchor": "x2",
         "domain": [
          0,
          0.485
         ],
         "title": {
          "text": "pm 10 (μg/m³)"
         }
        },
        "yaxis4": {
         "anchor": "x2",
         "overlaying": "y3",
         "side": "right",
         "tickformat": "%"
        }
       }
      },
      "text/html": [
       "<div>\n",
       "        \n",
       "        \n",
       "            <div id=\"8b08e5f4-7ed4-429b-8d44-744f08a0947e\" class=\"plotly-graph-div\" style=\"height:675.0px; width:1200px;\"></div>\n",
       "            <script type=\"text/javascript\">\n",
       "                require([\"plotly\"], function(Plotly) {\n",
       "                    window.PLOTLYENV=window.PLOTLYENV || {};\n",
       "                    \n",
       "                if (document.getElementById(\"8b08e5f4-7ed4-429b-8d44-744f08a0947e\")) {\n",
       "                    Plotly.newPlot(\n",
       "                        '8b08e5f4-7ed4-429b-8d44-744f08a0947e',\n",
       "                        [{\"legendgroup\": \"Estaci\\u00f3n Ken\", \"marker\": {\"color\": \"salmon\"}, \"name\": \"Estaci\\u00f3n Ken\", \"opacity\": 0.75, \"type\": \"bar\", \"x\": [1, 2, 3, 4, 5, 6, 7, 8, 9, 10, 11, 12], \"xaxis\": \"x\", \"y\": [29.363636363636363, 37.0, 36.916666666666664, 29.583333333333332, 27.083333333333332, 24.333333333333332, 23.363636363636363, 26.333333333333332, 27.8, 30.272727272727273, 30.444444444444443, 30.818181818181817], \"yaxis\": \"y\"}, {\"legendgroup\": \"Estaci\\u00f3n MinA\", \"marker\": {\"color\": \"mediumaquamarine\"}, \"name\": \"Estaci\\u00f3n MinA\", \"opacity\": 0.75, \"type\": \"bar\", \"x\": [1, 2, 3, 4, 5, 6, 7, 8, 9, 10, 11, 12], \"xaxis\": \"x\", \"y\": [19.8, 28.0, 29.833333333333332, 21.333333333333332, 16.0, 11.6, 11.2, 15.2, 16.25, 17.4, 18.6, 20.0], \"yaxis\": \"y\"}, {\"legendgroup\": \"Estaci\\u00f3n SanC\", \"marker\": {\"color\": \"slateblue\"}, \"name\": \"Estaci\\u00f3n SanC\", \"opacity\": 0.75, \"type\": \"bar\", \"x\": [1, 2, 3, 4, 5, 6, 7, 8, 9, 10, 11, 12], \"xaxis\": \"x\", \"y\": [22.833333333333332, 28.833333333333332, 31.0, 22.5, 18.5, 12.6, 11.5, 14.8, 16.5, 21.833333333333332, 24.5, 22.0], \"yaxis\": \"y\"}, {\"legendgroup\": \"Estaci\\u00f3n Ken\", \"marker\": {\"color\": \"salmon\"}, \"name\": \"Estaci\\u00f3n Ken\", \"opacity\": 0.75, \"showlegend\": false, \"type\": \"bar\", \"x\": [1, 2, 3, 4, 5, 6, 7, 8, 9, 10, 11, 12], \"xaxis\": \"x2\", \"y\": [66.54545454545455, 83.3, 76.3, 61.18181818181818, 59.09090909090909, 55.75, 54.5, 59.166666666666664, 61.09090909090909, 66.5, 66.0, 64.58333333333333], \"yaxis\": \"y3\"}, {\"legendgroup\": \"Estaci\\u00f3n MinA\", \"marker\": {\"color\": \"mediumaquamarine\"}, \"name\": \"Estaci\\u00f3n MinA\", \"opacity\": 0.75, \"showlegend\": false, \"type\": \"bar\", \"x\": [1, 2, 3, 4, 5, 6, 7, 8, 9, 10, 11, 12], \"xaxis\": \"x2\", \"y\": [48.2, 63.2, 63.25, 41.75, 35.0, 37.8, 36.2, 38.75, 46.333333333333336, 46.2, 44.8, 45.4], \"yaxis\": \"y3\"}, {\"legendgroup\": \"Estaci\\u00f3n SanC\", \"marker\": {\"color\": \"slateblue\"}, \"name\": \"Estaci\\u00f3n SanC\", \"opacity\": 0.75, \"showlegend\": false, \"type\": \"bar\", \"x\": [1, 2, 3, 4, 5, 6, 7, 8, 9, 10, 11, 12], \"xaxis\": \"x2\", \"y\": [46.0, 52.5, 45.8, 28.6, 29.4, 30.166666666666668, 27.833333333333332, 33.0, 35.5, 39.833333333333336, 50.0, 43.0], \"yaxis\": \"y3\"}, {\"legendgroup\": \"Promedio total \", \"marker\": {\"color\": \"grey\"}, \"name\": \"Promedio total \", \"opacity\": 0.75, \"type\": \"bar\", \"x\": [1, 2, 3, 4, 5, 6, 7, 8, 9, 10, 11, 12], \"xaxis\": \"x\", \"y\": [20.169696969696968, 25.075, 26.75, 19.166666666666664, 15.26666666666667, 11.776666666666666, 10.553030303030303, 12.578333333333333, 14.830000000000002, 17.080606060606062, 19.70444444444444, 18.323484848484846], \"yaxis\": \"y\"}, {\"legendgroup\": \"Promedio total \", \"marker\": {\"color\": \"grey\"}, \"name\": \"Promedio total \", \"opacity\": 0.75, \"showlegend\": false, \"type\": \"bar\", \"x\": [1, 2, 3, 4, 5, 6, 7, 8, 9, 10, 11, 12], \"xaxis\": \"x2\", \"y\": [45.26170798898072, 54.469696969696955, 53.23030303030304, 37.736225895316814, 34.70068870523416, 30.716666666666665, 27.039393939393936, 30.262121212121205, 35.94765840220386, 40.52424242424243, 44.76969696969697, 42.38484848484848], \"yaxis\": \"y3\"}, {\"legendgroup\": \"Porcentaje mes del a\\u00f1o\", \"line\": {\"color\": \"black\", \"dash\": \"dash\", \"width\": 1.5}, \"mode\": \"lines+markers\", \"name\": \"Porcentaje mes del a\\u00f1o\", \"showlegend\": true, \"type\": \"scatter\", \"x\": [1, 2, 3, 4, 5, 6, 7, 8, 9, 10, 11, 12], \"xaxis\": \"x\", \"y\": [0.09546674023011366, 0.11868440635804282, 0.12661247737099285, 0.09071922054619425, 0.07225983132201214, 0.055741044554731174, 0.0499493573995449, 0.05953547456192417, 0.07019301081913361, 0.08084552704042348, 0.09326461780673673, 0.0867282919901502], \"yaxis\": \"y2\"}, {\"legendgroup\": \"Porcentaje mes del a\\u00f1o\", \"line\": {\"color\": \"black\", \"dash\": \"dash\", \"width\": 1.5}, \"mode\": \"lines+markers\", \"name\": \"Porcentaje mes del a\\u00f1o\", \"showlegend\": false, \"type\": \"scatter\", \"x\": [1, 2, 3, 4, 5, 6, 7, 8, 9, 10, 11, 12], \"xaxis\": \"x2\", \"y\": [0.09487967374789728, 0.11418188369934865, 0.11158380912727452, 0.07910441210694669, 0.07274117945309347, 0.06438968924163826, 0.05668122104307584, 0.06343685015652548, 0.07535513467658622, 0.08494878056808847, 0.09384829762304187, 0.08884906855648345], \"yaxis\": \"y4\"}],\n",
       "                        {\"font\": {\"size\": 20}, \"height\": 675.0, \"legend\": {\"orientation\": \"h\", \"x\": 0.95, \"xanchor\": \"right\", \"y\": 1.0, \"yanchor\": \"bottom\"}, \"template\": {\"data\": {\"bar\": [{\"error_x\": {\"color\": \"#2a3f5f\"}, \"error_y\": {\"color\": \"#2a3f5f\"}, \"marker\": {\"line\": {\"color\": \"#E5ECF6\", \"width\": 0.5}}, \"type\": \"bar\"}], \"barpolar\": [{\"marker\": {\"line\": {\"color\": \"#E5ECF6\", \"width\": 0.5}}, \"type\": \"barpolar\"}], \"carpet\": [{\"aaxis\": {\"endlinecolor\": \"#2a3f5f\", \"gridcolor\": \"white\", \"linecolor\": \"white\", \"minorgridcolor\": \"white\", \"startlinecolor\": \"#2a3f5f\"}, \"baxis\": {\"endlinecolor\": \"#2a3f5f\", \"gridcolor\": \"white\", \"linecolor\": \"white\", \"minorgridcolor\": \"white\", \"startlinecolor\": \"#2a3f5f\"}, \"type\": \"carpet\"}], \"choropleth\": [{\"colorbar\": {\"outlinewidth\": 0, \"ticks\": \"\"}, \"type\": \"choropleth\"}], \"contour\": [{\"colorbar\": {\"outlinewidth\": 0, \"ticks\": \"\"}, \"colorscale\": [[0.0, \"#0d0887\"], [0.1111111111111111, \"#46039f\"], [0.2222222222222222, \"#7201a8\"], [0.3333333333333333, \"#9c179e\"], [0.4444444444444444, \"#bd3786\"], [0.5555555555555556, \"#d8576b\"], [0.6666666666666666, \"#ed7953\"], [0.7777777777777778, \"#fb9f3a\"], [0.8888888888888888, \"#fdca26\"], [1.0, \"#f0f921\"]], \"type\": \"contour\"}], \"contourcarpet\": [{\"colorbar\": {\"outlinewidth\": 0, \"ticks\": \"\"}, \"type\": \"contourcarpet\"}], \"heatmap\": [{\"colorbar\": {\"outlinewidth\": 0, \"ticks\": \"\"}, \"colorscale\": [[0.0, \"#0d0887\"], [0.1111111111111111, \"#46039f\"], [0.2222222222222222, \"#7201a8\"], [0.3333333333333333, \"#9c179e\"], [0.4444444444444444, \"#bd3786\"], [0.5555555555555556, \"#d8576b\"], [0.6666666666666666, \"#ed7953\"], [0.7777777777777778, \"#fb9f3a\"], [0.8888888888888888, \"#fdca26\"], [1.0, \"#f0f921\"]], \"type\": \"heatmap\"}], \"heatmapgl\": [{\"colorbar\": {\"outlinewidth\": 0, \"ticks\": \"\"}, \"colorscale\": [[0.0, \"#0d0887\"], [0.1111111111111111, \"#46039f\"], [0.2222222222222222, \"#7201a8\"], [0.3333333333333333, \"#9c179e\"], [0.4444444444444444, \"#bd3786\"], [0.5555555555555556, \"#d8576b\"], [0.6666666666666666, \"#ed7953\"], [0.7777777777777778, \"#fb9f3a\"], [0.8888888888888888, \"#fdca26\"], [1.0, \"#f0f921\"]], \"type\": \"heatmapgl\"}], \"histogram\": [{\"marker\": {\"colorbar\": {\"outlinewidth\": 0, \"ticks\": \"\"}}, \"type\": \"histogram\"}], \"histogram2d\": [{\"colorbar\": {\"outlinewidth\": 0, \"ticks\": \"\"}, \"colorscale\": [[0.0, \"#0d0887\"], [0.1111111111111111, \"#46039f\"], [0.2222222222222222, \"#7201a8\"], [0.3333333333333333, \"#9c179e\"], [0.4444444444444444, \"#bd3786\"], [0.5555555555555556, \"#d8576b\"], [0.6666666666666666, \"#ed7953\"], [0.7777777777777778, \"#fb9f3a\"], [0.8888888888888888, \"#fdca26\"], [1.0, \"#f0f921\"]], \"type\": \"histogram2d\"}], \"histogram2dcontour\": [{\"colorbar\": {\"outlinewidth\": 0, \"ticks\": \"\"}, \"colorscale\": [[0.0, \"#0d0887\"], [0.1111111111111111, \"#46039f\"], [0.2222222222222222, \"#7201a8\"], [0.3333333333333333, \"#9c179e\"], [0.4444444444444444, \"#bd3786\"], [0.5555555555555556, \"#d8576b\"], [0.6666666666666666, \"#ed7953\"], [0.7777777777777778, \"#fb9f3a\"], [0.8888888888888888, \"#fdca26\"], [1.0, \"#f0f921\"]], \"type\": \"histogram2dcontour\"}], \"mesh3d\": [{\"colorbar\": {\"outlinewidth\": 0, \"ticks\": \"\"}, \"type\": \"mesh3d\"}], \"parcoords\": [{\"line\": {\"colorbar\": {\"outlinewidth\": 0, \"ticks\": \"\"}}, \"type\": \"parcoords\"}], \"pie\": [{\"automargin\": true, \"type\": \"pie\"}], \"scatter\": [{\"marker\": {\"colorbar\": {\"outlinewidth\": 0, \"ticks\": \"\"}}, \"type\": \"scatter\"}], \"scatter3d\": [{\"line\": {\"colorbar\": {\"outlinewidth\": 0, \"ticks\": \"\"}}, \"marker\": {\"colorbar\": {\"outlinewidth\": 0, \"ticks\": \"\"}}, \"type\": \"scatter3d\"}], \"scattercarpet\": [{\"marker\": {\"colorbar\": {\"outlinewidth\": 0, \"ticks\": \"\"}}, \"type\": \"scattercarpet\"}], \"scattergeo\": [{\"marker\": {\"colorbar\": {\"outlinewidth\": 0, \"ticks\": \"\"}}, \"type\": \"scattergeo\"}], \"scattergl\": [{\"marker\": {\"colorbar\": {\"outlinewidth\": 0, \"ticks\": \"\"}}, \"type\": \"scattergl\"}], \"scattermapbox\": [{\"marker\": {\"colorbar\": {\"outlinewidth\": 0, \"ticks\": \"\"}}, \"type\": \"scattermapbox\"}], \"scatterpolar\": [{\"marker\": {\"colorbar\": {\"outlinewidth\": 0, \"ticks\": \"\"}}, \"type\": \"scatterpolar\"}], \"scatterpolargl\": [{\"marker\": {\"colorbar\": {\"outlinewidth\": 0, \"ticks\": \"\"}}, \"type\": \"scatterpolargl\"}], \"scatterternary\": [{\"marker\": {\"colorbar\": {\"outlinewidth\": 0, \"ticks\": \"\"}}, \"type\": \"scatterternary\"}], \"surface\": [{\"colorbar\": {\"outlinewidth\": 0, \"ticks\": \"\"}, \"colorscale\": [[0.0, \"#0d0887\"], [0.1111111111111111, \"#46039f\"], [0.2222222222222222, \"#7201a8\"], [0.3333333333333333, \"#9c179e\"], [0.4444444444444444, \"#bd3786\"], [0.5555555555555556, \"#d8576b\"], [0.6666666666666666, \"#ed7953\"], [0.7777777777777778, \"#fb9f3a\"], [0.8888888888888888, \"#fdca26\"], [1.0, \"#f0f921\"]], \"type\": \"surface\"}], \"table\": [{\"cells\": {\"fill\": {\"color\": \"#EBF0F8\"}, \"line\": {\"color\": \"white\"}}, \"header\": {\"fill\": {\"color\": \"#C8D4E3\"}, \"line\": {\"color\": \"white\"}}, \"type\": \"table\"}]}, \"layout\": {\"annotationdefaults\": {\"arrowcolor\": \"#2a3f5f\", \"arrowhead\": 0, \"arrowwidth\": 1}, \"coloraxis\": {\"colorbar\": {\"outlinewidth\": 0, \"ticks\": \"\"}}, \"colorscale\": {\"diverging\": [[0, \"#8e0152\"], [0.1, \"#c51b7d\"], [0.2, \"#de77ae\"], [0.3, \"#f1b6da\"], [0.4, \"#fde0ef\"], [0.5, \"#f7f7f7\"], [0.6, \"#e6f5d0\"], [0.7, \"#b8e186\"], [0.8, \"#7fbc41\"], [0.9, \"#4d9221\"], [1, \"#276419\"]], \"sequential\": [[0.0, \"#0d0887\"], [0.1111111111111111, \"#46039f\"], [0.2222222222222222, \"#7201a8\"], [0.3333333333333333, \"#9c179e\"], [0.4444444444444444, \"#bd3786\"], [0.5555555555555556, \"#d8576b\"], [0.6666666666666666, \"#ed7953\"], [0.7777777777777778, \"#fb9f3a\"], [0.8888888888888888, \"#fdca26\"], [1.0, \"#f0f921\"]], \"sequentialminus\": [[0.0, \"#0d0887\"], [0.1111111111111111, \"#46039f\"], [0.2222222222222222, \"#7201a8\"], [0.3333333333333333, \"#9c179e\"], [0.4444444444444444, \"#bd3786\"], [0.5555555555555556, \"#d8576b\"], [0.6666666666666666, \"#ed7953\"], [0.7777777777777778, \"#fb9f3a\"], [0.8888888888888888, \"#fdca26\"], [1.0, \"#f0f921\"]]}, \"colorway\": [\"#636efa\", \"#EF553B\", \"#00cc96\", \"#ab63fa\", \"#FFA15A\", \"#19d3f3\", \"#FF6692\", \"#B6E880\", \"#FF97FF\", \"#FECB52\"], \"font\": {\"color\": \"#2a3f5f\"}, \"geo\": {\"bgcolor\": \"white\", \"lakecolor\": \"white\", \"landcolor\": \"#E5ECF6\", \"showlakes\": true, \"showland\": true, \"subunitcolor\": \"white\"}, \"hoverlabel\": {\"align\": \"left\"}, \"hovermode\": \"closest\", \"mapbox\": {\"style\": \"light\"}, \"paper_bgcolor\": \"white\", \"plot_bgcolor\": \"#E5ECF6\", \"polar\": {\"angularaxis\": {\"gridcolor\": \"white\", \"linecolor\": \"white\", \"ticks\": \"\"}, \"bgcolor\": \"#E5ECF6\", \"radialaxis\": {\"gridcolor\": \"white\", \"linecolor\": \"white\", \"ticks\": \"\"}}, \"scene\": {\"xaxis\": {\"backgroundcolor\": \"#E5ECF6\", \"gridcolor\": \"white\", \"gridwidth\": 2, \"linecolor\": \"white\", \"showbackground\": true, \"ticks\": \"\", \"zerolinecolor\": \"white\"}, \"yaxis\": {\"backgroundcolor\": \"#E5ECF6\", \"gridcolor\": \"white\", \"gridwidth\": 2, \"linecolor\": \"white\", \"showbackground\": true, \"ticks\": \"\", \"zerolinecolor\": \"white\"}, \"zaxis\": {\"backgroundcolor\": \"#E5ECF6\", \"gridcolor\": \"white\", \"gridwidth\": 2, \"linecolor\": \"white\", \"showbackground\": true, \"ticks\": \"\", \"zerolinecolor\": \"white\"}}, \"shapedefaults\": {\"line\": {\"color\": \"#2a3f5f\"}}, \"ternary\": {\"aaxis\": {\"gridcolor\": \"white\", \"linecolor\": \"white\", \"ticks\": \"\"}, \"baxis\": {\"gridcolor\": \"white\", \"linecolor\": \"white\", \"ticks\": \"\"}, \"bgcolor\": \"#E5ECF6\", \"caxis\": {\"gridcolor\": \"white\", \"linecolor\": \"white\", \"ticks\": \"\"}}, \"title\": {\"x\": 0.05}, \"xaxis\": {\"automargin\": true, \"gridcolor\": \"white\", \"linecolor\": \"white\", \"ticks\": \"\", \"title\": {\"standoff\": 15}, \"zerolinecolor\": \"white\", \"zerolinewidth\": 2}, \"yaxis\": {\"automargin\": true, \"gridcolor\": \"white\", \"linecolor\": \"white\", \"ticks\": \"\", \"title\": {\"standoff\": 15}, \"zerolinecolor\": \"white\", \"zerolinewidth\": 2}}}, \"title\": {\"font\": {\"size\": 25}, \"text\": \"Promedio mensual por estaci\\u00f3n (2014-2019)\"}, \"width\": 1200, \"xaxis\": {\"anchor\": \"y\", \"domain\": [0.0, 0.94], \"matches\": \"x2\", \"showticklabels\": false, \"tickmode\": \"array\", \"ticktext\": [\"Jan\", \"Feb\", \"Mar\", \"Apr\", \"May\", \"Jun\", \"Jul\", \"Aug\", \"Sep\", \"Oct\", \"Nov\", \"Dec\"], \"tickvals\": [1, 2, 3, 4, 5, 6, 7, 8, 9, 10, 11, 12]}, \"xaxis2\": {\"anchor\": \"y3\", \"domain\": [0.0, 0.94], \"tickmode\": \"array\", \"ticktext\": [\"Jan\", \"Feb\", \"Mar\", \"Apr\", \"May\", \"Jun\", \"Jul\", \"Aug\", \"Sep\", \"Oct\", \"Nov\", \"Dec\"], \"tickvals\": [1, 2, 3, 4, 5, 6, 7, 8, 9, 10, 11, 12]}, \"yaxis\": {\"anchor\": \"x\", \"domain\": [0.515, 1.0], \"title\": {\"text\": \"pm 2.5 (\\u03bcg/m\\u00b3)\"}}, \"yaxis2\": {\"anchor\": \"x\", \"overlaying\": \"y\", \"side\": \"right\", \"tickformat\": \"%\"}, \"yaxis3\": {\"anchor\": \"x2\", \"domain\": [0.0, 0.485], \"title\": {\"text\": \"pm 10 (\\u03bcg/m\\u00b3)\"}}, \"yaxis4\": {\"anchor\": \"x2\", \"overlaying\": \"y3\", \"side\": \"right\", \"tickformat\": \"%\"}},\n",
       "                        {\"responsive\": true}\n",
       "                    ).then(function(){\n",
       "                            \n",
       "var gd = document.getElementById('8b08e5f4-7ed4-429b-8d44-744f08a0947e');\n",
       "var x = new MutationObserver(function (mutations, observer) {{\n",
       "        var display = window.getComputedStyle(gd).display;\n",
       "        if (!display || display === 'none') {{\n",
       "            console.log([gd, 'removed!']);\n",
       "            Plotly.purge(gd);\n",
       "            observer.disconnect();\n",
       "        }}\n",
       "}});\n",
       "\n",
       "// Listen for the removal of the full notebook cells\n",
       "var notebookContainer = gd.closest('#notebook-container');\n",
       "if (notebookContainer) {{\n",
       "    x.observe(notebookContainer, {childList: true});\n",
       "}}\n",
       "\n",
       "// Listen for the clearing of the current output cell\n",
       "var outputEl = gd.closest('.output');\n",
       "if (outputEl) {{\n",
       "    x.observe(outputEl, {childList: true});\n",
       "}}\n",
       "\n",
       "                        })\n",
       "                };\n",
       "                });\n",
       "            </script>\n",
       "        </div>"
      ]
     },
     "metadata": {},
     "output_type": "display_data"
    }
   ],
   "source": [
    "from plotly.subplots import make_subplots\n",
    "import plotly.graph_objects as go\n",
    "\n",
    "def fig_bar(max_est_1, max_est_2, datos):\n",
    "    \n",
    "    d_semanal = get_mensual(datos)\n",
    "    \n",
    "    \n",
    "    #figura\n",
    "    fig = make_subplots(rows=2, \n",
    "                        cols=1, \n",
    "                        shared_xaxes=True, \n",
    "                        vertical_spacing = 0.03,\n",
    "                        specs=[[{\"secondary_y\": True}],\n",
    "                           [{\"secondary_y\": True}]]\n",
    "                       )\n",
    "\n",
    "    #opacidad\n",
    "    op = 0.75\n",
    "\n",
    "\n",
    "    #Traces \n",
    "    \n",
    "    #top estaciones\n",
    "    \n",
    "    for i in range(np.size(max_est_1)):\n",
    "        \n",
    "        #query for data of each station\n",
    "        datos_temp = d_semanal.loc[d_semanal['codigoSerial'] == max_est_1[i]]\n",
    "\n",
    "\n",
    "        # Add traces\n",
    "\n",
    "        fig.add_trace(go.Bar(x=datos_temp['Fecha_Hora'], y=datos_temp['pm25'],\n",
    "                             name='Estación ' + max_est_1[i],\n",
    "                             legendgroup = 'Estación ' + max_est_1[i],\n",
    "                             opacity= op,\n",
    "                             marker_color = colors[i]\n",
    "                            ),\n",
    "                      row=1, col=1)\n",
    "\n",
    "\n",
    "\n",
    "    for i in range(np.size(max_est_2)):\n",
    "        \n",
    "        showlegend = False\n",
    "        color = colors[i]\n",
    "        \n",
    "        if np.isin(max_est_2[i], max_est_1) != True:\n",
    "            showlegend = True\n",
    "            color = colors[-1]\n",
    "        \n",
    "        #query for data of each station\n",
    "        datos_temp = d_semanal.loc[d_semanal['codigoSerial'] == max_est_2[i]]\n",
    "\n",
    "        fig.add_trace(go.Bar(x=datos_temp['Fecha_Hora'], y=datos_temp['pm10'],\n",
    "                             name='Estación ' + max_est_2[i],\n",
    "                             legendgroup = 'Estación ' + max_est_2[i],\n",
    "                             opacity= op,\n",
    "                             marker_color = color,\n",
    "                             showlegend=showlegend\n",
    "                            ),\n",
    "                     row=2, col=1)   \n",
    "        \n",
    "    #Total\n",
    "    \n",
    "    d_temp = d_mensual.groupby(by = d_mensual['Fecha_Hora']).mean()[['pm25', 'pm10']]\n",
    "    d_temp = d_temp.reset_index()\n",
    "\n",
    "    fig.add_trace(go.Bar(x=d_temp['Fecha_Hora'], y=d_temp['pm25'],\n",
    "                         name='Promedio total ',\n",
    "                         opacity= op,\n",
    "                         legendgroup = 'Promedio total ',\n",
    "                         marker_color = colors[i+1]\n",
    "                                ),\n",
    "                  row=1, col=1)    \n",
    "\n",
    "    fig.add_trace(go.Bar(x=d_temp['Fecha_Hora'], y=d_temp['pm10'],\n",
    "                         name='Promedio total ',\n",
    "                         legendgroup = 'Promedio total ',\n",
    "                         opacity= op,\n",
    "                         marker_color = colors[i+1],\n",
    "                         showlegend=False),\n",
    "                  row=2, col=1)   \n",
    "    \n",
    "    # Porcentaje diario\n",
    "    \n",
    "    \n",
    "    d_temp[['pm25','pm10']] = d_temp[['pm25','pm10']]/np.sum(d_temp[['pm25','pm10']])\n",
    "    \n",
    "    fig.add_trace(go.Scatter(x=d_temp['Fecha_Hora'], y=d_temp['pm25'],\n",
    "                             name = 'Porcentaje mes del año',\n",
    "                             legendgroup = 'Porcentaje mes del año',\n",
    "                             mode = 'lines+markers',\n",
    "                             showlegend = True,\n",
    "                             line = dict(color='black', width=1.5, dash = 'dash')),\n",
    "                  row=1, col=1, secondary_y=True,)\n",
    "    \n",
    "    fig.add_trace(go.Scatter(x=d_temp['Fecha_Hora'], y=d_temp['pm10'],\n",
    "                             name = 'Porcentaje mes del año',\n",
    "                             legendgroup = 'Porcentaje mes del año',\n",
    "                             mode = 'lines+markers',\n",
    "                             showlegend = False,\n",
    "                             line = dict(color='black', width=1.5, dash = 'dash')),\n",
    "                  row=2, col=1, secondary_y=True,)\n",
    "    \n",
    "    \n",
    "    \n",
    "    #Figure layout\n",
    "    \n",
    "    fig.update_yaxes(title_text= 'pm 2.5 (\\u03BCg/m\\u00b3)',  row=1, col=1, secondary_y=False )\n",
    "    fig.update_yaxes(title_text= 'pm 10 (\\u03BCg/m\\u00b3)', row=2, col=1, secondary_y=False)\n",
    "    \n",
    "    fig.update_yaxes(tickformat= '%', row=1, col=1, secondary_y=True)\n",
    "    fig.update_yaxes(tickformat= '%', row=2, col=1, secondary_y=True)\n",
    "    \n",
    "    fig.update_xaxes(tickmode = 'array',\n",
    "                 tickvals = np.arange(1,13),\n",
    "                 ticktext= months)\n",
    "\n",
    "\n",
    "    dim = 1200\n",
    "\n",
    "    fig.update_layout(height=9*dim/16, width=dim, title= 'Promedio mensual por estación (2014-2019)',\n",
    "                      title_font_size=25, \n",
    "                      font_size=20,\n",
    "                      legend=dict(\n",
    "                                    orientation=\"h\",\n",
    "                                    yanchor=\"bottom\",\n",
    "                                    y=1.0,\n",
    "                                    xanchor=\"right\",\n",
    "                                    x=0.95\n",
    "                                )\n",
    "                     )\n",
    "    fig.show()\n",
    "\n",
    "    #Write HTML file\n",
    "    fig.write_html(\"Datos_Bogota/comparativo_mensual.html\")\n",
    "\n",
    "    \n",
    "    return fig\n",
    "    \n",
    "d_temp = fig_bar(max_est_25, max_est_10, datos)"
   ]
  },
  {
   "cell_type": "markdown",
   "metadata": {},
   "source": [
    "## CONTINUO"
   ]
  },
  {
   "cell_type": "code",
   "execution_count": 145,
   "metadata": {
    "ExecuteTime": {
     "end_time": "2021-03-12T17:07:36.818918Z",
     "start_time": "2021-03-12T17:07:36.734279Z"
    },
    "code_folding": [
     0
    ]
   },
   "outputs": [
    {
     "name": "stderr",
     "output_type": "stream",
     "text": [
      "/Users/PutosHackers/anaconda3/lib/python3.7/site-packages/pandas/core/indexing.py:670: SettingWithCopyWarning:\n",
      "\n",
      "\n",
      "A value is trying to be set on a copy of a slice from a DataFrame\n",
      "\n",
      "See the caveats in the documentation: https://pandas.pydata.org/pandas-docs/stable/user_guide/indexing.html#returning-a-view-versus-a-copy\n",
      "\n"
     ]
    }
   ],
   "source": [
    "def get_datos_anual(datos):\n",
    "    d_anual= datos\n",
    "    \n",
    "    #retrieve año mes y dia\n",
    "    d_anual['Año'] =  pd.DatetimeIndex(d_anual['Fecha_Hora']).year\n",
    "    d_anual['Mes'] =  pd.DatetimeIndex(d_anual['Fecha_Hora']).month\n",
    "    \n",
    "    #group by without adding index\n",
    "    d_anual = d_anual.groupby(by= [d_anual['codigoSerial'], \n",
    "                   d_anual['Año'],\n",
    "                   d_anual['Mes']\n",
    "                  ],\n",
    "             as_index = False).mean()\n",
    "    \n",
    "    #change type to str\n",
    "    d_anual[['Año','Mes']] = d_anual[['Año','Mes']].astype(str)\n",
    "\n",
    "    \n",
    "    #add cero to one digit dates\n",
    "\n",
    "    uno_len_m = np.where(d_anual['Mes'].str.len() == 1)\n",
    "    d_anual['Mes'].iloc[uno_len_m] = '0' + d_anual['Mes'].iloc[uno_len_m]\n",
    "\n",
    "    #add column in datetime format\n",
    "    d_anual['Fecha_Hora'] = d_anual['Año'] + d_anual['Mes']\n",
    "    \n",
    "    #erase innecesary columns    \n",
    "    #d_anual = d_anual.drop(['Semana','Mes'],axis =1)\n",
    "    \n",
    "    \n",
    "    #column format to date\n",
    "    d_anual['Fecha_Hora'] = pd.to_datetime(d_anual['Fecha_Hora'], format='%Y%m')\n",
    "    \n",
    "    return d_anual\n",
    "\n",
    "d_anual = get_datos_anual(datos)"
   ]
  },
  {
   "cell_type": "code",
   "execution_count": 178,
   "metadata": {
    "ExecuteTime": {
     "end_time": "2021-03-12T17:08:22.326493Z",
     "start_time": "2021-03-12T17:08:22.120605Z"
    },
    "code_folding": [
     0
    ]
   },
   "outputs": [
    {
     "ename": "KeyError",
     "evalue": "'codigoSerial'",
     "output_type": "error",
     "traceback": [
      "\u001b[0;31m---------------------------------------------------------------------------\u001b[0m",
      "\u001b[0;31mKeyError\u001b[0m                                  Traceback (most recent call last)",
      "\u001b[0;32m~/anaconda3/lib/python3.7/site-packages/pandas/core/indexes/base.py\u001b[0m in \u001b[0;36mget_loc\u001b[0;34m(self, key, method, tolerance)\u001b[0m\n\u001b[1;32m   2645\u001b[0m             \u001b[0;32mtry\u001b[0m\u001b[0;34m:\u001b[0m\u001b[0;34m\u001b[0m\u001b[0;34m\u001b[0m\u001b[0m\n\u001b[0;32m-> 2646\u001b[0;31m                 \u001b[0;32mreturn\u001b[0m \u001b[0mself\u001b[0m\u001b[0;34m.\u001b[0m\u001b[0m_engine\u001b[0m\u001b[0;34m.\u001b[0m\u001b[0mget_loc\u001b[0m\u001b[0;34m(\u001b[0m\u001b[0mkey\u001b[0m\u001b[0;34m)\u001b[0m\u001b[0;34m\u001b[0m\u001b[0;34m\u001b[0m\u001b[0m\n\u001b[0m\u001b[1;32m   2647\u001b[0m             \u001b[0;32mexcept\u001b[0m \u001b[0mKeyError\u001b[0m\u001b[0;34m:\u001b[0m\u001b[0;34m\u001b[0m\u001b[0;34m\u001b[0m\u001b[0m\n",
      "\u001b[0;32mpandas/_libs/index.pyx\u001b[0m in \u001b[0;36mpandas._libs.index.IndexEngine.get_loc\u001b[0;34m()\u001b[0m\n",
      "\u001b[0;32mpandas/_libs/index.pyx\u001b[0m in \u001b[0;36mpandas._libs.index.IndexEngine.get_loc\u001b[0;34m()\u001b[0m\n",
      "\u001b[0;32mpandas/_libs/hashtable_class_helper.pxi\u001b[0m in \u001b[0;36mpandas._libs.hashtable.PyObjectHashTable.get_item\u001b[0;34m()\u001b[0m\n",
      "\u001b[0;32mpandas/_libs/hashtable_class_helper.pxi\u001b[0m in \u001b[0;36mpandas._libs.hashtable.PyObjectHashTable.get_item\u001b[0;34m()\u001b[0m\n",
      "\u001b[0;31mKeyError\u001b[0m: 'codigoSerial'",
      "\nDuring handling of the above exception, another exception occurred:\n",
      "\u001b[0;31mKeyError\u001b[0m                                  Traceback (most recent call last)",
      "\u001b[0;32m<ipython-input-178-467a4fd2c095>\u001b[0m in \u001b[0;36m<module>\u001b[0;34m\u001b[0m\n\u001b[1;32m    144\u001b[0m     \u001b[0mfig\u001b[0m\u001b[0;34m.\u001b[0m\u001b[0mwrite_html\u001b[0m\u001b[0;34m(\u001b[0m\u001b[0;34m\"Datos_Bogota/comparativo_estacion.html\"\u001b[0m\u001b[0;34m)\u001b[0m\u001b[0;34m\u001b[0m\u001b[0;34m\u001b[0m\u001b[0m\n\u001b[1;32m    145\u001b[0m \u001b[0;34m\u001b[0m\u001b[0m\n\u001b[0;32m--> 146\u001b[0;31m \u001b[0mscatter_datos\u001b[0m\u001b[0;34m(\u001b[0m\u001b[0mmax_est_25\u001b[0m\u001b[0;34m,\u001b[0m \u001b[0mmax_est_10\u001b[0m\u001b[0;34m,\u001b[0m \u001b[0md_anual\u001b[0m\u001b[0;34m)\u001b[0m\u001b[0;34m\u001b[0m\u001b[0;34m\u001b[0m\u001b[0m\n\u001b[0m\u001b[1;32m    147\u001b[0m \u001b[0;34m\u001b[0m\u001b[0m\n\u001b[1;32m    148\u001b[0m \u001b[0;31m# pm2.5 = 10\u001b[0m\u001b[0;34m\u001b[0m\u001b[0;34m\u001b[0m\u001b[0;34m\u001b[0m\u001b[0m\n",
      "\u001b[0;32m<ipython-input-178-467a4fd2c095>\u001b[0m in \u001b[0;36mscatter_datos\u001b[0;34m(max_est_1, max_est_2, datos)\u001b[0m\n\u001b[1;32m     18\u001b[0m     \u001b[0;32mfor\u001b[0m \u001b[0mi\u001b[0m \u001b[0;32min\u001b[0m \u001b[0mrange\u001b[0m\u001b[0;34m(\u001b[0m\u001b[0mnp\u001b[0m\u001b[0;34m.\u001b[0m\u001b[0msize\u001b[0m\u001b[0;34m(\u001b[0m\u001b[0mmax_est_1\u001b[0m\u001b[0;34m)\u001b[0m\u001b[0;34m)\u001b[0m\u001b[0;34m:\u001b[0m\u001b[0;34m\u001b[0m\u001b[0;34m\u001b[0m\u001b[0m\n\u001b[1;32m     19\u001b[0m \u001b[0;34m\u001b[0m\u001b[0m\n\u001b[0;32m---> 20\u001b[0;31m         \u001b[0mdatos_temp\u001b[0m \u001b[0;34m=\u001b[0m \u001b[0mdatos\u001b[0m\u001b[0;34m.\u001b[0m\u001b[0mloc\u001b[0m\u001b[0;34m[\u001b[0m\u001b[0mdatos\u001b[0m\u001b[0;34m[\u001b[0m\u001b[0;34m'codigoSerial'\u001b[0m\u001b[0;34m]\u001b[0m \u001b[0;34m==\u001b[0m \u001b[0mmax_est_1\u001b[0m\u001b[0;34m[\u001b[0m\u001b[0mi\u001b[0m\u001b[0;34m]\u001b[0m\u001b[0;34m]\u001b[0m\u001b[0;34m\u001b[0m\u001b[0;34m\u001b[0m\u001b[0m\n\u001b[0m\u001b[1;32m     21\u001b[0m \u001b[0;34m\u001b[0m\u001b[0m\n\u001b[1;32m     22\u001b[0m \u001b[0;34m\u001b[0m\u001b[0m\n",
      "\u001b[0;32m~/anaconda3/lib/python3.7/site-packages/pandas/core/frame.py\u001b[0m in \u001b[0;36m__getitem__\u001b[0;34m(self, key)\u001b[0m\n\u001b[1;32m   2798\u001b[0m             \u001b[0;32mif\u001b[0m \u001b[0mself\u001b[0m\u001b[0;34m.\u001b[0m\u001b[0mcolumns\u001b[0m\u001b[0;34m.\u001b[0m\u001b[0mnlevels\u001b[0m \u001b[0;34m>\u001b[0m \u001b[0;36m1\u001b[0m\u001b[0;34m:\u001b[0m\u001b[0;34m\u001b[0m\u001b[0;34m\u001b[0m\u001b[0m\n\u001b[1;32m   2799\u001b[0m                 \u001b[0;32mreturn\u001b[0m \u001b[0mself\u001b[0m\u001b[0;34m.\u001b[0m\u001b[0m_getitem_multilevel\u001b[0m\u001b[0;34m(\u001b[0m\u001b[0mkey\u001b[0m\u001b[0;34m)\u001b[0m\u001b[0;34m\u001b[0m\u001b[0;34m\u001b[0m\u001b[0m\n\u001b[0;32m-> 2800\u001b[0;31m             \u001b[0mindexer\u001b[0m \u001b[0;34m=\u001b[0m \u001b[0mself\u001b[0m\u001b[0;34m.\u001b[0m\u001b[0mcolumns\u001b[0m\u001b[0;34m.\u001b[0m\u001b[0mget_loc\u001b[0m\u001b[0;34m(\u001b[0m\u001b[0mkey\u001b[0m\u001b[0;34m)\u001b[0m\u001b[0;34m\u001b[0m\u001b[0;34m\u001b[0m\u001b[0m\n\u001b[0m\u001b[1;32m   2801\u001b[0m             \u001b[0;32mif\u001b[0m \u001b[0mis_integer\u001b[0m\u001b[0;34m(\u001b[0m\u001b[0mindexer\u001b[0m\u001b[0;34m)\u001b[0m\u001b[0;34m:\u001b[0m\u001b[0;34m\u001b[0m\u001b[0;34m\u001b[0m\u001b[0m\n\u001b[1;32m   2802\u001b[0m                 \u001b[0mindexer\u001b[0m \u001b[0;34m=\u001b[0m \u001b[0;34m[\u001b[0m\u001b[0mindexer\u001b[0m\u001b[0;34m]\u001b[0m\u001b[0;34m\u001b[0m\u001b[0;34m\u001b[0m\u001b[0m\n",
      "\u001b[0;32m~/anaconda3/lib/python3.7/site-packages/pandas/core/indexes/base.py\u001b[0m in \u001b[0;36mget_loc\u001b[0;34m(self, key, method, tolerance)\u001b[0m\n\u001b[1;32m   2646\u001b[0m                 \u001b[0;32mreturn\u001b[0m \u001b[0mself\u001b[0m\u001b[0;34m.\u001b[0m\u001b[0m_engine\u001b[0m\u001b[0;34m.\u001b[0m\u001b[0mget_loc\u001b[0m\u001b[0;34m(\u001b[0m\u001b[0mkey\u001b[0m\u001b[0;34m)\u001b[0m\u001b[0;34m\u001b[0m\u001b[0;34m\u001b[0m\u001b[0m\n\u001b[1;32m   2647\u001b[0m             \u001b[0;32mexcept\u001b[0m \u001b[0mKeyError\u001b[0m\u001b[0;34m:\u001b[0m\u001b[0;34m\u001b[0m\u001b[0;34m\u001b[0m\u001b[0m\n\u001b[0;32m-> 2648\u001b[0;31m                 \u001b[0;32mreturn\u001b[0m \u001b[0mself\u001b[0m\u001b[0;34m.\u001b[0m\u001b[0m_engine\u001b[0m\u001b[0;34m.\u001b[0m\u001b[0mget_loc\u001b[0m\u001b[0;34m(\u001b[0m\u001b[0mself\u001b[0m\u001b[0;34m.\u001b[0m\u001b[0m_maybe_cast_indexer\u001b[0m\u001b[0;34m(\u001b[0m\u001b[0mkey\u001b[0m\u001b[0;34m)\u001b[0m\u001b[0;34m)\u001b[0m\u001b[0;34m\u001b[0m\u001b[0;34m\u001b[0m\u001b[0m\n\u001b[0m\u001b[1;32m   2649\u001b[0m         \u001b[0mindexer\u001b[0m \u001b[0;34m=\u001b[0m \u001b[0mself\u001b[0m\u001b[0;34m.\u001b[0m\u001b[0mget_indexer\u001b[0m\u001b[0;34m(\u001b[0m\u001b[0;34m[\u001b[0m\u001b[0mkey\u001b[0m\u001b[0;34m]\u001b[0m\u001b[0;34m,\u001b[0m \u001b[0mmethod\u001b[0m\u001b[0;34m=\u001b[0m\u001b[0mmethod\u001b[0m\u001b[0;34m,\u001b[0m \u001b[0mtolerance\u001b[0m\u001b[0;34m=\u001b[0m\u001b[0mtolerance\u001b[0m\u001b[0;34m)\u001b[0m\u001b[0;34m\u001b[0m\u001b[0;34m\u001b[0m\u001b[0m\n\u001b[1;32m   2650\u001b[0m         \u001b[0;32mif\u001b[0m \u001b[0mindexer\u001b[0m\u001b[0;34m.\u001b[0m\u001b[0mndim\u001b[0m \u001b[0;34m>\u001b[0m \u001b[0;36m1\u001b[0m \u001b[0;32mor\u001b[0m \u001b[0mindexer\u001b[0m\u001b[0;34m.\u001b[0m\u001b[0msize\u001b[0m \u001b[0;34m>\u001b[0m \u001b[0;36m1\u001b[0m\u001b[0;34m:\u001b[0m\u001b[0;34m\u001b[0m\u001b[0;34m\u001b[0m\u001b[0m\n",
      "\u001b[0;32mpandas/_libs/index.pyx\u001b[0m in \u001b[0;36mpandas._libs.index.IndexEngine.get_loc\u001b[0;34m()\u001b[0m\n",
      "\u001b[0;32mpandas/_libs/index.pyx\u001b[0m in \u001b[0;36mpandas._libs.index.IndexEngine.get_loc\u001b[0;34m()\u001b[0m\n",
      "\u001b[0;32mpandas/_libs/hashtable_class_helper.pxi\u001b[0m in \u001b[0;36mpandas._libs.hashtable.PyObjectHashTable.get_item\u001b[0;34m()\u001b[0m\n",
      "\u001b[0;32mpandas/_libs/hashtable_class_helper.pxi\u001b[0m in \u001b[0;36mpandas._libs.hashtable.PyObjectHashTable.get_item\u001b[0;34m()\u001b[0m\n",
      "\u001b[0;31mKeyError\u001b[0m: 'codigoSerial'"
     ]
    }
   ],
   "source": [
    "def scatter_datos(max_est_1, max_est_2, datos):\n",
    "    \n",
    "    fig = make_subplots(rows=2, cols=1, shared_xaxes=True, vertical_spacing = 0.01)\n",
    "\n",
    "    op = 0.75\n",
    "\n",
    "    s = 20\n",
    "\n",
    "    w = 4\n",
    "\n",
    "    span = 5\n",
    "    #ADD TRACES \n",
    "    \n",
    "    #TOP ESTACIONES\n",
    "\n",
    "    ##1\n",
    "    \n",
    "    for i in range(np.size(max_est_1)):\n",
    "\n",
    "        datos_temp = datos.loc[datos['codigoSerial'] == max_est_1[i]]\n",
    "\n",
    "\n",
    "        # Add traces\n",
    "\n",
    "        fig.add_trace(go.Scatter(x= datos_temp['Fecha_Hora'],y = datos_temp['pm25'],\n",
    "                                 mode='markers',\n",
    "                                 opacity= op,\n",
    "                                 name = 'Estación ' + max_est_1[i],\n",
    "                                 legendgroup = 'Estación ' + max_est_1[i],\n",
    "                                 marker=dict(\n",
    "                                     size=s,\n",
    "                                     color = colors[i],)\n",
    "                                ),\n",
    "                      row=1, col=1)\n",
    "\n",
    "    ##2\n",
    "        \n",
    "    for i in range(np.size(max_est_2)):\n",
    "        \n",
    "        showlegend = False\n",
    "        color = colors[i]\n",
    "        \n",
    "        if np.isin(max_est_2[i], max_est_1) != True:\n",
    "            showlegend = True\n",
    "            color = colors[-1]\n",
    "        \n",
    "        #query for data of each station\n",
    "        datos_temp = datos.loc[datos['codigoSerial'] == max_est_2[i]]\n",
    "\n",
    "        fig.add_trace(go.Scatter(x= datos_temp['Fecha_Hora'], y = datos_temp['pm10'],\n",
    "                                 mode='markers',\n",
    "                                 opacity= op,\n",
    "                                 name = 'Estación ' + max_est_2[i],\n",
    "                                 legendgroup = 'Estación ' + max_est_2[i],\n",
    "                                 showlegend = showlegend,\n",
    "                                 marker=dict(\n",
    "                                     size=s,\n",
    "                                     color = color,)\n",
    "                                ),\n",
    "                      row=2, col=1)\n",
    "\n",
    "    \n",
    "    \n",
    "    # MEDIA MÓVIL\n",
    "    \n",
    "    media = datos.groupby(by=datos['Fecha_Hora']).mean()\n",
    "    media = media.reset_index()\n",
    "    media['pm25']  = media['pm25'].ewm(span=span,adjust=False).mean()\n",
    "    media['pm10']  = media['pm10'].ewm(span=span,adjust=False).mean()\n",
    "\n",
    "\n",
    "\n",
    "    fig.add_trace(go.Scatter(x= media['Fecha_Hora'],y = media['pm25'],\n",
    "                             mode='lines',\n",
    "                             name = 'Media Móvil',\n",
    "                             legendgroup = 'Media Móvil',\n",
    "                             showlegend = True,\n",
    "                             line = dict(color='black', width=w)),\n",
    "                  row=1, col=1)\n",
    "\n",
    "\n",
    "\n",
    "    fig.add_trace(go.Scatter(x= media['Fecha_Hora'],y = media['pm10'],\n",
    "                             mode='lines',\n",
    "                             name = 'Otras',\n",
    "                             legendgroup = 'Media Móvil',\n",
    "                             showlegend = False,\n",
    "                             line = dict(color='black', width=w)),\n",
    "                  row=2, col=1)\n",
    "\n",
    "    \n",
    "    #linea horizontal    \n",
    "    \n",
    "    \n",
    "    val_1 = 10\n",
    "    name_2 = 'Límite anual OMS'\n",
    "    fig.add_trace(go.Scatter(x=[np.min(media['Fecha_Hora']), np.max(media['Fecha_Hora'])], y=[val_1,val_1],\n",
    "                             name = name_2,\n",
    "                             legendgroup = name_2,\n",
    "                             mode = 'lines',\n",
    "                             showlegend = True,\n",
    "                             line = dict(color='red', width=w, dash = 'dash')),\n",
    "                  row=1, col=1, secondary_y=False,)\n",
    "    \n",
    "    val_2 = 20\n",
    "    \n",
    "    fig.add_trace(go.Scatter(x=[np.min(media['Fecha_Hora']), np.max(media['Fecha_Hora'])], y=[val_2,val_2],\n",
    "                             name = name_2,\n",
    "                             legendgroup = name_2,\n",
    "                             mode = 'lines',\n",
    "                             showlegend = False,\n",
    "                             line = dict(color='red', width=w, dash = 'dash')),\n",
    "                  row=2, col=1, secondary_y=False,)\n",
    "    \n",
    "    \n",
    "    # FIGURE LAYOUT\n",
    "    \n",
    "    \n",
    "    dim = 1200\n",
    "    \n",
    "    fig.update_layout(height=9*dim/16, width=dim, title= 'Registros diarios por estación (2014-2019)',\n",
    "                      title_font_size=25, \n",
    "                      font_size=20,\n",
    "                      legend=dict(\n",
    "                          orientation=\"h\",\n",
    "                          yanchor=\"bottom\",\n",
    "                          y=1.0,\n",
    "                          xanchor=\"right\", \n",
    "                          x = 0.95)                 \n",
    "                 )\n",
    "    \n",
    "    fig.update_yaxes(title= 'pm 2.5 (\\u03BCg/m\\u00b3)',  row=1, col=1)\n",
    "    fig.update_yaxes(title= 'pm 10 (\\u03BCg/m\\u00b3)', row=2, col=1)\n",
    "    \n",
    "\n",
    "    \n",
    "    #fig.update_xaxes(range = ['2018-12-20','2021-02-15'])\n",
    "    \n",
    "    \n",
    "    fig.show()\n",
    "    \n",
    "    \n",
    "    #Write HTML file\n",
    "    fig.write_html(\"Datos_Bogota/comparativo_estacion.html\")\n",
    "        \n",
    "scatter_datos(max_est_25, max_est_10, d_anual)\n",
    "\n",
    "# pm2.5 = 10 \n",
    "#pm 10 = "
   ]
  },
  {
   "cell_type": "markdown",
   "metadata": {},
   "source": [
    "## PORCENTUAL"
   ]
  },
  {
   "cell_type": "code",
   "execution_count": 177,
   "metadata": {
    "ExecuteTime": {
     "end_time": "2021-03-12T17:08:17.888257Z",
     "start_time": "2021-03-12T17:08:16.194751Z"
    },
    "code_folding": [
     0
    ]
   },
   "outputs": [
    {
     "ename": "KeyError",
     "evalue": "'codigoSerial'",
     "output_type": "error",
     "traceback": [
      "\u001b[0;31m---------------------------------------------------------------------------\u001b[0m",
      "\u001b[0;31mKeyError\u001b[0m                                  Traceback (most recent call last)",
      "\u001b[0;32m~/anaconda3/lib/python3.7/site-packages/pandas/core/indexes/base.py\u001b[0m in \u001b[0;36mget_loc\u001b[0;34m(self, key, method, tolerance)\u001b[0m\n\u001b[1;32m   2645\u001b[0m             \u001b[0;32mtry\u001b[0m\u001b[0;34m:\u001b[0m\u001b[0;34m\u001b[0m\u001b[0;34m\u001b[0m\u001b[0m\n\u001b[0;32m-> 2646\u001b[0;31m                 \u001b[0;32mreturn\u001b[0m \u001b[0mself\u001b[0m\u001b[0;34m.\u001b[0m\u001b[0m_engine\u001b[0m\u001b[0;34m.\u001b[0m\u001b[0mget_loc\u001b[0m\u001b[0;34m(\u001b[0m\u001b[0mkey\u001b[0m\u001b[0;34m)\u001b[0m\u001b[0;34m\u001b[0m\u001b[0;34m\u001b[0m\u001b[0m\n\u001b[0m\u001b[1;32m   2647\u001b[0m             \u001b[0;32mexcept\u001b[0m \u001b[0mKeyError\u001b[0m\u001b[0;34m:\u001b[0m\u001b[0;34m\u001b[0m\u001b[0;34m\u001b[0m\u001b[0m\n",
      "\u001b[0;32mpandas/_libs/index.pyx\u001b[0m in \u001b[0;36mpandas._libs.index.IndexEngine.get_loc\u001b[0;34m()\u001b[0m\n",
      "\u001b[0;32mpandas/_libs/index.pyx\u001b[0m in \u001b[0;36mpandas._libs.index.IndexEngine.get_loc\u001b[0;34m()\u001b[0m\n",
      "\u001b[0;32mpandas/_libs/hashtable_class_helper.pxi\u001b[0m in \u001b[0;36mpandas._libs.hashtable.PyObjectHashTable.get_item\u001b[0;34m()\u001b[0m\n",
      "\u001b[0;32mpandas/_libs/hashtable_class_helper.pxi\u001b[0m in \u001b[0;36mpandas._libs.hashtable.PyObjectHashTable.get_item\u001b[0;34m()\u001b[0m\n",
      "\u001b[0;31mKeyError\u001b[0m: 'codigoSerial'",
      "\nDuring handling of the above exception, another exception occurred:\n",
      "\u001b[0;31mKeyError\u001b[0m                                  Traceback (most recent call last)",
      "\u001b[0;32m<ipython-input-177-413d249cdc5c>\u001b[0m in \u001b[0;36m<module>\u001b[0;34m\u001b[0m\n\u001b[1;32m    138\u001b[0m     \u001b[0mfig\u001b[0m\u001b[0;34m.\u001b[0m\u001b[0mwrite_html\u001b[0m\u001b[0;34m(\u001b[0m\u001b[0;34m\"Datos_Bogota/comparativo_media_móvil.html\"\u001b[0m\u001b[0;34m)\u001b[0m\u001b[0;34m\u001b[0m\u001b[0;34m\u001b[0m\u001b[0m\n\u001b[1;32m    139\u001b[0m \u001b[0;34m\u001b[0m\u001b[0m\n\u001b[0;32m--> 140\u001b[0;31m \u001b[0mmedias_moviles\u001b[0m\u001b[0;34m(\u001b[0m\u001b[0mmax_est_25\u001b[0m\u001b[0;34m,\u001b[0m \u001b[0mmax_est_10\u001b[0m\u001b[0;34m,\u001b[0m \u001b[0md_anual\u001b[0m\u001b[0;34m)\u001b[0m\u001b[0;34m\u001b[0m\u001b[0;34m\u001b[0m\u001b[0m\n\u001b[0m",
      "\u001b[0;32m<ipython-input-177-413d249cdc5c>\u001b[0m in \u001b[0;36mmedias_moviles\u001b[0;34m(max_est_1, max_est_2, datos)\u001b[0m\n\u001b[1;32m     48\u001b[0m     \u001b[0;32mfor\u001b[0m \u001b[0mi\u001b[0m \u001b[0;32min\u001b[0m \u001b[0mrange\u001b[0m\u001b[0;34m(\u001b[0m\u001b[0mnp\u001b[0m\u001b[0;34m.\u001b[0m\u001b[0msize\u001b[0m\u001b[0;34m(\u001b[0m\u001b[0mmax_est_1\u001b[0m\u001b[0;34m)\u001b[0m\u001b[0;34m)\u001b[0m\u001b[0;34m:\u001b[0m\u001b[0;34m\u001b[0m\u001b[0;34m\u001b[0m\u001b[0m\n\u001b[1;32m     49\u001b[0m \u001b[0;34m\u001b[0m\u001b[0m\n\u001b[0;32m---> 50\u001b[0;31m         \u001b[0mdatos_temp\u001b[0m \u001b[0;34m=\u001b[0m \u001b[0mdatos\u001b[0m\u001b[0;34m.\u001b[0m\u001b[0mloc\u001b[0m\u001b[0;34m[\u001b[0m\u001b[0mdatos\u001b[0m\u001b[0;34m[\u001b[0m\u001b[0;34m'codigoSerial'\u001b[0m\u001b[0;34m]\u001b[0m \u001b[0;34m==\u001b[0m \u001b[0mmax_est_1\u001b[0m\u001b[0;34m[\u001b[0m\u001b[0mi\u001b[0m\u001b[0;34m]\u001b[0m\u001b[0;34m]\u001b[0m\u001b[0;34m\u001b[0m\u001b[0;34m\u001b[0m\u001b[0m\n\u001b[0m\u001b[1;32m     51\u001b[0m \u001b[0;34m\u001b[0m\u001b[0m\n\u001b[1;32m     52\u001b[0m         \u001b[0mdatos_temp\u001b[0m\u001b[0;34m.\u001b[0m\u001b[0mloc\u001b[0m\u001b[0;34m[\u001b[0m\u001b[0;34m:\u001b[0m\u001b[0;34m,\u001b[0m\u001b[0;34m'pm25'\u001b[0m\u001b[0;34m]\u001b[0m  \u001b[0;34m=\u001b[0m \u001b[0mdatos_temp\u001b[0m\u001b[0;34m.\u001b[0m\u001b[0mloc\u001b[0m\u001b[0;34m[\u001b[0m\u001b[0;34m:\u001b[0m\u001b[0;34m,\u001b[0m\u001b[0;34m'pm25'\u001b[0m\u001b[0;34m]\u001b[0m\u001b[0;34m.\u001b[0m\u001b[0mewm\u001b[0m\u001b[0;34m(\u001b[0m\u001b[0mspan\u001b[0m\u001b[0;34m=\u001b[0m\u001b[0mspan\u001b[0m\u001b[0;34m,\u001b[0m\u001b[0madjust\u001b[0m\u001b[0;34m=\u001b[0m\u001b[0;32mFalse\u001b[0m\u001b[0;34m)\u001b[0m\u001b[0;34m.\u001b[0m\u001b[0mmean\u001b[0m\u001b[0;34m(\u001b[0m\u001b[0;34m)\u001b[0m\u001b[0;34m\u001b[0m\u001b[0;34m\u001b[0m\u001b[0m\n",
      "\u001b[0;32m~/anaconda3/lib/python3.7/site-packages/pandas/core/frame.py\u001b[0m in \u001b[0;36m__getitem__\u001b[0;34m(self, key)\u001b[0m\n\u001b[1;32m   2798\u001b[0m             \u001b[0;32mif\u001b[0m \u001b[0mself\u001b[0m\u001b[0;34m.\u001b[0m\u001b[0mcolumns\u001b[0m\u001b[0;34m.\u001b[0m\u001b[0mnlevels\u001b[0m \u001b[0;34m>\u001b[0m \u001b[0;36m1\u001b[0m\u001b[0;34m:\u001b[0m\u001b[0;34m\u001b[0m\u001b[0;34m\u001b[0m\u001b[0m\n\u001b[1;32m   2799\u001b[0m                 \u001b[0;32mreturn\u001b[0m \u001b[0mself\u001b[0m\u001b[0;34m.\u001b[0m\u001b[0m_getitem_multilevel\u001b[0m\u001b[0;34m(\u001b[0m\u001b[0mkey\u001b[0m\u001b[0;34m)\u001b[0m\u001b[0;34m\u001b[0m\u001b[0;34m\u001b[0m\u001b[0m\n\u001b[0;32m-> 2800\u001b[0;31m             \u001b[0mindexer\u001b[0m \u001b[0;34m=\u001b[0m \u001b[0mself\u001b[0m\u001b[0;34m.\u001b[0m\u001b[0mcolumns\u001b[0m\u001b[0;34m.\u001b[0m\u001b[0mget_loc\u001b[0m\u001b[0;34m(\u001b[0m\u001b[0mkey\u001b[0m\u001b[0;34m)\u001b[0m\u001b[0;34m\u001b[0m\u001b[0;34m\u001b[0m\u001b[0m\n\u001b[0m\u001b[1;32m   2801\u001b[0m             \u001b[0;32mif\u001b[0m \u001b[0mis_integer\u001b[0m\u001b[0;34m(\u001b[0m\u001b[0mindexer\u001b[0m\u001b[0;34m)\u001b[0m\u001b[0;34m:\u001b[0m\u001b[0;34m\u001b[0m\u001b[0;34m\u001b[0m\u001b[0m\n\u001b[1;32m   2802\u001b[0m                 \u001b[0mindexer\u001b[0m \u001b[0;34m=\u001b[0m \u001b[0;34m[\u001b[0m\u001b[0mindexer\u001b[0m\u001b[0;34m]\u001b[0m\u001b[0;34m\u001b[0m\u001b[0;34m\u001b[0m\u001b[0m\n",
      "\u001b[0;32m~/anaconda3/lib/python3.7/site-packages/pandas/core/indexes/base.py\u001b[0m in \u001b[0;36mget_loc\u001b[0;34m(self, key, method, tolerance)\u001b[0m\n\u001b[1;32m   2646\u001b[0m                 \u001b[0;32mreturn\u001b[0m \u001b[0mself\u001b[0m\u001b[0;34m.\u001b[0m\u001b[0m_engine\u001b[0m\u001b[0;34m.\u001b[0m\u001b[0mget_loc\u001b[0m\u001b[0;34m(\u001b[0m\u001b[0mkey\u001b[0m\u001b[0;34m)\u001b[0m\u001b[0;34m\u001b[0m\u001b[0;34m\u001b[0m\u001b[0m\n\u001b[1;32m   2647\u001b[0m             \u001b[0;32mexcept\u001b[0m \u001b[0mKeyError\u001b[0m\u001b[0;34m:\u001b[0m\u001b[0;34m\u001b[0m\u001b[0;34m\u001b[0m\u001b[0m\n\u001b[0;32m-> 2648\u001b[0;31m                 \u001b[0;32mreturn\u001b[0m \u001b[0mself\u001b[0m\u001b[0;34m.\u001b[0m\u001b[0m_engine\u001b[0m\u001b[0;34m.\u001b[0m\u001b[0mget_loc\u001b[0m\u001b[0;34m(\u001b[0m\u001b[0mself\u001b[0m\u001b[0;34m.\u001b[0m\u001b[0m_maybe_cast_indexer\u001b[0m\u001b[0;34m(\u001b[0m\u001b[0mkey\u001b[0m\u001b[0;34m)\u001b[0m\u001b[0;34m)\u001b[0m\u001b[0;34m\u001b[0m\u001b[0;34m\u001b[0m\u001b[0m\n\u001b[0m\u001b[1;32m   2649\u001b[0m         \u001b[0mindexer\u001b[0m \u001b[0;34m=\u001b[0m \u001b[0mself\u001b[0m\u001b[0;34m.\u001b[0m\u001b[0mget_indexer\u001b[0m\u001b[0;34m(\u001b[0m\u001b[0;34m[\u001b[0m\u001b[0mkey\u001b[0m\u001b[0;34m]\u001b[0m\u001b[0;34m,\u001b[0m \u001b[0mmethod\u001b[0m\u001b[0;34m=\u001b[0m\u001b[0mmethod\u001b[0m\u001b[0;34m,\u001b[0m \u001b[0mtolerance\u001b[0m\u001b[0;34m=\u001b[0m\u001b[0mtolerance\u001b[0m\u001b[0;34m)\u001b[0m\u001b[0;34m\u001b[0m\u001b[0;34m\u001b[0m\u001b[0m\n\u001b[1;32m   2650\u001b[0m         \u001b[0;32mif\u001b[0m \u001b[0mindexer\u001b[0m\u001b[0;34m.\u001b[0m\u001b[0mndim\u001b[0m \u001b[0;34m>\u001b[0m \u001b[0;36m1\u001b[0m \u001b[0;32mor\u001b[0m \u001b[0mindexer\u001b[0m\u001b[0;34m.\u001b[0m\u001b[0msize\u001b[0m \u001b[0;34m>\u001b[0m \u001b[0;36m1\u001b[0m\u001b[0;34m:\u001b[0m\u001b[0;34m\u001b[0m\u001b[0;34m\u001b[0m\u001b[0m\n",
      "\u001b[0;32mpandas/_libs/index.pyx\u001b[0m in \u001b[0;36mpandas._libs.index.IndexEngine.get_loc\u001b[0;34m()\u001b[0m\n",
      "\u001b[0;32mpandas/_libs/index.pyx\u001b[0m in \u001b[0;36mpandas._libs.index.IndexEngine.get_loc\u001b[0;34m()\u001b[0m\n",
      "\u001b[0;32mpandas/_libs/hashtable_class_helper.pxi\u001b[0m in \u001b[0;36mpandas._libs.hashtable.PyObjectHashTable.get_item\u001b[0;34m()\u001b[0m\n",
      "\u001b[0;32mpandas/_libs/hashtable_class_helper.pxi\u001b[0m in \u001b[0;36mpandas._libs.hashtable.PyObjectHashTable.get_item\u001b[0;34m()\u001b[0m\n",
      "\u001b[0;31mKeyError\u001b[0m: 'codigoSerial'"
     ]
    }
   ],
   "source": [
    "def medias_moviles(max_est_1, max_est_2, datos):\n",
    "    fig = make_subplots(rows=2, cols=1, shared_xaxes=True, vertical_spacing = 0.01,\n",
    "                        specs=[[{\"secondary_y\": True}],\n",
    "                           [{\"secondary_y\": True}]]\n",
    "                   )\n",
    "    \n",
    "    op = 0.85\n",
    "\n",
    "    s = 10\n",
    "\n",
    "    w = 4\n",
    "    \n",
    "    span = 7\n",
    "    \n",
    "    # TRACES\n",
    "    \n",
    "    # MEDIA MÓVIL\n",
    "    \n",
    "    media = datos.groupby(by=datos['Fecha_Hora']).mean()\n",
    "    media = media.reset_index()\n",
    "    media['pm25']  = media['pm25'].ewm(span=span,adjust=False).mean()\n",
    "    media['pm10']  = media['pm10'].ewm(span=span,adjust=False).mean()\n",
    "\n",
    "\n",
    "    fig.add_trace(go.Scatter(x= media['Fecha_Hora'],y = media['pm25'],\n",
    "                             mode='lines',\n",
    "                             name = 'Total',\n",
    "                             legendgroup = 'Total',\n",
    "                             showlegend = True,\n",
    "                             line = dict(color='black', width=w)),\n",
    "                  row=1, col=1)\n",
    "\n",
    "\n",
    "\n",
    "    fig.add_trace(go.Scatter(x= media['Fecha_Hora'],y = media['pm10'],\n",
    "                             mode='lines',\n",
    "                             name = 'Total',\n",
    "                             legendgroup = 'Total',\n",
    "                             showlegend = False,\n",
    "                             line = dict(color='black', width=w)),\n",
    "                  row=2, col=1)\n",
    "\n",
    "    \n",
    "    #TOP ESTACIONES\n",
    "\n",
    "    ##1\n",
    "    \n",
    "    for i in range(np.size(max_est_1)):\n",
    "    \n",
    "        datos_temp = datos.loc[datos['codigoSerial'] == max_est_1[i]]\n",
    "\n",
    "        datos_temp.loc[:,'pm25']  = datos_temp.loc[:,'pm25'].ewm(span=span,adjust=False).mean()\n",
    "        datos_temp.loc[:,'pm10']  = datos_temp.loc[:,'pm10'].ewm(span=span,adjust=False).mean()\n",
    "\n",
    "        # Add traces\n",
    "\n",
    "        fig.add_trace(go.Scatter(x= datos_temp['Fecha_Hora'],y = datos_temp['pm25'],\n",
    "                                 opacity= op,\n",
    "                                 name = 'Estación ' + max_est_1[i],\n",
    "                                 legendgroup = 'Estación ' + max_est_1[i],\n",
    "                                 line = dict(color=colors[i], width=w)),\n",
    "                      row=1, col=1)\n",
    "\n",
    "    ##2\n",
    "    \n",
    "    for i in range(np.size(max_est_2)):\n",
    "        \n",
    "        showlegend = False\n",
    "        color = colors[i]\n",
    "        \n",
    "        if np.isin(max_est_2[i], max_est_1) != True:\n",
    "            showlegend = True\n",
    "            color = colors[-1]\n",
    "        \n",
    "\n",
    "        datos_temp = datos.loc[datos['codigoSerial'] == max_est_2[i]]\n",
    "\n",
    "        datos_temp.loc[:,'pm25']  = datos_temp.loc[:,'pm25'].ewm(span=span,adjust=False).mean()\n",
    "        datos_temp.loc[:,'pm10']  = datos_temp.loc[:,'pm10'].ewm(span=span,adjust=False).mean()\n",
    "        \n",
    "        fig.add_trace(go.Scatter(x= datos_temp['Fecha_Hora'],y = datos_temp['pm10'],                     \n",
    "                                 opacity= op,\n",
    "                                 name = 'Estación ' + max_est_2[i],\n",
    "                                 legendgroup = 'Estación ' + max_est_2[i],\n",
    "                                 showlegend = showlegend,\n",
    "                                 line = dict(color=color, width=w)),\n",
    "                      row=2, col=1)\n",
    "\n",
    "    \n",
    "    \n",
    "    #linea horizontal    \n",
    "    \n",
    "    val_1 = 10\n",
    "    name_2 = 'Límite anual OMS'\n",
    "    fig.add_trace(go.Scatter(x=[np.min(media['Fecha_Hora']), np.max(media['Fecha_Hora'])], y=[val_1,val_1],\n",
    "                             name = name_2,\n",
    "                             legendgroup = name_2,\n",
    "                             mode = 'lines',\n",
    "                             showlegend = True,\n",
    "                             line = dict(color='red', width=w, dash = 'dash')),\n",
    "                  row=1, col=1, secondary_y=False,)\n",
    "    \n",
    "    val_2 = 20\n",
    "    \n",
    "    fig.add_trace(go.Scatter(x=[np.min(media['Fecha_Hora']), np.max(media['Fecha_Hora'])], y=[val_2,val_2],\n",
    "                             name = name_2,\n",
    "                             legendgroup = name_2,\n",
    "                             mode = 'lines',\n",
    "                             showlegend = False,\n",
    "                             line = dict(color='red', width=w, dash = 'dash')),\n",
    "                  row=2, col=1, secondary_y=False,)\n",
    "    \n",
    "    \n",
    "    \n",
    "    # UPDATE LAYOUT\n",
    "    fig.update_yaxes(title= 'pm 2.5 (\\u03BCg/m\\u00b3)',  row=1, col=1)\n",
    "    fig.update_yaxes(title= 'pm 10 (\\u03BCg/m\\u00b3)', row=2, col=1)\n",
    "    \n",
    "    \n",
    "    fig.update_yaxes(tickformat= '%', row=1, col=1, secondary_y=True)\n",
    "    fig.update_yaxes(tickformat= '%', row=2, col=1, secondary_y=True)\n",
    "\n",
    "\n",
    "    dim = 1200\n",
    "\n",
    "    fig.update_layout(height=9*dim/16, width=dim, title= 'Media móvil por estación (2014-2019)',\n",
    "                      title_font_size=25, \n",
    "                      font_size=20,\n",
    "                      legend=dict(orientation=\"h\",\n",
    "                                  yanchor=\"bottom\",\n",
    "                                  y=1.0,\n",
    "                                  xanchor=\"right\",\n",
    "                                  x=0.9\n",
    "                                )\n",
    "                     )\n",
    "    \n",
    "    fig.show()\n",
    "    fig.write_html(\"Datos_Bogota/comparativo_media_móvil.html\")\n",
    "\n",
    "medias_moviles(max_est_25, max_est_10, d_anual)"
   ]
  },
  {
   "cell_type": "markdown",
   "metadata": {},
   "source": [
    "## DASHBOARD"
   ]
  },
  {
   "cell_type": "code",
   "execution_count": 39,
   "metadata": {
    "ExecuteTime": {
     "end_time": "2021-03-11T05:34:31.311266Z",
     "start_time": "2021-03-11T05:34:31.203984Z"
    },
    "code_folding": [
     95,
     229
    ]
   },
   "outputs": [],
   "source": [
    "def fig_bar(max_est_1, max_est_2, datos, col_num):\n",
    "    \n",
    "    d_semanal = get_mensual(datos)\n",
    "    \n",
    "\n",
    "    #opacidad\n",
    "    op = 0.75\n",
    "\n",
    "\n",
    "    #Traces \n",
    "    \n",
    "    #top estaciones\n",
    "    \n",
    "    for i in range(np.size(max_est_1)):\n",
    "        \n",
    "        #query for data of each station\n",
    "        datos_temp = d_semanal.loc[d_semanal['codigoSerial'] == max_est_1[i]]\n",
    "\n",
    "\n",
    "        # Add traces\n",
    "\n",
    "        fig.add_trace(go.Bar(x=datos_temp['Fecha_Hora'], y=datos_temp['pm25'],\n",
    "                             name='Estación ' + max_est_1[i],\n",
    "                             legendgroup = 'Estación ' + max_est_1[i],\n",
    "                             opacity= op,\n",
    "                             marker_color = colors[i]\n",
    "                            ),\n",
    "                      row=1, col=col_num)\n",
    "\n",
    "\n",
    "\n",
    "    for i in range(np.size(max_est_2)):\n",
    "        \n",
    "        showlegend = False\n",
    "        color = colors[i]\n",
    "        \n",
    "        if np.isin(max_est_2[i], max_est_1) != True:\n",
    "            showlegend = True\n",
    "            color = colors[-1]\n",
    "        \n",
    "        #query for data of each station\n",
    "        datos_temp = d_semanal.loc[d_semanal['codigoSerial'] == max_est_2[i]]\n",
    "\n",
    "        fig.add_trace(go.Bar(x=datos_temp['Fecha_Hora'], y=datos_temp['pm10'],\n",
    "                             name='Estación ' + max_est_2[i],\n",
    "                             legendgroup = 'Estación ' + max_est_2[i],\n",
    "                             opacity= op,\n",
    "                             marker_color = color,\n",
    "                             showlegend=showlegend\n",
    "                            ),\n",
    "                     row=2, col=col_num)   \n",
    "        \n",
    "    #Total\n",
    "    \n",
    "    d_temp = d_mensual.groupby(by = d_mensual['Fecha_Hora']).mean()[['pm25', 'pm10']]\n",
    "    d_temp = d_temp.reset_index()\n",
    "\n",
    "    fig.add_trace(go.Bar(x=d_temp['Fecha_Hora'], y=d_temp['pm25'],\n",
    "                         name='Promedio total ',\n",
    "                         opacity= op,\n",
    "                         legendgroup = 'Promedio total ',\n",
    "                         marker_color = colors[i+1]\n",
    "                                ),\n",
    "                  row=1, col=col_num)    \n",
    "\n",
    "    fig.add_trace(go.Bar(x=d_temp['Fecha_Hora'], y=d_temp['pm10'],\n",
    "                         name='Promedio total ',\n",
    "                         legendgroup = 'Promedio total ',\n",
    "                         opacity= op,\n",
    "                         marker_color = colors[i+1],\n",
    "                         showlegend=False),\n",
    "                  row=2, col=col_num)   \n",
    "    \n",
    "    # Porcentaje diario\n",
    "    \n",
    "    \n",
    "    d_temp[['pm25','pm10']] = d_temp[['pm25','pm10']]/np.sum(d_temp[['pm25','pm10']])\n",
    "    \n",
    "    fig.add_trace(go.Scatter(x=d_temp['Fecha_Hora'], y=d_temp['pm25'],\n",
    "                             name = 'Porcentaje mes del año',\n",
    "                             legendgroup = 'Porcentaje mes del año',\n",
    "                             mode = 'lines+markers',\n",
    "                             showlegend = True,\n",
    "                             line = dict(color='black', width=1.5, dash = 'dash')),\n",
    "                  row=1, col=col_num, secondary_y=True,)\n",
    "    \n",
    "    fig.add_trace(go.Scatter(x=d_temp['Fecha_Hora'], y=d_temp['pm10'],\n",
    "                             name = 'Porcentaje mes del año',\n",
    "                             legendgroup = 'Porcentaje mes del año',\n",
    "                             mode = 'lines+markers',\n",
    "                             showlegend = False,\n",
    "                             line = dict(color='black', width=1.5, dash = 'dash')),\n",
    "                  row=2, col=col_num, secondary_y=True,)\n",
    "    \n",
    "    \n",
    "def scatter_datos(max_est_1, max_est_2, datos, col_num):\n",
    "    \n",
    "\n",
    "    op = 0.75\n",
    "\n",
    "    s = 20\n",
    "\n",
    "    w = 4\n",
    "\n",
    "    span = 5\n",
    "    #ADD TRACES \n",
    "    \n",
    "    #TOP ESTACIONES\n",
    "\n",
    "    ##1\n",
    "    \n",
    "    for i in range(np.size(max_est_1)):\n",
    "\n",
    "        datos_temp = datos.loc[datos['codigoSerial'] == max_est_1[i]]\n",
    "\n",
    "\n",
    "        # Add traces\n",
    "\n",
    "        fig.add_trace(go.Scatter(x= datos_temp['Fecha_Hora'],y = datos_temp['pm25'],\n",
    "                                 mode='markers',\n",
    "                                 opacity= op,\n",
    "                                 name = 'Estación ' + max_est_1[i],\n",
    "                                 legendgroup = 'Estación ' + max_est_1[i],\n",
    "                                 marker=dict(\n",
    "                                     size=s,\n",
    "                                     color = colors[i],)\n",
    "                                ),\n",
    "                      row=1, col=col_num)\n",
    "\n",
    "    ##2\n",
    "        \n",
    "    for i in range(np.size(max_est_2)):\n",
    "        \n",
    "        showlegend = False\n",
    "        color = colors[i]\n",
    "        \n",
    "        if np.isin(max_est_2[i], max_est_1) != True:\n",
    "            showlegend = True\n",
    "            color = colors[-1]\n",
    "        \n",
    "        #query for data of each station\n",
    "        datos_temp = datos.loc[datos['codigoSerial'] == max_est_2[i]]\n",
    "\n",
    "        fig.add_trace(go.Scatter(x= datos_temp['Fecha_Hora'], y = datos_temp['pm10'],\n",
    "                                 mode='markers',\n",
    "                                 opacity= op,\n",
    "                                 name = 'Estación ' + max_est_2[i],\n",
    "                                 legendgroup = 'Estación ' + max_est_2[i],\n",
    "                                 showlegend = showlegend,\n",
    "                                 marker=dict(\n",
    "                                     size=s,\n",
    "                                     color = color,)\n",
    "                                ),\n",
    "                      row=2, col=col_num)\n",
    "\n",
    "    \n",
    "    \n",
    "    # MEDIA MÓVIL\n",
    "    \n",
    "    media = datos.groupby(by=datos['Fecha_Hora']).mean()\n",
    "    media = media.reset_index()\n",
    "    media['pm25']  = media['pm25'].ewm(span=span,adjust=False).mean()\n",
    "    media['pm10']  = media['pm10'].ewm(span=span,adjust=False).mean()\n",
    "\n",
    "\n",
    "\n",
    "    fig.add_trace(go.Scatter(x= media['Fecha_Hora'],y = media['pm25'],\n",
    "                             mode='lines',\n",
    "                             name = 'Media Móvil',\n",
    "                             legendgroup = 'Media Móvil',\n",
    "                             showlegend = True,\n",
    "                             line = dict(color='black', width=w)),\n",
    "                  row=1, col=col_num)\n",
    "\n",
    "\n",
    "\n",
    "    fig.add_trace(go.Scatter(x= media['Fecha_Hora'],y = media['pm10'],\n",
    "                             mode='lines',\n",
    "                             name = 'Otras',\n",
    "                             legendgroup = 'Media Móvil',\n",
    "                             showlegend = False,\n",
    "                             line = dict(color='black', width=w)),\n",
    "                  row=2, col=col_num)\n",
    "\n",
    "    \n",
    "    #linea horizontal    \n",
    "    \n",
    "    \n",
    "    val_1 = 10\n",
    "    name_2 = 'Límite anual OMS'\n",
    "    fig.add_trace(go.Scatter(x=[np.min(media['Fecha_Hora']), np.max(media['Fecha_Hora'])], y=[val_1,val_1],\n",
    "                             name = name_2,\n",
    "                             legendgroup = name_2,\n",
    "                             mode = 'lines',\n",
    "                             showlegend = True,\n",
    "                             line = dict(color='red', width=w, dash = 'dash')),\n",
    "                  row=1, col=col_num, secondary_y=False,)\n",
    "    \n",
    "    val_2 = 20\n",
    "    \n",
    "    fig.add_trace(go.Scatter(x=[np.min(media['Fecha_Hora']), np.max(media['Fecha_Hora'])], y=[val_2,val_2],\n",
    "                             name = name_2,\n",
    "                             legendgroup = name_2,\n",
    "                             mode = 'lines',\n",
    "                             showlegend = False,\n",
    "                             line = dict(color='red', width=w, dash = 'dash')),\n",
    "                  row=2, col=col_num, secondary_y=False,)\n",
    "    \n",
    "    \n",
    "    # FIGURE LAYOUT\n",
    "    \n",
    "    \n",
    "    dim = 1200\n",
    "    \n",
    "    fig.update_layout(height=9*dim/16, width=dim, title= 'Registros diarios por estación (2014-2019)',\n",
    "                      title_font_size=25, \n",
    "                      font_size=20,\n",
    "                      legend=dict(\n",
    "                          orientation=\"h\",\n",
    "                          yanchor=\"bottom\",\n",
    "                          y=1.0,\n",
    "                          xanchor=\"right\", \n",
    "                          x = 0.95)                 \n",
    "                 )\n",
    "    \n",
    "    fig.update_yaxes(title= 'pm 2.5 (\\u03BCg/m\\u00b3)',  row=1, col=1)\n",
    "    fig.update_yaxes(title= 'pm 10 (\\u03BCg/m\\u00b3)', row=2, col=1)\n",
    "    \n",
    "\n",
    "def medias_moviles(max_est_1, max_est_2, datos, col_num):\n",
    "    \n",
    "    op = 0.85\n",
    "\n",
    "    s = 10\n",
    "\n",
    "    w = 4\n",
    "    \n",
    "    span = 7\n",
    "    \n",
    "    # TRACES\n",
    "    \n",
    "    # MEDIA MÓVIL\n",
    "    \n",
    "    media = datos.groupby(by=datos['Fecha_Hora']).mean()\n",
    "    media = media.reset_index()\n",
    "    media['pm25']  = media['pm25'].ewm(span=span,adjust=False).mean()\n",
    "    media['pm10']  = media['pm10'].ewm(span=span,adjust=False).mean()\n",
    "\n",
    "\n",
    "    fig.add_trace(go.Scatter(x= media['Fecha_Hora'],y = media['pm25'],\n",
    "                             mode='lines',\n",
    "                             name = 'Total',\n",
    "                             legendgroup = 'Total',\n",
    "                             showlegend = True,\n",
    "                             line = dict(color='black', width=w)),\n",
    "                  row=1, col=col_num)\n",
    "\n",
    "\n",
    "\n",
    "    fig.add_trace(go.Scatter(x= media['Fecha_Hora'],y = media['pm10'],\n",
    "                             mode='lines',\n",
    "                             name = 'Total',\n",
    "                             legendgroup = 'Total',\n",
    "                             showlegend = False,\n",
    "                             line = dict(color='black', width=w)),\n",
    "                  row=2, col=col_num)\n",
    "\n",
    "    \n",
    "    #TOP ESTACIONES\n",
    "\n",
    "    ##1\n",
    "    \n",
    "    for i in range(np.size(max_est_1)):\n",
    "    \n",
    "        datos_temp = datos.loc[datos['codigoSerial'] == max_est_1[i]]\n",
    "\n",
    "        datos_temp.loc[:,'pm25']  = datos_temp.loc[:,'pm25'].ewm(span=span,adjust=False).mean()\n",
    "        datos_temp.loc[:,'pm10']  = datos_temp.loc[:,'pm10'].ewm(span=span,adjust=False).mean()\n",
    "\n",
    "        # Add traces\n",
    "\n",
    "        fig.add_trace(go.Scatter(x= datos_temp['Fecha_Hora'],y = datos_temp['pm25'],\n",
    "                                 opacity= op,\n",
    "                                 name = 'Estación ' + max_est_1[i],\n",
    "                                 legendgroup = 'Estación ' + max_est_1[i],\n",
    "                                 line = dict(color=colors[i], width=w)),\n",
    "                      row=1, col=col_num)\n",
    "\n",
    "    ##2\n",
    "    \n",
    "    for i in range(np.size(max_est_2)):\n",
    "        \n",
    "        showlegend = False\n",
    "        color = colors[i]\n",
    "        \n",
    "        if np.isin(max_est_2[i], max_est_1) != True:\n",
    "            showlegend = True\n",
    "            color = colors[-1]\n",
    "        \n",
    "\n",
    "        datos_temp = datos.loc[datos['codigoSerial'] == max_est_2[i]]\n",
    "\n",
    "        datos_temp.loc[:,'pm25']  = datos_temp.loc[:,'pm25'].ewm(span=span,adjust=False).mean()\n",
    "        datos_temp.loc[:,'pm10']  = datos_temp.loc[:,'pm10'].ewm(span=span,adjust=False).mean()\n",
    "        \n",
    "        fig.add_trace(go.Scatter(x= datos_temp['Fecha_Hora'],y = datos_temp['pm10'],                     \n",
    "                                 opacity= op,\n",
    "                                 name = 'Estación ' + max_est_2[i],\n",
    "                                 legendgroup = 'Estación ' + max_est_2[i],\n",
    "                                 showlegend = showlegend,\n",
    "                                 line = dict(color=color, width=w)),\n",
    "                      row=2, col=col_num)\n",
    "\n",
    "    \n",
    "    \n",
    "    #linea horizontal    \n",
    "    \n",
    "    val_1 = 10\n",
    "    name_2 = 'Límite anual OMS'\n",
    "    fig.add_trace(go.Scatter(x=[np.min(media['Fecha_Hora']), np.max(media['Fecha_Hora'])], y=[val_1,val_1],\n",
    "                             name = name_2,\n",
    "                             legendgroup = name_2,\n",
    "                             mode = 'lines',\n",
    "                             showlegend = True,\n",
    "                             line = dict(color='red', width=w, dash = 'dash')),\n",
    "                  row=1, col=col_num, secondary_y=False,)\n",
    "    \n",
    "    val_2 = 20\n",
    "    \n",
    "    fig.add_trace(go.Scatter(x=[np.min(media['Fecha_Hora']), np.max(media['Fecha_Hora'])], y=[val_2,val_2],\n",
    "                             name = name_2,\n",
    "                             legendgroup = name_2,\n",
    "                             mode = 'lines',\n",
    "                             showlegend = False,\n",
    "                             line = dict(color='red', width=w, dash = 'dash')),\n",
    "                  row=2, col=col_num, secondary_y=False,)\n",
    "    \n",
    "    "
   ]
  },
  {
   "cell_type": "code",
   "execution_count": null,
   "metadata": {},
   "outputs": [],
   "source": []
  },
  {
   "cell_type": "code",
   "execution_count": null,
   "metadata": {},
   "outputs": [],
   "source": []
  },
  {
   "cell_type": "code",
   "execution_count": null,
   "metadata": {},
   "outputs": [],
   "source": [
    "    \n",
    "    #Figure layout\n",
    "    \n",
    "    fig.update_yaxes(title_text= 'pm 2.5 (\\u03BCg/m\\u00b3)',  row=1, col=1, secondary_y=False )\n",
    "    fig.update_yaxes(title_text= 'pm 10 (\\u03BCg/m\\u00b3)', row=2, col=1, secondary_y=False)\n",
    "    \n",
    "    fig.update_yaxes(tickformat= '%', row=1, col=1, secondary_y=True)\n",
    "    fig.update_yaxes(tickformat= '%', row=2, col=1, secondary_y=True)\n",
    "    \n",
    "    fig.update_xaxes(tickmode = 'array',\n",
    "                 tickvals = np.arange(1,13),\n",
    "                 ticktext= months)\n",
    "\n",
    "\n",
    "    dim = 1200\n",
    "\n",
    "    fig.update_layout(height=9*dim/16, width=dim, title= 'Promedio mensual por estación (2014-2019)',\n",
    "                      title_font_size=25, \n",
    "                      font_size=20,\n",
    "                      legend=dict(\n",
    "                                    orientation=\"h\",\n",
    "                                    yanchor=\"bottom\",\n",
    "                                    y=1.0,\n",
    "                                    xanchor=\"right\",\n",
    "                                    x=0.95\n",
    "                                )\n",
    "                     )"
   ]
  },
  {
   "cell_type": "code",
   "execution_count": 76,
   "metadata": {
    "ExecuteTime": {
     "end_time": "2021-03-11T05:54:04.667342Z",
     "start_time": "2021-03-11T05:54:04.635987Z"
    }
   },
   "outputs": [
    {
     "name": "stdout",
     "output_type": "stream",
     "text": [
      "Help on function make_subplots in module plotly.subplots:\n",
      "\n",
      "make_subplots(rows=1, cols=1, shared_xaxes=False, shared_yaxes=False, start_cell='top-left', print_grid=False, horizontal_spacing=None, vertical_spacing=None, subplot_titles=None, column_widths=None, row_heights=None, specs=None, insets=None, column_titles=None, row_titles=None, x_title=None, y_title=None, **kwargs)\n",
      "    Return an instance of plotly.graph_objs.Figure with predefined subplots\n",
      "    configured in 'layout'.\n",
      "    \n",
      "    Parameters\n",
      "    ----------\n",
      "    rows: int (default 1)\n",
      "        Number of rows in the subplot grid. Must be greater than zero.\n",
      "    \n",
      "    cols: int (default 1)\n",
      "        Number of columns in the subplot grid. Must be greater than zero.\n",
      "    \n",
      "    shared_xaxes: boolean or str (default False)\n",
      "        Assign shared (linked) x-axes for 2D cartesian subplots\n",
      "    \n",
      "          - True or 'columns': Share axes among subplots in the same column\n",
      "          - 'rows': Share axes among subplots in the same row\n",
      "          - 'all': Share axes across all subplots in the grid.\n",
      "    \n",
      "    shared_yaxes: boolean or str (default False)\n",
      "        Assign shared (linked) y-axes for 2D cartesian subplots\n",
      "    \n",
      "          - 'columns': Share axes among subplots in the same column\n",
      "          - True or 'rows': Share axes among subplots in the same row\n",
      "          - 'all': Share axes across all subplots in the grid.\n",
      "    \n",
      "    start_cell: 'bottom-left' or 'top-left' (default 'top-left')\n",
      "        Choose the starting cell in the subplot grid used to set the\n",
      "        domains_grid of the subplots.\n",
      "    \n",
      "          - 'top-left': Subplots are numbered with (1, 1) in the top\n",
      "                        left corner\n",
      "          - 'bottom-left': Subplots are numbererd with (1, 1) in the bottom\n",
      "                           left corner\n",
      "    \n",
      "    print_grid: boolean (default True):\n",
      "        If True, prints a string representation of the plot grid.  Grid may\n",
      "        also be printed using the `Figure.print_grid()` method on the\n",
      "        resulting figure.\n",
      "    \n",
      "    horizontal_spacing: float (default 0.2 / cols)\n",
      "        Space between subplot columns in normalized plot coordinates. Must be\n",
      "        a float between 0 and 1.\n",
      "    \n",
      "        Applies to all columns (use 'specs' subplot-dependents spacing)\n",
      "    \n",
      "    vertical_spacing: float (default 0.3 / rows)\n",
      "        Space between subplot rows in normalized plot coordinates. Must be\n",
      "        a float between 0 and 1.\n",
      "    \n",
      "        Applies to all rows (use 'specs' subplot-dependents spacing)\n",
      "    \n",
      "    subplot_titles: list of str or None (default None)\n",
      "        Title of each subplot as a list in row-major ordering.\n",
      "    \n",
      "        Empty strings (\"\") can be included in the list if no subplot title\n",
      "        is desired in that space so that the titles are properly indexed.\n",
      "    \n",
      "    specs: list of lists of dict or None (default None)\n",
      "        Per subplot specifications of subplot type, row/column spanning, and\n",
      "        spacing.\n",
      "    \n",
      "        ex1: specs=[[{}, {}], [{'colspan': 2}, None]]\n",
      "    \n",
      "        ex2: specs=[[{'rowspan': 2}, {}], [None, {}]]\n",
      "    \n",
      "        - Indices of the outer list correspond to subplot grid rows\n",
      "          starting from the top, if start_cell='top-left',\n",
      "          or bottom, if start_cell='bottom-left'.\n",
      "          The number of rows in 'specs' must be equal to 'rows'.\n",
      "    \n",
      "        - Indices of the inner lists correspond to subplot grid columns\n",
      "          starting from the left. The number of columns in 'specs'\n",
      "          must be equal to 'cols'.\n",
      "    \n",
      "        - Each item in the 'specs' list corresponds to one subplot\n",
      "          in a subplot grid. (N.B. The subplot grid has exactly 'rows'\n",
      "          times 'cols' cells.)\n",
      "    \n",
      "        - Use None for a blank a subplot cell (or to move past a col/row span).\n",
      "    \n",
      "        - Note that specs[0][0] has the specs of the 'start_cell' subplot.\n",
      "    \n",
      "        - Each item in 'specs' is a dictionary.\n",
      "            The available keys are:\n",
      "            * type (string, default 'xy'): Subplot type. One of\n",
      "                - 'xy': 2D Cartesian subplot type for scatter, bar, etc.\n",
      "                - 'scene': 3D Cartesian subplot for scatter3d, cone, etc.\n",
      "                - 'polar': Polar subplot for scatterpolar, barpolar, etc.\n",
      "                - 'ternary': Ternary subplot for scatterternary\n",
      "                - 'mapbox': Mapbox subplot for scattermapbox\n",
      "                - 'domain': Subplot type for traces that are individually\n",
      "                            positioned. pie, parcoords, parcats, etc.\n",
      "                - trace type: A trace type which will be used to determine\n",
      "                              the appropriate subplot type for that trace\n",
      "    \n",
      "            * secondary_y (bool, default False): If True, create a secondary\n",
      "                y-axis positioned on the right side of the subplot. Only valid\n",
      "                if type='xy'.\n",
      "            * colspan (int, default 1): number of subplot columns\n",
      "                for this subplot to span.\n",
      "            * rowspan (int, default 1): number of subplot rows\n",
      "                for this subplot to span.\n",
      "            * l (float, default 0.0): padding left of cell\n",
      "            * r (float, default 0.0): padding right of cell\n",
      "            * t (float, default 0.0): padding right of cell\n",
      "            * b (float, default 0.0): padding bottom of cell\n",
      "    \n",
      "        - Note: Use 'horizontal_spacing' and 'vertical_spacing' to adjust\n",
      "          the spacing in between the subplots.\n",
      "    \n",
      "    insets: list of dict or None (default None):\n",
      "        Inset specifications.  Insets are subplots that overlay grid subplots\n",
      "    \n",
      "        - Each item in 'insets' is a dictionary.\n",
      "            The available keys are:\n",
      "    \n",
      "            * cell (tuple, default=(1,1)): (row, col) index of the\n",
      "                subplot cell to overlay inset axes onto.\n",
      "            * type (string, default 'xy'): Subplot type\n",
      "            * l (float, default=0.0): padding left of inset\n",
      "                  in fraction of cell width\n",
      "            * w (float or 'to_end', default='to_end') inset width\n",
      "                  in fraction of cell width ('to_end': to cell right edge)\n",
      "            * b (float, default=0.0): padding bottom of inset\n",
      "                  in fraction of cell height\n",
      "            * h (float or 'to_end', default='to_end') inset height\n",
      "                  in fraction of cell height ('to_end': to cell top edge)\n",
      "    \n",
      "    column_widths: list of numbers or None (default None)\n",
      "        list of length `cols` of the relative widths of each column of suplots.\n",
      "        Values are normalized internally and used to distribute overall width\n",
      "        of the figure (excluding padding) among the columns.\n",
      "    \n",
      "        For backward compatibility, may also be specified using the\n",
      "        `column_width` keyword argument.\n",
      "    \n",
      "    row_heights: list of numbers or None (default None)\n",
      "        list of length `rows` of the relative heights of each row of subplots.\n",
      "        If start_cell='top-left' then row heights are applied top to bottom.\n",
      "        Otherwise, if start_cell='bottom-left' then row heights are applied\n",
      "        bottom to top.\n",
      "    \n",
      "        For backward compatibility, may also be specified using the\n",
      "        `row_width` kwarg. If specified as `row_width`, then the width values\n",
      "        are applied from bottom to top regardless of the value of start_cell.\n",
      "        This matches the legacy behavior of the `row_width` argument.\n",
      "    \n",
      "    column_titles: list of str or None (default None)\n",
      "        list of length `cols` of titles to place above the top subplot in\n",
      "        each column.\n",
      "    \n",
      "    row_titles: list of str or None (default None)\n",
      "        list of length `rows` of titles to place on the right side of each\n",
      "        row of subplots. If start_cell='top-left' then row titles are\n",
      "        applied top to bottom. Otherwise, if start_cell='bottom-left' then\n",
      "        row titles are applied bottom to top.\n",
      "    \n",
      "    x_title: str or None (default None)\n",
      "        Title to place below the bottom row of subplots,\n",
      "        centered horizontally\n",
      "    \n",
      "    y_title: str or None (default None)\n",
      "        Title to place to the left of the left column of subplots,\n",
      "       centered vertically\n",
      "    \n",
      "    Examples\n",
      "    --------\n",
      "    \n",
      "    Example 1:\n",
      "    \n",
      "    >>> # Stack two subplots vertically, and add a scatter trace to each\n",
      "    >>> from plotly.subplots import make_subplots\n",
      "    >>> import plotly.graph_objects as go\n",
      "    >>> fig = make_subplots(rows=2)\n",
      "    \n",
      "    This is the format of your plot grid:\n",
      "    [ (1,1) xaxis1,yaxis1 ]\n",
      "    [ (2,1) xaxis2,yaxis2 ]\n",
      "    \n",
      "    >>> fig.add_scatter(y=[2, 1, 3], row=1, col=1) # doctest: +ELLIPSIS\n",
      "    Figure(...)\n",
      "    >>> fig.add_scatter(y=[1, 3, 2], row=2, col=1) # doctest: +ELLIPSIS\n",
      "    Figure(...)\n",
      "    \n",
      "    or see Figure.append_trace\n",
      "    \n",
      "    Example 2:\n",
      "    \n",
      "    >>> # Stack a scatter plot\n",
      "    >>> fig = make_subplots(rows=2, shared_xaxes=True)\n",
      "    \n",
      "    This is the format of your plot grid:\n",
      "    [ (1,1) xaxis1,yaxis1 ]\n",
      "    [ (2,1) xaxis2,yaxis2 ]\n",
      "    \n",
      "    >>> fig.add_scatter(y=[2, 1, 3], row=1, col=1) # doctest: +ELLIPSIS\n",
      "    Figure(...)\n",
      "    >>> fig.add_scatter(y=[1, 3, 2], row=2, col=1) # doctest: +ELLIPSIS\n",
      "    Figure(...)\n",
      "    \n",
      "    Example 3:\n",
      "    \n",
      "    >>> # irregular subplot layout (more examples below under 'specs')\n",
      "    >>> fig = make_subplots(rows=2, cols=2,\n",
      "    ...                     specs=[[{}, {}],\n",
      "    ...                     [{'colspan': 2}, None]])\n",
      "    \n",
      "    This is the format of your plot grid:\n",
      "    [ (1,1) xaxis1,yaxis1 ]  [ (1,2) xaxis2,yaxis2 ]\n",
      "    [ (2,1) xaxis3,yaxis3           -              ]\n",
      "    \n",
      "    >>> fig.add_trace(go.Scatter(x=[1,2,3], y=[2,1,2]), row=1, col=1) # doctest: +ELLIPSIS\n",
      "    Figure(...)\n",
      "    >>> fig.add_trace(go.Scatter(x=[1,2,3], y=[2,1,2]), row=1, col=2) # doctest: +ELLIPSIS\n",
      "    Figure(...)\n",
      "    >>> fig.add_trace(go.Scatter(x=[1,2,3], y=[2,1,2]), row=2, col=1) # doctest: +ELLIPSIS\n",
      "    Figure(...)\n",
      "    \n",
      "    Example 4:\n",
      "    \n",
      "    >>> # insets\n",
      "    >>> fig = make_subplots(insets=[{'cell': (1,1), 'l': 0.7, 'b': 0.3}])\n",
      "    \n",
      "    This is the format of your plot grid:\n",
      "    [ (1,1) xaxis1,yaxis1 ]\n",
      "    \n",
      "    With insets:\n",
      "    [ xaxis2,yaxis2 ] over [ (1,1) xaxis1,yaxis1 ]\n",
      "    \n",
      "    >>> fig.add_scatter(x=[1,2,3], y=[2,1,1]) # doctest: +ELLIPSIS\n",
      "    Figure(...)\n",
      "    >>> fig.add_scatter(x=[1,2,3], y=[2,1,2], xaxis='x2', yaxis='y2') # doctest: +ELLIPSIS\n",
      "    Figure(...)\n",
      "    \n",
      "    Example 5:\n",
      "    \n",
      "    >>> # include subplot titles\n",
      "    >>> fig = make_subplots(rows=2, subplot_titles=('Plot 1','Plot 2'))\n",
      "    \n",
      "    This is the format of your plot grid:\n",
      "    [ (1,1) x1,y1 ]\n",
      "    [ (2,1) x2,y2 ]\n",
      "    \n",
      "    >>> fig.add_scatter(x=[1,2,3], y=[2,1,2], row=1, col=1) # doctest: +ELLIPSIS\n",
      "    Figure(...)\n",
      "    >>> fig.add_bar(x=[1,2,3], y=[2,1,2], row=2, col=1) # doctest: +ELLIPSIS\n",
      "    Figure(...)\n",
      "    \n",
      "    Example 6:\n",
      "    \n",
      "    Subplot with mixed subplot types\n",
      "    \n",
      "    >>> fig = make_subplots(rows=2, cols=2,\n",
      "    ...                     specs=[[{'type': 'xy'},    {'type': 'polar'}],\n",
      "    ...                            [{'type': 'scene'}, {'type': 'ternary'}]])\n",
      "    \n",
      "    >>> fig.add_traces(\n",
      "    ...     [go.Scatter(y=[2, 3, 1]),\n",
      "    ...      go.Scatterpolar(r=[1, 3, 2], theta=[0, 45, 90]),\n",
      "    ...      go.Scatter3d(x=[1, 2, 1], y=[2, 3, 1], z=[0, 3, 5]),\n",
      "    ...      go.Scatterternary(a=[0.1, 0.2, 0.1],\n",
      "    ...                        b=[0.2, 0.3, 0.1],\n",
      "    ...                        c=[0.7, 0.5, 0.8])],\n",
      "    ...     rows=[1, 1, 2, 2],\n",
      "    ...     cols=[1, 2, 1, 2]) # doctest: +ELLIPSIS\n",
      "    Figure(...)\n",
      "\n"
     ]
    }
   ],
   "source": [
    "help(make_subplots)"
   ]
  },
  {
   "cell_type": "code",
   "execution_count": 41,
   "metadata": {
    "ExecuteTime": {
     "end_time": "2021-03-11T05:35:27.499275Z",
     "start_time": "2021-03-11T05:35:27.262641Z"
    }
   },
   "outputs": [
    {
     "data": {
      "application/vnd.plotly.v1+json": {
       "config": {
        "plotlyServerURL": "https://plotly.com"
       },
       "data": [
        {
         "legendgroup": "Total",
         "line": {
          "color": "black",
          "width": 4
         },
         "mode": "lines",
         "name": "Total",
         "showlegend": true,
         "type": "scatter",
         "x": [
          "2014-01-01T00:00:00",
          "2014-02-01T00:00:00",
          "2014-03-01T00:00:00",
          "2014-04-01T00:00:00",
          "2014-05-01T00:00:00",
          "2014-06-01T00:00:00",
          "2014-07-01T00:00:00",
          "2014-08-01T00:00:00",
          "2014-09-01T00:00:00",
          "2014-10-01T00:00:00",
          "2014-11-01T00:00:00",
          "2014-12-01T00:00:00",
          "2015-01-01T00:00:00",
          "2015-02-01T00:00:00",
          "2015-03-01T00:00:00",
          "2015-04-01T00:00:00",
          "2015-05-01T00:00:00",
          "2015-06-01T00:00:00",
          "2015-07-01T00:00:00",
          "2015-08-01T00:00:00",
          "2015-09-01T00:00:00",
          "2015-10-01T00:00:00",
          "2015-11-01T00:00:00",
          "2015-12-01T00:00:00",
          "2016-01-01T00:00:00",
          "2016-02-01T00:00:00",
          "2016-03-01T00:00:00",
          "2016-04-01T00:00:00",
          "2016-05-01T00:00:00",
          "2016-06-01T00:00:00",
          "2016-07-01T00:00:00",
          "2016-08-01T00:00:00",
          "2016-09-01T00:00:00",
          "2016-10-01T00:00:00",
          "2016-11-01T00:00:00",
          "2016-12-01T00:00:00",
          "2017-01-01T00:00:00",
          "2017-02-01T00:00:00",
          "2017-03-01T00:00:00",
          "2017-04-01T00:00:00",
          "2017-05-01T00:00:00",
          "2017-06-01T00:00:00",
          "2017-07-01T00:00:00",
          "2017-08-01T00:00:00",
          "2017-09-01T00:00:00",
          "2017-10-01T00:00:00",
          "2017-11-01T00:00:00",
          "2017-12-01T00:00:00",
          "2018-01-01T00:00:00",
          "2018-02-01T00:00:00",
          "2018-03-01T00:00:00",
          "2018-04-01T00:00:00",
          "2018-05-01T00:00:00",
          "2018-06-01T00:00:00",
          "2018-07-01T00:00:00",
          "2018-08-01T00:00:00",
          "2018-09-01T00:00:00",
          "2018-10-01T00:00:00",
          "2018-11-01T00:00:00",
          "2018-12-01T00:00:00",
          "2019-01-01T00:00:00",
          "2019-02-01T00:00:00",
          "2019-03-01T00:00:00",
          "2019-04-01T00:00:00",
          "2019-05-01T00:00:00",
          "2019-06-01T00:00:00",
          "2019-07-01T00:00:00",
          "2019-08-01T00:00:00",
          "2019-09-01T00:00:00",
          "2019-10-01T00:00:00",
          "2019-11-01T00:00:00",
          "2019-12-01T00:00:00"
         ],
         "xaxis": "x3",
         "y": [
          19.8,
          22.175,
          25.03125,
          23.934151785714285,
          22.888113839285715,
          20.808942522321427,
          18.60670689174107,
          17.830030168805802,
          17.42252262660435,
          18.004391969953264,
          18.87829397746495,
          20.049345483098712,
          19.677634112324036,
          20.97251129852874,
          22.146050140563222,
          20.937662605422418,
          19.828246954066813,
          17.59340743777233,
          16.19505557832925,
          15.410180572635827,
          15.474302096143537,
          16.189059905440985,
          16.96991992908074,
          16.51910661347722,
          20.483079960107915,
          21.778976636747604,
          24.209232477560704,
          23.719424358170528,
          21.039568268627896,
          18.60780120147092,
          16.40897590110319,
          15.467446211541677,
          15.42201323008483,
          16.538732144785843,
          17.729049108589383,
          18.771786831442036,
          18.89134012358153,
          20.206005092686148,
          20.77950381951461,
          20.475252864635955,
          19.267153934191253,
          18.37224045064344,
          16.48230533798258,
          15.711729003486935,
          15.558796752615201,
          15.631597564461401,
          17.418142617790494,
          18.17471807445398,
          18.177913555840487,
          20.117810166880364,
          21.102246514049163,
          20.476684885536873,
          18.774180330819323,
          16.68777810525735,
          15.078333578943013,
          13.808750184207259,
          14.094062638155446,
          14.845546978616584,
          15.384160233962438,
          15.275620175471829,
          15.506715131603872,
          17.880036348702905,
          20.47252726152718,
          20.204395446145384,
          18.69079658460904,
          16.462541882901224,
          14.821906412175919,
          14.397679809131938,
          14.173259856848954,
          14.036194892636715,
          14.667771169477536,
          14.788328377108153
         ],
         "yaxis": "y4"
        },
        {
         "legendgroup": "Total",
         "line": {
          "color": "black",
          "width": 4
         },
         "mode": "lines",
         "name": "Total",
         "showlegend": false,
         "type": "scatter",
         "x": [
          "2014-01-01T00:00:00",
          "2014-02-01T00:00:00",
          "2014-03-01T00:00:00",
          "2014-04-01T00:00:00",
          "2014-05-01T00:00:00",
          "2014-06-01T00:00:00",
          "2014-07-01T00:00:00",
          "2014-08-01T00:00:00",
          "2014-09-01T00:00:00",
          "2014-10-01T00:00:00",
          "2014-11-01T00:00:00",
          "2014-12-01T00:00:00",
          "2015-01-01T00:00:00",
          "2015-02-01T00:00:00",
          "2015-03-01T00:00:00",
          "2015-04-01T00:00:00",
          "2015-05-01T00:00:00",
          "2015-06-01T00:00:00",
          "2015-07-01T00:00:00",
          "2015-08-01T00:00:00",
          "2015-09-01T00:00:00",
          "2015-10-01T00:00:00",
          "2015-11-01T00:00:00",
          "2015-12-01T00:00:00",
          "2016-01-01T00:00:00",
          "2016-02-01T00:00:00",
          "2016-03-01T00:00:00",
          "2016-04-01T00:00:00",
          "2016-05-01T00:00:00",
          "2016-06-01T00:00:00",
          "2016-07-01T00:00:00",
          "2016-08-01T00:00:00",
          "2016-09-01T00:00:00",
          "2016-10-01T00:00:00",
          "2016-11-01T00:00:00",
          "2016-12-01T00:00:00",
          "2017-01-01T00:00:00",
          "2017-02-01T00:00:00",
          "2017-03-01T00:00:00",
          "2017-04-01T00:00:00",
          "2017-05-01T00:00:00",
          "2017-06-01T00:00:00",
          "2017-07-01T00:00:00",
          "2017-08-01T00:00:00",
          "2017-09-01T00:00:00",
          "2017-10-01T00:00:00",
          "2017-11-01T00:00:00",
          "2017-12-01T00:00:00",
          "2018-01-01T00:00:00",
          "2018-02-01T00:00:00",
          "2018-03-01T00:00:00",
          "2018-04-01T00:00:00",
          "2018-05-01T00:00:00",
          "2018-06-01T00:00:00",
          "2018-07-01T00:00:00",
          "2018-08-01T00:00:00",
          "2018-09-01T00:00:00",
          "2018-10-01T00:00:00",
          "2018-11-01T00:00:00",
          "2018-12-01T00:00:00",
          "2019-01-01T00:00:00",
          "2019-02-01T00:00:00",
          "2019-03-01T00:00:00",
          "2019-04-01T00:00:00",
          "2019-05-01T00:00:00",
          "2019-06-01T00:00:00",
          "2019-07-01T00:00:00",
          "2019-08-01T00:00:00",
          "2019-09-01T00:00:00",
          "2019-10-01T00:00:00",
          "2019-11-01T00:00:00",
          "2019-12-01T00:00:00"
         ],
         "xaxis": "x6",
         "y": [
          49.6,
          52.85909090909091,
          54.91704545454545,
          51.903693181818184,
          51.35832544191919,
          49.4062440814394,
          46.179683061079544,
          45.10976229580966,
          44.83232172185724,
          45.686741291392934,
          47.5775559685447,
          49.19566697640853,
          48.0467502323064,
          49.5100626742298,
          51.05754700567235,
          48.10566025425426,
          46.0917451906907,
          41.34380889301803,
          38.33285666976352,
          36.349642502322645,
          36.662231876741984,
          38.17167390755649,
          39.553755430667366,
          38.30420546188941,
          45.14482076308373,
          47.4086155723128,
          50.1502116792346,
          49.862658759425955,
          45.568869069569466,
          42.0516518021771,
          38.46373885163282,
          36.62558191650239,
          36.27474199293235,
          37.80605649469926,
          39.46704237102445,
          41.47528177826834,
          41.53146133370126,
          44.03609600027595,
          43.98540533354029,
          37.87967900015522,
          32.284759250116416,
          33.38544443758731,
          31.251583328190485,
          31.96646527392064,
          33.04984895544048,
          34.36238671658036,
          38.2301233707686,
          39.92259252807645,
          39.83083328494622,
          43.30368051926522,
          44.533315945004475,
          43.64998695875336,
          41.0152679968428,
          37.525339886520996,
          35.13150491489075,
          33.41112868616806,
          33.958346514626044,
          34.74653766374731,
          36.36545880336604,
          36.61500319343362,
          36.38170694052976,
          39.2180983872155,
          41.39084651768435,
          40.24768034280872,
          38.08348752983381,
          33.80125201101173,
          31.214575371895158,
          29.820022438012277,
          29.751380464872845,
          30.57489898501827,
          31.718674238763704,
          32.71956123462834
         ],
         "yaxis": "y8"
        },
        {
         "legendgroup": "Estación Ken",
         "line": {
          "color": "salmon",
          "width": 4
         },
         "name": "Estación Ken",
         "opacity": 0.85,
         "type": "scatter",
         "x": [
          "2014-01-01T00:00:00",
          "2014-02-01T00:00:00",
          "2014-03-01T00:00:00",
          "2014-04-01T00:00:00",
          "2014-05-01T00:00:00",
          "2014-06-01T00:00:00",
          "2014-07-01T00:00:00",
          "2014-08-01T00:00:00",
          "2014-09-01T00:00:00",
          "2014-10-01T00:00:00",
          "2014-11-01T00:00:00",
          "2014-12-01T00:00:00",
          "2015-01-01T00:00:00",
          "2015-02-01T00:00:00",
          "2015-03-01T00:00:00",
          "2015-04-01T00:00:00",
          "2015-05-01T00:00:00",
          "2015-06-01T00:00:00",
          "2015-07-01T00:00:00",
          "2015-08-01T00:00:00",
          "2015-09-01T00:00:00",
          "2015-10-01T00:00:00",
          "2015-11-01T00:00:00",
          "2015-12-01T00:00:00",
          "2016-01-01T00:00:00",
          "2016-02-01T00:00:00",
          "2016-03-01T00:00:00",
          "2016-04-01T00:00:00",
          "2016-05-01T00:00:00",
          "2016-06-01T00:00:00",
          "2016-07-01T00:00:00",
          "2016-08-01T00:00:00",
          "2016-09-01T00:00:00",
          "2016-10-01T00:00:00",
          "2016-11-01T00:00:00",
          "2016-12-01T00:00:00",
          "2017-01-01T00:00:00",
          "2017-02-01T00:00:00",
          "2017-03-01T00:00:00",
          "2017-04-01T00:00:00",
          "2017-05-01T00:00:00",
          "2017-06-01T00:00:00",
          "2017-07-01T00:00:00",
          "2017-08-01T00:00:00",
          "2017-09-01T00:00:00",
          "2017-10-01T00:00:00",
          "2017-11-01T00:00:00",
          "2017-12-01T00:00:00",
          "2018-01-01T00:00:00",
          "2018-02-01T00:00:00",
          "2018-03-01T00:00:00",
          "2018-04-01T00:00:00",
          "2018-05-01T00:00:00",
          "2018-06-01T00:00:00",
          "2018-07-01T00:00:00",
          "2018-08-01T00:00:00",
          "2018-09-01T00:00:00",
          "2018-10-01T00:00:00",
          "2018-11-01T00:00:00",
          "2018-12-01T00:00:00",
          "2019-01-01T00:00:00",
          "2019-02-01T00:00:00",
          "2019-03-01T00:00:00",
          "2019-04-01T00:00:00",
          "2019-05-01T00:00:00",
          "2019-06-01T00:00:00",
          "2019-07-01T00:00:00",
          "2019-08-01T00:00:00",
          "2019-09-01T00:00:00",
          "2019-10-01T00:00:00",
          "2019-11-01T00:00:00",
          "2019-12-01T00:00:00"
         ],
         "xaxis": "x3",
         "y": [
          36,
          38.125,
          39.59375,
          37.3203125,
          35.740234375,
          33.80517578125,
          33.1038818359375,
          31.827911376953125,
          30.120933532714844,
          30.465700149536133,
          30.3492751121521,
          31.636956334114075,
          30.852717250585556,
          31.889537937939167,
          32.417153453454375,
          31.43786509009078,
          30.703398817568086,
          28.527549113176065,
          27.39566183488205,
          26.671746376161536,
          27.753809782121152,
          29.315357336590864,
          29.611518002443148,
          28.83363850183236,
          31.875228876374273,
          33.4064216572807,
          34.17981624296053,
          32.884862182220395,
          30.913646636665298,
          29.310234977498972,
          27.35767623312423,
          27.14325717484317,
          27.85744288113238,
          29.143082160849282,
          30.107311620636963,
          31.330483715477722,
          28.37286278660829,
          29.154647089956217,
          29.365985317467164,
          29.149488988100373,
          28.23711674107528,
          27.55283755580646,
          26.039628166854843,
          26.279721125141133,
          26.45979084385585,
          26.71984313289189,
          28.289882349668915,
          28.717411762251686,
          28.413058821688765,
          29.184794116266573,
          30.01359558719993,
          29.510196690399948,
          28.13264751779996,
          26.849485638349968,
          25.637114228762478,
          25.47783567157186,
          25.233376753678897,
          25.175032565259173,
          25.13127442394438,
          26.223455817958286,
          26.417591863468715,
          30.313193897601536,
          33.85989542320115,
          33.644921567400864,
          32.358691175550646,
          30.019018381662985,
          28.514263786247238,
          28.135697839685427,
          28.35177337976407,
          29.26383003482305,
          29.322872526117287,
          29.617154394587963
         ],
         "yaxis": "y4"
        },
        {
         "legendgroup": "Estación MinA",
         "line": {
          "color": "mediumaquamarine",
          "width": 4
         },
         "name": "Estación MinA",
         "opacity": 0.85,
         "type": "scatter",
         "x": [
          "2014-01-01T00:00:00",
          "2014-02-01T00:00:00",
          "2014-03-01T00:00:00",
          "2014-04-01T00:00:00",
          "2014-05-01T00:00:00",
          "2014-06-01T00:00:00",
          "2014-07-01T00:00:00",
          "2014-08-01T00:00:00",
          "2014-09-01T00:00:00",
          "2014-10-01T00:00:00",
          "2014-11-01T00:00:00",
          "2014-12-01T00:00:00",
          "2015-01-01T00:00:00",
          "2015-02-01T00:00:00",
          "2015-03-01T00:00:00",
          "2015-04-01T00:00:00",
          "2015-05-01T00:00:00",
          "2015-06-01T00:00:00",
          "2015-07-01T00:00:00",
          "2015-08-01T00:00:00",
          "2015-09-01T00:00:00",
          "2015-10-01T00:00:00",
          "2015-11-01T00:00:00",
          "2015-12-01T00:00:00",
          "2016-01-01T00:00:00",
          "2016-02-01T00:00:00",
          "2016-03-01T00:00:00",
          "2016-04-01T00:00:00",
          "2016-05-01T00:00:00",
          "2016-06-01T00:00:00",
          "2016-07-01T00:00:00",
          "2016-08-01T00:00:00",
          "2016-09-01T00:00:00",
          "2016-10-01T00:00:00",
          "2016-11-01T00:00:00",
          "2016-12-01T00:00:00",
          "2017-01-01T00:00:00",
          "2017-02-01T00:00:00",
          "2017-03-01T00:00:00",
          "2017-04-01T00:00:00",
          "2017-05-01T00:00:00",
          "2017-06-01T00:00:00",
          "2017-07-01T00:00:00",
          "2017-08-01T00:00:00",
          "2017-09-01T00:00:00",
          "2017-10-01T00:00:00",
          "2017-11-01T00:00:00",
          "2017-12-01T00:00:00",
          "2018-01-01T00:00:00",
          "2018-02-01T00:00:00",
          "2018-03-01T00:00:00",
          "2018-04-01T00:00:00",
          "2018-05-01T00:00:00",
          "2018-06-01T00:00:00",
          "2018-07-01T00:00:00",
          "2018-08-01T00:00:00",
          "2018-09-01T00:00:00",
          "2018-10-01T00:00:00",
          "2018-11-01T00:00:00",
          "2018-12-01T00:00:00",
          "2019-01-01T00:00:00",
          "2019-02-01T00:00:00",
          "2019-03-01T00:00:00",
          "2019-04-01T00:00:00",
          "2019-05-01T00:00:00",
          "2019-06-01T00:00:00",
          "2019-07-01T00:00:00",
          "2019-08-01T00:00:00",
          "2019-09-01T00:00:00",
          "2019-10-01T00:00:00",
          "2019-11-01T00:00:00",
          "2019-12-01T00:00:00"
         ],
         "xaxis": "x3",
         "y": [
          null,
          null,
          35,
          32.25,
          29.6875,
          25.765625,
          22.82421875,
          21.3681640625,
          21.3681640625,
          21.2548828125,
          21.691162109375,
          22.76837158203125,
          22.826278686523438,
          24.619709014892578,
          26.714781761169434,
          25.536086320877075,
          24.652064740657806,
          22.239048555493355,
          20.429286416620016,
          19.571964812465012,
          19.67897360934876,
          20.25923020701157,
          20.25923020701157,
          19.87177475870032,
          22.903831069025237,
          25.177873301768926,
          27.633404976326695,
          26.725053732245023,
          23.54379029918377,
          23.54379029918377,
          23.54379029918377,
          23.54379029918377,
          23.54379029918377,
          23.54379029918377,
          19.721291002912135,
          20.2909682521841,
          17.468226189138075,
          19.601169641853556,
          19.950877231390166,
          20.463157923542624,
          18.84736844265697,
          16.385526331992725,
          14.039144748994545,
          14.529358561745909,
          15.397018921309432,
          15.547764190982074,
          17.160823143236556,
          18.370617357427417,
          18.27796301807056,
          20.20847226355292,
          21.65635419766469,
          20.74226564824852,
          18.80669923618639,
          17.105024427139792,
          15.328768320354843,
          14.246576240266133,
          13.9349321801996,
          13.9511991351497,
          14.213399351362275,
          14.660049513521706,
          15.24503713514128,
          17.93377785135596,
          20.70033338851697,
          20.02525004138773,
          17.768937531040798,
          15.326703148280599,
          13.995027361210449,
          14.246270520907837,
          14.184702890680878,
          14.138527168010658,
          14.603895376007994,
          14.702921532005995
         ],
         "yaxis": "y4"
        },
        {
         "legendgroup": "Estación SanC",
         "line": {
          "color": "slateblue",
          "width": 4
         },
         "name": "Estación SanC",
         "opacity": 0.85,
         "type": "scatter",
         "x": [
          "2014-01-01T00:00:00",
          "2014-02-01T00:00:00",
          "2014-03-01T00:00:00",
          "2014-04-01T00:00:00",
          "2014-05-01T00:00:00",
          "2014-06-01T00:00:00",
          "2014-07-01T00:00:00",
          "2014-08-01T00:00:00",
          "2014-09-01T00:00:00",
          "2014-10-01T00:00:00",
          "2014-11-01T00:00:00",
          "2014-12-01T00:00:00",
          "2015-01-01T00:00:00",
          "2015-02-01T00:00:00",
          "2015-03-01T00:00:00",
          "2015-04-01T00:00:00",
          "2015-05-01T00:00:00",
          "2015-06-01T00:00:00",
          "2015-07-01T00:00:00",
          "2015-08-01T00:00:00",
          "2015-09-01T00:00:00",
          "2015-10-01T00:00:00",
          "2015-11-01T00:00:00",
          "2015-12-01T00:00:00",
          "2016-01-01T00:00:00",
          "2016-02-01T00:00:00",
          "2016-03-01T00:00:00",
          "2016-04-01T00:00:00",
          "2016-05-01T00:00:00",
          "2016-06-01T00:00:00",
          "2016-07-01T00:00:00",
          "2016-08-01T00:00:00",
          "2016-09-01T00:00:00",
          "2016-10-01T00:00:00",
          "2016-11-01T00:00:00",
          "2016-12-01T00:00:00",
          "2017-01-01T00:00:00",
          "2017-02-01T00:00:00",
          "2017-03-01T00:00:00",
          "2017-04-01T00:00:00",
          "2017-05-01T00:00:00",
          "2017-06-01T00:00:00",
          "2017-07-01T00:00:00",
          "2017-08-01T00:00:00",
          "2017-09-01T00:00:00",
          "2017-10-01T00:00:00",
          "2017-11-01T00:00:00",
          "2017-12-01T00:00:00",
          "2018-01-01T00:00:00",
          "2018-02-01T00:00:00",
          "2018-03-01T00:00:00",
          "2018-04-01T00:00:00",
          "2018-05-01T00:00:00",
          "2018-06-01T00:00:00",
          "2018-07-01T00:00:00",
          "2018-08-01T00:00:00",
          "2018-09-01T00:00:00",
          "2018-10-01T00:00:00",
          "2018-11-01T00:00:00",
          "2018-12-01T00:00:00",
          "2019-01-01T00:00:00",
          "2019-02-01T00:00:00",
          "2019-03-01T00:00:00",
          "2019-04-01T00:00:00",
          "2019-05-01T00:00:00",
          "2019-06-01T00:00:00",
          "2019-07-01T00:00:00",
          "2019-08-01T00:00:00",
          "2019-09-01T00:00:00",
          "2019-10-01T00:00:00",
          "2019-11-01T00:00:00",
          "2019-12-01T00:00:00"
         ],
         "xaxis": "x3",
         "y": [
          18,
          20.5,
          24.125,
          23.84375,
          23.8828125,
          21.912109375,
          19.43408203125,
          18.8255615234375,
          18.619171142578125,
          20.714378356933594,
          23.285783767700195,
          24.964337825775146,
          24.22325336933136,
          25.41744002699852,
          26.81308002024889,
          25.109810015186667,
          23.83235751139,
          21.1242681335425,
          19.593201100156875,
          18.694900825117656,
          18.771175618838242,
          19.578381714128682,
          20.93378628559651,
          20.700339714197384,
          25.275254785648038,
          26.20644108923603,
          28.654830816927024,
          27.74112311269527,
          25.05584233452145,
          21.791881750891086,
          19.093911313168313,
          17.820433484876233,
          17.615325113657175,
          19.21149383524288,
          21.90862037643216,
          23.43146528232412,
          22.573598961743087,
          24.430199221307316,
          25.322649415980486,
          24.741987061985363,
          23.306490296489024,
          20.97986772236677,
          18.484900791775075,
          17.863675593831307,
          17.14775669537348,
          17.86081752153011,
          20.39561314114758,
          21.046709855860687,
          21.285032391895516,
          23.963774293921638,
          24.97283072044123,
          24.72962304033092,
          22.54721728024819,
          22.54721728024819,
          19.30191965555644,
          19.30191965555644,
          19.20902130000061,
          20.156765975000457,
          19.117574481250344,
          18.338180860937758,
          17.75363564570332,
          19.565226734277488,
          21.673920050708116,
          21.255440038031086,
          19.691580028523315,
          16.768685021392486,
          14.576513766044364,
          13.682385324533273,
          13.011788993399955,
          13.508841745049967,
          14.381631308787476,
          14.536223481590607
         ],
         "yaxis": "y4"
        },
        {
         "legendgroup": "Estación Ken",
         "line": {
          "color": "salmon",
          "width": 4
         },
         "name": "Estación Ken",
         "opacity": 0.85,
         "showlegend": false,
         "type": "scatter",
         "x": [
          "2014-01-01T00:00:00",
          "2014-02-01T00:00:00",
          "2014-03-01T00:00:00",
          "2014-04-01T00:00:00",
          "2014-05-01T00:00:00",
          "2014-06-01T00:00:00",
          "2014-07-01T00:00:00",
          "2014-08-01T00:00:00",
          "2014-09-01T00:00:00",
          "2014-10-01T00:00:00",
          "2014-11-01T00:00:00",
          "2014-12-01T00:00:00",
          "2015-01-01T00:00:00",
          "2015-02-01T00:00:00",
          "2015-03-01T00:00:00",
          "2015-04-01T00:00:00",
          "2015-05-01T00:00:00",
          "2015-06-01T00:00:00",
          "2015-07-01T00:00:00",
          "2015-08-01T00:00:00",
          "2015-09-01T00:00:00",
          "2015-10-01T00:00:00",
          "2015-11-01T00:00:00",
          "2015-12-01T00:00:00",
          "2016-01-01T00:00:00",
          "2016-02-01T00:00:00",
          "2016-03-01T00:00:00",
          "2016-04-01T00:00:00",
          "2016-05-01T00:00:00",
          "2016-06-01T00:00:00",
          "2016-07-01T00:00:00",
          "2016-08-01T00:00:00",
          "2016-09-01T00:00:00",
          "2016-10-01T00:00:00",
          "2016-11-01T00:00:00",
          "2016-12-01T00:00:00",
          "2017-01-01T00:00:00",
          "2017-02-01T00:00:00",
          "2017-03-01T00:00:00",
          "2017-04-01T00:00:00",
          "2017-05-01T00:00:00",
          "2017-06-01T00:00:00",
          "2017-07-01T00:00:00",
          "2017-08-01T00:00:00",
          "2017-09-01T00:00:00",
          "2017-10-01T00:00:00",
          "2017-11-01T00:00:00",
          "2017-12-01T00:00:00",
          "2018-01-01T00:00:00",
          "2018-02-01T00:00:00",
          "2018-03-01T00:00:00",
          "2018-04-01T00:00:00",
          "2018-05-01T00:00:00",
          "2018-06-01T00:00:00",
          "2018-07-01T00:00:00",
          "2018-08-01T00:00:00",
          "2018-09-01T00:00:00",
          "2018-10-01T00:00:00",
          "2018-11-01T00:00:00",
          "2018-12-01T00:00:00",
          "2019-01-01T00:00:00",
          "2019-02-01T00:00:00",
          "2019-03-01T00:00:00",
          "2019-04-01T00:00:00",
          "2019-05-01T00:00:00",
          "2019-06-01T00:00:00",
          "2019-07-01T00:00:00",
          "2019-08-01T00:00:00",
          "2019-09-01T00:00:00",
          "2019-10-01T00:00:00",
          "2019-11-01T00:00:00",
          "2019-12-01T00:00:00"
         ],
         "xaxis": "x6",
         "y": [
          95,
          96.75,
          96.3125,
          92.609375,
          91.58203125,
          85.8115234375,
          84.858642578125,
          81.51898193359375,
          75.63923645019531,
          75.60442733764648,
          75.32832050323486,
          77.62124037742615,
          75.96593028306961,
          81.47444771230221,
          83.10583578422666,
          81.70437683816999,
          79.9032826286275,
          74.92746197147062,
          73.19559647860297,
          71.14669735895222,
          74.11002301921417,
          77.33251726441063,
          77.24938794830797,
          74.43704096123098,
          78.32778072092323,
          81.49583554069243,
          83.12187665551932,
          78.34140749163949,
          73.88105561872962,
          69.2857917140472,
          63.214343785535405,
          62.41075783915156,
          61.80806837936367,
          61.85605128452275,
          62.51703846339206,
          65.01277884754404,
          59.50958413565803,
          63.00718810174352,
          62.255391076307646,
          53.81654330723073,
          46.737407480423045,
          49.42805561031729,
          48.44604170773796,
          51.084531280803475,
          53.813398460602606,
          55.860048845451956,
          59.52003663408897,
          59.890027475566725,
          59.91752060667504,
          61.81314045500628,
          62.60985534125471,
          62.70739150594103,
          59.28054362945578,
          57.58540772209183,
          56.064055791568876,
          56.42304184367666,
          57.56728138275749,
          58.17546103706812,
          59.63159577780109,
          59.223696833350814,
          58.042772625013114,
          58.53207946875983,
          58.649059601569874,
          57.4867947011774,
          55.99009602588305,
          52.117572019412286,
          50.088179014559216,
          48.06613426091941,
          46.29960069568956,
          47.849700521767176,
          47.26227539132538,
          46.82170654349404
         ],
         "yaxis": "y8"
        },
        {
         "legendgroup": "Estación MinA",
         "line": {
          "color": "mediumaquamarine",
          "width": 4
         },
         "name": "Estación MinA",
         "opacity": 0.85,
         "showlegend": false,
         "type": "scatter",
         "x": [
          "2014-01-01T00:00:00",
          "2014-02-01T00:00:00",
          "2014-03-01T00:00:00",
          "2014-04-01T00:00:00",
          "2014-05-01T00:00:00",
          "2014-06-01T00:00:00",
          "2014-07-01T00:00:00",
          "2014-08-01T00:00:00",
          "2014-09-01T00:00:00",
          "2014-10-01T00:00:00",
          "2014-11-01T00:00:00",
          "2014-12-01T00:00:00",
          "2015-01-01T00:00:00",
          "2015-02-01T00:00:00",
          "2015-03-01T00:00:00",
          "2015-04-01T00:00:00",
          "2015-05-01T00:00:00",
          "2015-06-01T00:00:00",
          "2015-07-01T00:00:00",
          "2015-08-01T00:00:00",
          "2015-09-01T00:00:00",
          "2015-10-01T00:00:00",
          "2015-11-01T00:00:00",
          "2015-12-01T00:00:00",
          "2016-01-01T00:00:00",
          "2016-02-01T00:00:00",
          "2016-03-01T00:00:00",
          "2016-04-01T00:00:00",
          "2016-05-01T00:00:00",
          "2016-06-01T00:00:00",
          "2016-07-01T00:00:00",
          "2016-08-01T00:00:00",
          "2016-09-01T00:00:00",
          "2016-10-01T00:00:00",
          "2016-11-01T00:00:00",
          "2016-12-01T00:00:00",
          "2017-01-01T00:00:00",
          "2017-02-01T00:00:00",
          "2017-03-01T00:00:00",
          "2017-04-01T00:00:00",
          "2017-05-01T00:00:00",
          "2017-06-01T00:00:00",
          "2017-07-01T00:00:00",
          "2017-08-01T00:00:00",
          "2017-09-01T00:00:00",
          "2017-10-01T00:00:00",
          "2017-11-01T00:00:00",
          "2017-12-01T00:00:00",
          "2018-01-01T00:00:00",
          "2018-02-01T00:00:00",
          "2018-03-01T00:00:00",
          "2018-04-01T00:00:00",
          "2018-05-01T00:00:00",
          "2018-06-01T00:00:00",
          "2018-07-01T00:00:00",
          "2018-08-01T00:00:00",
          "2018-09-01T00:00:00",
          "2018-10-01T00:00:00",
          "2018-11-01T00:00:00",
          "2018-12-01T00:00:00",
          "2019-01-01T00:00:00",
          "2019-02-01T00:00:00",
          "2019-03-01T00:00:00",
          "2019-04-01T00:00:00",
          "2019-05-01T00:00:00",
          "2019-06-01T00:00:00",
          "2019-07-01T00:00:00",
          "2019-08-01T00:00:00",
          "2019-09-01T00:00:00",
          "2019-10-01T00:00:00",
          "2019-11-01T00:00:00",
          "2019-12-01T00:00:00"
         ],
         "xaxis": "x6",
         "y": [
          65,
          68.5,
          70.375,
          67.28125,
          61.7109375,
          56.283203125,
          50.71240234375,
          47.2843017578125,
          47.2843017578125,
          46.58143967848558,
          46.68607975886418,
          46.26455981914813,
          46.1984198643611,
          48.64881489827083,
          50.236611173703125,
          49.42745838027734,
          49.070593785208004,
          45.552945338906,
          42.4147090041795,
          41.06103175313463,
          43.795773814850975,
          46.59683036113823,
          47.44762277085367,
          47.44762277085367,
          54.079123456744846,
          57.309342592558636,
          59.73200694441898,
          59.73200694441898,
          59.73200694441898,
          53.87823691858866,
          51.658677688941495,
          51.658677688941495,
          51.658677688941495,
          48.43684413026559,
          46.57763309769919,
          47.683224823274394,
          41.76241861745579,
          46.57181396309184,
          46.57181396309184,
          39.011255820602045,
          32.75844186545153,
          35.81883139908865,
          36.86412354931649,
          40.14809266198736,
          43.11106949649052,
          44.83330212236789,
          46.37497659177592,
          48.28123244383194,
          48.28123244383194,
          48.28123244383194,
          48.28123244383194,
          48.28123244383194,
          48.28123244383194,
          48.28123244383194,
          48.28123244383194,
          48.28123244383194,
          48.28123244383194,
          48.28123244383194,
          48.28123244383194,
          40.9312788673918,
          39.948459150543854,
          43.211344362907894,
          46.158508272180924,
          44.61888120413569,
          41.71416090310177,
          37.53562067732633,
          35.401715507994744,
          34.30128663099606,
          34.475964973247045,
          35.356973729935284,
          35.267730297451465,
          35.7007977230886
         ],
         "yaxis": "y8"
        },
        {
         "legendgroup": "Estación SanC",
         "line": {
          "color": "slateblue",
          "width": 4
         },
         "name": "Estación SanC",
         "opacity": 0.85,
         "showlegend": false,
         "type": "scatter",
         "x": [
          "2014-01-01T00:00:00",
          "2014-02-01T00:00:00",
          "2014-03-01T00:00:00",
          "2014-04-01T00:00:00",
          "2014-05-01T00:00:00",
          "2014-06-01T00:00:00",
          "2014-07-01T00:00:00",
          "2014-08-01T00:00:00",
          "2014-09-01T00:00:00",
          "2014-10-01T00:00:00",
          "2014-11-01T00:00:00",
          "2014-12-01T00:00:00",
          "2015-01-01T00:00:00",
          "2015-02-01T00:00:00",
          "2015-03-01T00:00:00",
          "2015-04-01T00:00:00",
          "2015-05-01T00:00:00",
          "2015-06-01T00:00:00",
          "2015-07-01T00:00:00",
          "2015-08-01T00:00:00",
          "2015-09-01T00:00:00",
          "2015-10-01T00:00:00",
          "2015-11-01T00:00:00",
          "2015-12-01T00:00:00",
          "2016-01-01T00:00:00",
          "2016-02-01T00:00:00",
          "2016-03-01T00:00:00",
          "2016-04-01T00:00:00",
          "2016-05-01T00:00:00",
          "2016-06-01T00:00:00",
          "2016-07-01T00:00:00",
          "2016-08-01T00:00:00",
          "2016-09-01T00:00:00",
          "2016-10-01T00:00:00",
          "2016-11-01T00:00:00",
          "2016-12-01T00:00:00",
          "2017-01-01T00:00:00",
          "2017-02-01T00:00:00",
          "2017-03-01T00:00:00",
          "2017-04-01T00:00:00",
          "2017-05-01T00:00:00",
          "2017-06-01T00:00:00",
          "2017-07-01T00:00:00",
          "2017-08-01T00:00:00",
          "2017-09-01T00:00:00",
          "2017-10-01T00:00:00",
          "2017-11-01T00:00:00",
          "2017-12-01T00:00:00",
          "2018-01-01T00:00:00",
          "2018-02-01T00:00:00",
          "2018-03-01T00:00:00",
          "2018-04-01T00:00:00",
          "2018-05-01T00:00:00",
          "2018-06-01T00:00:00",
          "2018-07-01T00:00:00",
          "2018-08-01T00:00:00",
          "2018-09-01T00:00:00",
          "2018-10-01T00:00:00",
          "2018-11-01T00:00:00",
          "2018-12-01T00:00:00",
          "2019-01-01T00:00:00",
          "2019-02-01T00:00:00",
          "2019-03-01T00:00:00",
          "2019-04-01T00:00:00",
          "2019-05-01T00:00:00",
          "2019-06-01T00:00:00",
          "2019-07-01T00:00:00",
          "2019-08-01T00:00:00",
          "2019-09-01T00:00:00",
          "2019-10-01T00:00:00",
          "2019-11-01T00:00:00",
          "2019-12-01T00:00:00"
         ],
         "xaxis": "x6",
         "y": [
          38,
          40.25,
          41.1875,
          38.140625,
          38.140625,
          42.09735576923077,
          41.07301682692307,
          43.80476262019231,
          45.353571965144226,
          48.01517897385817,
          52.26138423039363,
          57.69603817279523,
          57.27202862959642,
          57.95402147219731,
          58.46551610414798,
          54.099137078110985,
          52.32435280858324,
          46.743264606437435,
          44.05744845482808,
          40.293086341121054,
          39.46981475584079,
          39.60236106688059,
          40.201770800160446,
          38.90132810012034,
          48.175996075090254,
          52.63199705631769,
          52.63199705631769,
          52.63199705631769,
          47.18753303536227,
          43.390649776521705,
          39.79298733239128,
          38.59474049929346,
          38.44605537447009,
          41.08454153085257,
          46.31340614813943,
          48.23505461110457,
          48.67629095832843,
          52.257218218746324,
          52.192913664059745,
          44.89468524804481,
          38.4210139360336,
          37.3157604520252,
          33.986820339018905,
          33.986820339018905,
          34.29856792701309,
          36.223925945259815,
          40.91794445894486,
          41.18845834420864,
          38.89134375815648,
          39.66850781861736,
          38.75138086396302,
          35.313535647972266,
          31.9851517359792,
          28.4888638019844,
          26.866647851488302,
          26.89998588861623,
          27.92498941646217,
          27.94374206234663,
          27.94374206234663,
          27.961052197009206,
          26.970789147756904,
          29.478091860817678,
          31.35856889561326,
          29.768926671709945,
          27.576695003782458,
          24.682521252836843,
          23.011890939627634,
          22.758918204720725,
          22.569188653540543,
          22.926891490155406,
          23.695168617616552,
          24.021376463212412
         ],
         "yaxis": "y8"
        },
        {
         "legendgroup": "Límite anual OMS",
         "line": {
          "color": "red",
          "dash": "dash",
          "width": 4
         },
         "mode": "lines",
         "name": "Límite anual OMS",
         "showlegend": true,
         "type": "scatter",
         "x": [
          "2014-01-01T00:00:00",
          "2019-12-01T00:00:00"
         ],
         "xaxis": "x3",
         "y": [
          10,
          10
         ],
         "yaxis": "y4"
        },
        {
         "legendgroup": "Límite anual OMS",
         "line": {
          "color": "red",
          "dash": "dash",
          "width": 4
         },
         "mode": "lines",
         "name": "Límite anual OMS",
         "showlegend": false,
         "type": "scatter",
         "x": [
          "2014-01-01T00:00:00",
          "2019-12-01T00:00:00"
         ],
         "xaxis": "x6",
         "y": [
          20,
          20
         ],
         "yaxis": "y8"
        },
        {
         "legendgroup": "Estación Ken",
         "marker": {
          "color": "salmon",
          "size": 20
         },
         "mode": "markers",
         "name": "Estación Ken",
         "opacity": 0.75,
         "type": "scatter",
         "x": [
          "2014-01-01T00:00:00",
          "2014-02-01T00:00:00",
          "2014-03-01T00:00:00",
          "2014-04-01T00:00:00",
          "2014-05-01T00:00:00",
          "2014-06-01T00:00:00",
          "2014-07-01T00:00:00",
          "2014-08-01T00:00:00",
          "2014-09-01T00:00:00",
          "2014-10-01T00:00:00",
          "2014-11-01T00:00:00",
          "2014-12-01T00:00:00",
          "2015-01-01T00:00:00",
          "2015-02-01T00:00:00",
          "2015-03-01T00:00:00",
          "2015-04-01T00:00:00",
          "2015-05-01T00:00:00",
          "2015-06-01T00:00:00",
          "2015-07-01T00:00:00",
          "2015-08-01T00:00:00",
          "2015-09-01T00:00:00",
          "2015-10-01T00:00:00",
          "2015-11-01T00:00:00",
          "2015-12-01T00:00:00",
          "2016-01-01T00:00:00",
          "2016-02-01T00:00:00",
          "2016-03-01T00:00:00",
          "2016-04-01T00:00:00",
          "2016-05-01T00:00:00",
          "2016-06-01T00:00:00",
          "2016-07-01T00:00:00",
          "2016-08-01T00:00:00",
          "2016-09-01T00:00:00",
          "2016-10-01T00:00:00",
          "2016-11-01T00:00:00",
          "2016-12-01T00:00:00",
          "2017-01-01T00:00:00",
          "2017-02-01T00:00:00",
          "2017-03-01T00:00:00",
          "2017-04-01T00:00:00",
          "2017-05-01T00:00:00",
          "2017-06-01T00:00:00",
          "2017-07-01T00:00:00",
          "2017-08-01T00:00:00",
          "2017-09-01T00:00:00",
          "2017-10-01T00:00:00",
          "2017-11-01T00:00:00",
          "2017-12-01T00:00:00",
          "2018-01-01T00:00:00",
          "2018-02-01T00:00:00",
          "2018-03-01T00:00:00",
          "2018-04-01T00:00:00",
          "2018-05-01T00:00:00",
          "2018-06-01T00:00:00",
          "2018-07-01T00:00:00",
          "2018-08-01T00:00:00",
          "2018-09-01T00:00:00",
          "2018-10-01T00:00:00",
          "2018-11-01T00:00:00",
          "2018-12-01T00:00:00",
          "2019-01-01T00:00:00",
          "2019-02-01T00:00:00",
          "2019-03-01T00:00:00",
          "2019-04-01T00:00:00",
          "2019-05-01T00:00:00",
          "2019-06-01T00:00:00",
          "2019-07-01T00:00:00",
          "2019-08-01T00:00:00",
          "2019-09-01T00:00:00",
          "2019-10-01T00:00:00",
          "2019-11-01T00:00:00",
          "2019-12-01T00:00:00"
         ],
         "xaxis": "x2",
         "y": [
          36,
          44.5,
          44,
          30.5,
          31,
          28,
          31,
          28,
          25,
          31.5,
          30,
          35.5,
          28.5,
          35,
          34,
          28.5,
          28.5,
          22,
          24,
          24.5,
          31,
          34,
          30.5,
          26.5,
          41,
          38,
          36.5,
          29,
          25,
          24.5,
          21.5,
          26.5,
          30,
          33,
          33,
          35,
          19.5,
          31.5,
          30,
          28.5,
          25.5,
          25.5,
          21.5,
          27,
          27,
          27.5,
          33,
          30,
          27.5,
          31.5,
          32.5,
          28,
          24,
          23,
          22,
          25,
          24.5,
          25,
          25,
          29.5,
          27,
          42,
          44.5,
          33,
          28.5,
          23,
          24,
          27,
          29,
          32,
          29.5,
          30.5
         ],
         "yaxis": "y3"
        },
        {
         "legendgroup": "Estación MinA",
         "marker": {
          "color": "mediumaquamarine",
          "size": 20
         },
         "mode": "markers",
         "name": "Estación MinA",
         "opacity": 0.75,
         "type": "scatter",
         "x": [
          "2014-01-01T00:00:00",
          "2014-02-01T00:00:00",
          "2014-03-01T00:00:00",
          "2014-04-01T00:00:00",
          "2014-05-01T00:00:00",
          "2014-06-01T00:00:00",
          "2014-07-01T00:00:00",
          "2014-08-01T00:00:00",
          "2014-09-01T00:00:00",
          "2014-10-01T00:00:00",
          "2014-11-01T00:00:00",
          "2014-12-01T00:00:00",
          "2015-01-01T00:00:00",
          "2015-02-01T00:00:00",
          "2015-03-01T00:00:00",
          "2015-04-01T00:00:00",
          "2015-05-01T00:00:00",
          "2015-06-01T00:00:00",
          "2015-07-01T00:00:00",
          "2015-08-01T00:00:00",
          "2015-09-01T00:00:00",
          "2015-10-01T00:00:00",
          "2015-11-01T00:00:00",
          "2015-12-01T00:00:00",
          "2016-01-01T00:00:00",
          "2016-02-01T00:00:00",
          "2016-03-01T00:00:00",
          "2016-04-01T00:00:00",
          "2016-05-01T00:00:00",
          "2016-06-01T00:00:00",
          "2016-07-01T00:00:00",
          "2016-08-01T00:00:00",
          "2016-09-01T00:00:00",
          "2016-10-01T00:00:00",
          "2016-11-01T00:00:00",
          "2016-12-01T00:00:00",
          "2017-01-01T00:00:00",
          "2017-02-01T00:00:00",
          "2017-03-01T00:00:00",
          "2017-04-01T00:00:00",
          "2017-05-01T00:00:00",
          "2017-06-01T00:00:00",
          "2017-07-01T00:00:00",
          "2017-08-01T00:00:00",
          "2017-09-01T00:00:00",
          "2017-10-01T00:00:00",
          "2017-11-01T00:00:00",
          "2017-12-01T00:00:00",
          "2018-01-01T00:00:00",
          "2018-02-01T00:00:00",
          "2018-03-01T00:00:00",
          "2018-04-01T00:00:00",
          "2018-05-01T00:00:00",
          "2018-06-01T00:00:00",
          "2018-07-01T00:00:00",
          "2018-08-01T00:00:00",
          "2018-09-01T00:00:00",
          "2018-10-01T00:00:00",
          "2018-11-01T00:00:00",
          "2018-12-01T00:00:00",
          "2019-01-01T00:00:00",
          "2019-02-01T00:00:00",
          "2019-03-01T00:00:00",
          "2019-04-01T00:00:00",
          "2019-05-01T00:00:00",
          "2019-06-01T00:00:00",
          "2019-07-01T00:00:00",
          "2019-08-01T00:00:00",
          "2019-09-01T00:00:00",
          "2019-10-01T00:00:00",
          "2019-11-01T00:00:00",
          "2019-12-01T00:00:00"
         ],
         "xaxis": "x2",
         "y": [
          null,
          null,
          35,
          24,
          22,
          14,
          14,
          17,
          null,
          21,
          23,
          26,
          23,
          30,
          33,
          22,
          22,
          15,
          15,
          17,
          20,
          22,
          null,
          19,
          32,
          32,
          35,
          24,
          14,
          null,
          null,
          null,
          null,
          null,
          17,
          22,
          9,
          26,
          21,
          22,
          14,
          9,
          7,
          16,
          18,
          16,
          22,
          22,
          18,
          26,
          26,
          18,
          13,
          12,
          10,
          11,
          13,
          14,
          15,
          16,
          17,
          26,
          29,
          18,
          11,
          8,
          10,
          15,
          14,
          14,
          16,
          15
         ],
         "yaxis": "y3"
        },
        {
         "legendgroup": "Estación SanC",
         "marker": {
          "color": "slateblue",
          "size": 20
         },
         "mode": "markers",
         "name": "Estación SanC",
         "opacity": 0.75,
         "type": "scatter",
         "x": [
          "2014-01-01T00:00:00",
          "2014-02-01T00:00:00",
          "2014-03-01T00:00:00",
          "2014-04-01T00:00:00",
          "2014-05-01T00:00:00",
          "2014-06-01T00:00:00",
          "2014-07-01T00:00:00",
          "2014-08-01T00:00:00",
          "2014-09-01T00:00:00",
          "2014-10-01T00:00:00",
          "2014-11-01T00:00:00",
          "2014-12-01T00:00:00",
          "2015-01-01T00:00:00",
          "2015-02-01T00:00:00",
          "2015-03-01T00:00:00",
          "2015-04-01T00:00:00",
          "2015-05-01T00:00:00",
          "2015-06-01T00:00:00",
          "2015-07-01T00:00:00",
          "2015-08-01T00:00:00",
          "2015-09-01T00:00:00",
          "2015-10-01T00:00:00",
          "2015-11-01T00:00:00",
          "2015-12-01T00:00:00",
          "2016-01-01T00:00:00",
          "2016-02-01T00:00:00",
          "2016-03-01T00:00:00",
          "2016-04-01T00:00:00",
          "2016-05-01T00:00:00",
          "2016-06-01T00:00:00",
          "2016-07-01T00:00:00",
          "2016-08-01T00:00:00",
          "2016-09-01T00:00:00",
          "2016-10-01T00:00:00",
          "2016-11-01T00:00:00",
          "2016-12-01T00:00:00",
          "2017-01-01T00:00:00",
          "2017-02-01T00:00:00",
          "2017-03-01T00:00:00",
          "2017-04-01T00:00:00",
          "2017-05-01T00:00:00",
          "2017-06-01T00:00:00",
          "2017-07-01T00:00:00",
          "2017-08-01T00:00:00",
          "2017-09-01T00:00:00",
          "2017-10-01T00:00:00",
          "2017-11-01T00:00:00",
          "2017-12-01T00:00:00",
          "2018-01-01T00:00:00",
          "2018-02-01T00:00:00",
          "2018-03-01T00:00:00",
          "2018-04-01T00:00:00",
          "2018-05-01T00:00:00",
          "2018-06-01T00:00:00",
          "2018-07-01T00:00:00",
          "2018-08-01T00:00:00",
          "2018-09-01T00:00:00",
          "2018-10-01T00:00:00",
          "2018-11-01T00:00:00",
          "2018-12-01T00:00:00",
          "2019-01-01T00:00:00",
          "2019-02-01T00:00:00",
          "2019-03-01T00:00:00",
          "2019-04-01T00:00:00",
          "2019-05-01T00:00:00",
          "2019-06-01T00:00:00",
          "2019-07-01T00:00:00",
          "2019-08-01T00:00:00",
          "2019-09-01T00:00:00",
          "2019-10-01T00:00:00",
          "2019-11-01T00:00:00",
          "2019-12-01T00:00:00"
         ],
         "xaxis": "x2",
         "y": [
          18,
          28,
          35,
          23,
          24,
          16,
          12,
          17,
          18,
          27,
          31,
          30,
          22,
          29,
          31,
          20,
          20,
          13,
          15,
          16,
          19,
          22,
          25,
          20,
          39,
          29,
          36,
          25,
          17,
          12,
          11,
          14,
          17,
          24,
          30,
          28,
          20,
          30,
          28,
          23,
          19,
          14,
          11,
          16,
          15,
          20,
          28,
          23,
          22,
          32,
          28,
          24,
          16,
          null,
          12,
          null,
          19,
          23,
          16,
          16,
          16,
          25,
          28,
          20,
          15,
          8,
          8,
          11,
          11,
          15,
          17,
          15
         ],
         "yaxis": "y3"
        },
        {
         "legendgroup": "Estación Ken",
         "marker": {
          "color": "salmon",
          "size": 20
         },
         "mode": "markers",
         "name": "Estación Ken",
         "opacity": 0.75,
         "showlegend": false,
         "type": "scatter",
         "x": [
          "2014-01-01T00:00:00",
          "2014-02-01T00:00:00",
          "2014-03-01T00:00:00",
          "2014-04-01T00:00:00",
          "2014-05-01T00:00:00",
          "2014-06-01T00:00:00",
          "2014-07-01T00:00:00",
          "2014-08-01T00:00:00",
          "2014-09-01T00:00:00",
          "2014-10-01T00:00:00",
          "2014-11-01T00:00:00",
          "2014-12-01T00:00:00",
          "2015-01-01T00:00:00",
          "2015-02-01T00:00:00",
          "2015-03-01T00:00:00",
          "2015-04-01T00:00:00",
          "2015-05-01T00:00:00",
          "2015-06-01T00:00:00",
          "2015-07-01T00:00:00",
          "2015-08-01T00:00:00",
          "2015-09-01T00:00:00",
          "2015-10-01T00:00:00",
          "2015-11-01T00:00:00",
          "2015-12-01T00:00:00",
          "2016-01-01T00:00:00",
          "2016-02-01T00:00:00",
          "2016-03-01T00:00:00",
          "2016-04-01T00:00:00",
          "2016-05-01T00:00:00",
          "2016-06-01T00:00:00",
          "2016-07-01T00:00:00",
          "2016-08-01T00:00:00",
          "2016-09-01T00:00:00",
          "2016-10-01T00:00:00",
          "2016-11-01T00:00:00",
          "2016-12-01T00:00:00",
          "2017-01-01T00:00:00",
          "2017-02-01T00:00:00",
          "2017-03-01T00:00:00",
          "2017-04-01T00:00:00",
          "2017-05-01T00:00:00",
          "2017-06-01T00:00:00",
          "2017-07-01T00:00:00",
          "2017-08-01T00:00:00",
          "2017-09-01T00:00:00",
          "2017-10-01T00:00:00",
          "2017-11-01T00:00:00",
          "2017-12-01T00:00:00",
          "2018-01-01T00:00:00",
          "2018-02-01T00:00:00",
          "2018-03-01T00:00:00",
          "2018-04-01T00:00:00",
          "2018-05-01T00:00:00",
          "2018-06-01T00:00:00",
          "2018-07-01T00:00:00",
          "2018-08-01T00:00:00",
          "2018-09-01T00:00:00",
          "2018-10-01T00:00:00",
          "2018-11-01T00:00:00",
          "2018-12-01T00:00:00",
          "2019-01-01T00:00:00",
          "2019-02-01T00:00:00",
          "2019-03-01T00:00:00",
          "2019-04-01T00:00:00",
          "2019-05-01T00:00:00",
          "2019-06-01T00:00:00",
          "2019-07-01T00:00:00",
          "2019-08-01T00:00:00",
          "2019-09-01T00:00:00",
          "2019-10-01T00:00:00",
          "2019-11-01T00:00:00",
          "2019-12-01T00:00:00"
         ],
         "xaxis": "x5",
         "y": [
          95,
          102,
          95,
          81.5,
          88.5,
          68.5,
          82,
          71.5,
          58,
          75.5,
          74.5,
          84.5,
          71,
          98,
          88,
          77.5,
          74.5,
          60,
          68,
          65,
          83,
          87,
          77,
          66,
          90,
          91,
          88,
          64,
          60.5,
          55.5,
          45,
          60,
          60,
          62,
          64.5,
          72.5,
          43,
          73.5,
          60,
          28.5,
          25.5,
          57.5,
          45.5,
          59,
          62,
          62,
          70.5,
          61,
          60,
          67.5,
          65,
          63,
          49,
          52.5,
          51.5,
          57.5,
          61,
          60,
          64,
          58,
          54.5,
          60,
          59,
          54,
          51.5,
          40.5,
          44,
          42,
          41,
          52.5,
          45.5,
          45.5
         ],
         "yaxis": "y7"
        },
        {
         "legendgroup": "Estación MinA",
         "marker": {
          "color": "mediumaquamarine",
          "size": 20
         },
         "mode": "markers",
         "name": "Estación MinA",
         "opacity": 0.75,
         "showlegend": false,
         "type": "scatter",
         "x": [
          "2014-01-01T00:00:00",
          "2014-02-01T00:00:00",
          "2014-03-01T00:00:00",
          "2014-04-01T00:00:00",
          "2014-05-01T00:00:00",
          "2014-06-01T00:00:00",
          "2014-07-01T00:00:00",
          "2014-08-01T00:00:00",
          "2014-09-01T00:00:00",
          "2014-10-01T00:00:00",
          "2014-11-01T00:00:00",
          "2014-12-01T00:00:00",
          "2015-01-01T00:00:00",
          "2015-02-01T00:00:00",
          "2015-03-01T00:00:00",
          "2015-04-01T00:00:00",
          "2015-05-01T00:00:00",
          "2015-06-01T00:00:00",
          "2015-07-01T00:00:00",
          "2015-08-01T00:00:00",
          "2015-09-01T00:00:00",
          "2015-10-01T00:00:00",
          "2015-11-01T00:00:00",
          "2015-12-01T00:00:00",
          "2016-01-01T00:00:00",
          "2016-02-01T00:00:00",
          "2016-03-01T00:00:00",
          "2016-04-01T00:00:00",
          "2016-05-01T00:00:00",
          "2016-06-01T00:00:00",
          "2016-07-01T00:00:00",
          "2016-08-01T00:00:00",
          "2016-09-01T00:00:00",
          "2016-10-01T00:00:00",
          "2016-11-01T00:00:00",
          "2016-12-01T00:00:00",
          "2017-01-01T00:00:00",
          "2017-02-01T00:00:00",
          "2017-03-01T00:00:00",
          "2017-04-01T00:00:00",
          "2017-05-01T00:00:00",
          "2017-06-01T00:00:00",
          "2017-07-01T00:00:00",
          "2017-08-01T00:00:00",
          "2017-09-01T00:00:00",
          "2017-10-01T00:00:00",
          "2017-11-01T00:00:00",
          "2017-12-01T00:00:00",
          "2018-01-01T00:00:00",
          "2018-02-01T00:00:00",
          "2018-03-01T00:00:00",
          "2018-04-01T00:00:00",
          "2018-05-01T00:00:00",
          "2018-06-01T00:00:00",
          "2018-07-01T00:00:00",
          "2018-08-01T00:00:00",
          "2018-09-01T00:00:00",
          "2018-10-01T00:00:00",
          "2018-11-01T00:00:00",
          "2018-12-01T00:00:00",
          "2019-01-01T00:00:00",
          "2019-02-01T00:00:00",
          "2019-03-01T00:00:00",
          "2019-04-01T00:00:00",
          "2019-05-01T00:00:00",
          "2019-06-01T00:00:00",
          "2019-07-01T00:00:00",
          "2019-08-01T00:00:00",
          "2019-09-01T00:00:00",
          "2019-10-01T00:00:00",
          "2019-11-01T00:00:00",
          "2019-12-01T00:00:00"
         ],
         "xaxis": "x5",
         "y": [
          65,
          79,
          76,
          58,
          45,
          40,
          34,
          37,
          null,
          45,
          47,
          45,
          46,
          56,
          55,
          47,
          48,
          35,
          33,
          37,
          52,
          55,
          50,
          null,
          69,
          67,
          67,
          null,
          null,
          44,
          45,
          null,
          null,
          43,
          41,
          51,
          24,
          61,
          null,
          22,
          14,
          45,
          40,
          50,
          52,
          50,
          51,
          54,
          null,
          null,
          null,
          null,
          null,
          null,
          null,
          null,
          null,
          null,
          null,
          40,
          37,
          53,
          55,
          40,
          33,
          25,
          29,
          31,
          35,
          38,
          35,
          37
         ],
         "yaxis": "y7"
        },
        {
         "legendgroup": "Estación SanC",
         "marker": {
          "color": "slateblue",
          "size": 20
         },
         "mode": "markers",
         "name": "Estación SanC",
         "opacity": 0.75,
         "showlegend": false,
         "type": "scatter",
         "x": [
          "2014-01-01T00:00:00",
          "2014-02-01T00:00:00",
          "2014-03-01T00:00:00",
          "2014-04-01T00:00:00",
          "2014-05-01T00:00:00",
          "2014-06-01T00:00:00",
          "2014-07-01T00:00:00",
          "2014-08-01T00:00:00",
          "2014-09-01T00:00:00",
          "2014-10-01T00:00:00",
          "2014-11-01T00:00:00",
          "2014-12-01T00:00:00",
          "2015-01-01T00:00:00",
          "2015-02-01T00:00:00",
          "2015-03-01T00:00:00",
          "2015-04-01T00:00:00",
          "2015-05-01T00:00:00",
          "2015-06-01T00:00:00",
          "2015-07-01T00:00:00",
          "2015-08-01T00:00:00",
          "2015-09-01T00:00:00",
          "2015-10-01T00:00:00",
          "2015-11-01T00:00:00",
          "2015-12-01T00:00:00",
          "2016-01-01T00:00:00",
          "2016-02-01T00:00:00",
          "2016-03-01T00:00:00",
          "2016-04-01T00:00:00",
          "2016-05-01T00:00:00",
          "2016-06-01T00:00:00",
          "2016-07-01T00:00:00",
          "2016-08-01T00:00:00",
          "2016-09-01T00:00:00",
          "2016-10-01T00:00:00",
          "2016-11-01T00:00:00",
          "2016-12-01T00:00:00",
          "2017-01-01T00:00:00",
          "2017-02-01T00:00:00",
          "2017-03-01T00:00:00",
          "2017-04-01T00:00:00",
          "2017-05-01T00:00:00",
          "2017-06-01T00:00:00",
          "2017-07-01T00:00:00",
          "2017-08-01T00:00:00",
          "2017-09-01T00:00:00",
          "2017-10-01T00:00:00",
          "2017-11-01T00:00:00",
          "2017-12-01T00:00:00",
          "2018-01-01T00:00:00",
          "2018-02-01T00:00:00",
          "2018-03-01T00:00:00",
          "2018-04-01T00:00:00",
          "2018-05-01T00:00:00",
          "2018-06-01T00:00:00",
          "2018-07-01T00:00:00",
          "2018-08-01T00:00:00",
          "2018-09-01T00:00:00",
          "2018-10-01T00:00:00",
          "2018-11-01T00:00:00",
          "2018-12-01T00:00:00",
          "2019-01-01T00:00:00",
          "2019-02-01T00:00:00",
          "2019-03-01T00:00:00",
          "2019-04-01T00:00:00",
          "2019-05-01T00:00:00",
          "2019-06-01T00:00:00",
          "2019-07-01T00:00:00",
          "2019-08-01T00:00:00",
          "2019-09-01T00:00:00",
          "2019-10-01T00:00:00",
          "2019-11-01T00:00:00",
          "2019-12-01T00:00:00"
         ],
         "xaxis": "x5",
         "y": [
          38,
          47,
          44,
          29,
          null,
          51,
          38,
          52,
          50,
          56,
          65,
          74,
          56,
          60,
          60,
          41,
          47,
          30,
          36,
          29,
          37,
          40,
          42,
          35,
          76,
          66,
          null,
          null,
          38,
          32,
          29,
          35,
          38,
          49,
          62,
          54,
          50,
          63,
          52,
          23,
          19,
          34,
          24,
          null,
          35,
          42,
          55,
          42,
          32,
          42,
          36,
          25,
          22,
          18,
          22,
          27,
          31,
          28,
          null,
          28,
          24,
          37,
          37,
          25,
          21,
          16,
          18,
          22,
          22,
          24,
          26,
          25
         ],
         "yaxis": "y7"
        },
        {
         "legendgroup": "Media Móvil",
         "line": {
          "color": "black",
          "width": 4
         },
         "mode": "lines",
         "name": "Media Móvil",
         "showlegend": true,
         "type": "scatter",
         "x": [
          "2014-01-01T00:00:00",
          "2014-02-01T00:00:00",
          "2014-03-01T00:00:00",
          "2014-04-01T00:00:00",
          "2014-05-01T00:00:00",
          "2014-06-01T00:00:00",
          "2014-07-01T00:00:00",
          "2014-08-01T00:00:00",
          "2014-09-01T00:00:00",
          "2014-10-01T00:00:00",
          "2014-11-01T00:00:00",
          "2014-12-01T00:00:00",
          "2015-01-01T00:00:00",
          "2015-02-01T00:00:00",
          "2015-03-01T00:00:00",
          "2015-04-01T00:00:00",
          "2015-05-01T00:00:00",
          "2015-06-01T00:00:00",
          "2015-07-01T00:00:00",
          "2015-08-01T00:00:00",
          "2015-09-01T00:00:00",
          "2015-10-01T00:00:00",
          "2015-11-01T00:00:00",
          "2015-12-01T00:00:00",
          "2016-01-01T00:00:00",
          "2016-02-01T00:00:00",
          "2016-03-01T00:00:00",
          "2016-04-01T00:00:00",
          "2016-05-01T00:00:00",
          "2016-06-01T00:00:00",
          "2016-07-01T00:00:00",
          "2016-08-01T00:00:00",
          "2016-09-01T00:00:00",
          "2016-10-01T00:00:00",
          "2016-11-01T00:00:00",
          "2016-12-01T00:00:00",
          "2017-01-01T00:00:00",
          "2017-02-01T00:00:00",
          "2017-03-01T00:00:00",
          "2017-04-01T00:00:00",
          "2017-05-01T00:00:00",
          "2017-06-01T00:00:00",
          "2017-07-01T00:00:00",
          "2017-08-01T00:00:00",
          "2017-09-01T00:00:00",
          "2017-10-01T00:00:00",
          "2017-11-01T00:00:00",
          "2017-12-01T00:00:00",
          "2018-01-01T00:00:00",
          "2018-02-01T00:00:00",
          "2018-03-01T00:00:00",
          "2018-04-01T00:00:00",
          "2018-05-01T00:00:00",
          "2018-06-01T00:00:00",
          "2018-07-01T00:00:00",
          "2018-08-01T00:00:00",
          "2018-09-01T00:00:00",
          "2018-10-01T00:00:00",
          "2018-11-01T00:00:00",
          "2018-12-01T00:00:00",
          "2019-01-01T00:00:00",
          "2019-02-01T00:00:00",
          "2019-03-01T00:00:00",
          "2019-04-01T00:00:00",
          "2019-05-01T00:00:00",
          "2019-06-01T00:00:00",
          "2019-07-01T00:00:00",
          "2019-08-01T00:00:00",
          "2019-09-01T00:00:00",
          "2019-10-01T00:00:00",
          "2019-11-01T00:00:00",
          "2019-12-01T00:00:00"
         ],
         "xaxis": "x2",
         "y": [
          19.8,
          22.96666666666667,
          26.511111111111113,
          24.555026455026457,
          22.953350970017638,
          20.159376837154618,
          17.43958455810308,
          16.79305637206872,
          16.59537091471248,
          17.646913943141655,
          18.93127596209444,
          20.47501730806296,
          19.83751153870864,
          21.510721978186712,
          22.8960368743467,
          21.034857916231132,
          19.523238610820755,
          16.645122036843468,
          15.096748024562313,
          14.416350534893395,
          14.83312257881782,
          15.999859496989659,
          17.104072997993107,
          16.45827088755096,
          21.763847258367306,
          23.064787061133764,
          25.87652470742251,
          24.667683138281674,
          20.778455425521116,
          17.623136950347412,
          15.01959130023161,
          14.227346581106788,
          14.580135815975956,
          16.3497201736136,
          17.999813449075734,
          19.299875632717157,
          19.283250421811438,
          20.905500281207626,
          21.437000187471753,
          20.812166791647837,
          19.089063575384273,
          17.955209050256183,
          15.574306033504122,
          14.849537355669415,
          14.93302490377961,
          15.238683269186408,
          17.7517147720502,
          18.64929132951495,
          18.4953608863433,
          20.976073924228864,
          22.00256780133776,
          20.868378534225176,
          18.467807911705677,
          15.788062417327595,
          13.94204161155173,
          12.628027741034487,
          13.402018494022991,
          14.634678996015328,
          15.423119330676887,
          15.265412887117925,
          15.576941924745284,
          18.717961283163525,
          21.895307522109018,
          21.06353834807268,
          18.75902556538179,
          15.765276302847122,
          13.810184201898082,
          13.581789467932056,
          13.554526311954705,
          13.578017541303137,
          14.572845027535426,
          14.765230018356952
         ],
         "yaxis": "y3"
        },
        {
         "legendgroup": "Media Móvil",
         "line": {
          "color": "black",
          "width": 4
         },
         "mode": "lines",
         "name": "Otras",
         "showlegend": false,
         "type": "scatter",
         "x": [
          "2014-01-01T00:00:00",
          "2014-02-01T00:00:00",
          "2014-03-01T00:00:00",
          "2014-04-01T00:00:00",
          "2014-05-01T00:00:00",
          "2014-06-01T00:00:00",
          "2014-07-01T00:00:00",
          "2014-08-01T00:00:00",
          "2014-09-01T00:00:00",
          "2014-10-01T00:00:00",
          "2014-11-01T00:00:00",
          "2014-12-01T00:00:00",
          "2015-01-01T00:00:00",
          "2015-02-01T00:00:00",
          "2015-03-01T00:00:00",
          "2015-04-01T00:00:00",
          "2015-05-01T00:00:00",
          "2015-06-01T00:00:00",
          "2015-07-01T00:00:00",
          "2015-08-01T00:00:00",
          "2015-09-01T00:00:00",
          "2015-10-01T00:00:00",
          "2015-11-01T00:00:00",
          "2015-12-01T00:00:00",
          "2016-01-01T00:00:00",
          "2016-02-01T00:00:00",
          "2016-03-01T00:00:00",
          "2016-04-01T00:00:00",
          "2016-05-01T00:00:00",
          "2016-06-01T00:00:00",
          "2016-07-01T00:00:00",
          "2016-08-01T00:00:00",
          "2016-09-01T00:00:00",
          "2016-10-01T00:00:00",
          "2016-11-01T00:00:00",
          "2016-12-01T00:00:00",
          "2017-01-01T00:00:00",
          "2017-02-01T00:00:00",
          "2017-03-01T00:00:00",
          "2017-04-01T00:00:00",
          "2017-05-01T00:00:00",
          "2017-06-01T00:00:00",
          "2017-07-01T00:00:00",
          "2017-08-01T00:00:00",
          "2017-09-01T00:00:00",
          "2017-10-01T00:00:00",
          "2017-11-01T00:00:00",
          "2017-12-01T00:00:00",
          "2018-01-01T00:00:00",
          "2018-02-01T00:00:00",
          "2018-03-01T00:00:00",
          "2018-04-01T00:00:00",
          "2018-05-01T00:00:00",
          "2018-06-01T00:00:00",
          "2018-07-01T00:00:00",
          "2018-08-01T00:00:00",
          "2018-09-01T00:00:00",
          "2018-10-01T00:00:00",
          "2018-11-01T00:00:00",
          "2018-12-01T00:00:00",
          "2019-01-01T00:00:00",
          "2019-02-01T00:00:00",
          "2019-03-01T00:00:00",
          "2019-04-01T00:00:00",
          "2019-05-01T00:00:00",
          "2019-06-01T00:00:00",
          "2019-07-01T00:00:00",
          "2019-08-01T00:00:00",
          "2019-09-01T00:00:00",
          "2019-10-01T00:00:00",
          "2019-11-01T00:00:00",
          "2019-12-01T00:00:00"
         ],
         "xaxis": "x5",
         "y": [
          49.6,
          53.945454545454545,
          56.32727272727273,
          51.83939393939394,
          51.13367003367004,
          48.6057800224467,
          44.57052001496447,
          43.68034667664298,
          43.78689778442866,
          45.274598522952445,
          47.9330656819683,
          49.97204378797887,
          48.18136252531925,
          50.0875750168795,
          51.95838334458634,
          47.72225556305756,
          45.16483704203837,
          39.14322469469225,
          35.8621497964615,
          34.041433197641,
          35.22762213176067,
          37.718414754507116,
          39.712276503004745,
          37.99336952052168,
          47.21780190257002,
          49.54520126838001,
          52.48846751225335,
          51.325645008168905,
          45.112930005445946,
          40.5752866702973,
          36.283524446864874,
          34.55938666828029,
          34.7803318529276,
          37.320221235285075,
          39.69681415685672,
          42.297876104571145,
          42.0985840697141,
          45.24905604647607,
          44.77714847542849,
          36.37226565028566,
          29.41484376685711,
          31.839062511238076,
          29.509375007492054,
          31.043287042031743,
          32.79552469468783,
          34.63034979645855,
          39.698010975416814,
          41.46534065027788,
          40.82874561870378,
          45.12657115320992,
          46.15845484288069,
          44.43896989525379,
          40.66301696720623,
          36.12719649665601,
          33.40146433110401,
          31.684309554069344,
          32.989539702712904,
          34.363396838845645,
          36.64967196663784,
          36.887660098970684,
          36.485712793253185,
          40.23289943792637,
          42.79162992831455,
          40.80048055827031,
          37.73062340248324,
          32.13859741983731,
          29.243913431406693,
          28.04139683305901,
          28.542749403857524,
          30.0436511177232,
          31.745767411815468,
          33.07125234861772
         ],
         "yaxis": "y7"
        },
        {
         "legendgroup": "Límite anual OMS",
         "line": {
          "color": "red",
          "dash": "dash",
          "width": 4
         },
         "mode": "lines",
         "name": "Límite anual OMS",
         "showlegend": true,
         "type": "scatter",
         "x": [
          "2014-01-01T00:00:00",
          "2019-12-01T00:00:00"
         ],
         "xaxis": "x2",
         "y": [
          10,
          10
         ],
         "yaxis": "y3"
        },
        {
         "legendgroup": "Límite anual OMS",
         "line": {
          "color": "red",
          "dash": "dash",
          "width": 4
         },
         "mode": "lines",
         "name": "Límite anual OMS",
         "showlegend": false,
         "type": "scatter",
         "x": [
          "2014-01-01T00:00:00",
          "2019-12-01T00:00:00"
         ],
         "xaxis": "x5",
         "y": [
          20,
          20
         ],
         "yaxis": "y7"
        },
        {
         "legendgroup": "Estación Ken",
         "marker": {
          "color": "salmon"
         },
         "name": "Estación Ken",
         "opacity": 0.75,
         "type": "bar",
         "x": [
          1,
          2,
          3,
          4,
          5,
          6,
          7,
          8,
          9,
          10,
          11,
          12
         ],
         "xaxis": "x",
         "y": [
          29.363636363636363,
          37,
          36.916666666666664,
          29.583333333333332,
          27.083333333333332,
          24.333333333333332,
          23.363636363636363,
          26.333333333333332,
          27.8,
          30.272727272727273,
          30.444444444444443,
          30.818181818181817
         ],
         "yaxis": "y"
        },
        {
         "legendgroup": "Estación MinA",
         "marker": {
          "color": "mediumaquamarine"
         },
         "name": "Estación MinA",
         "opacity": 0.75,
         "type": "bar",
         "x": [
          1,
          2,
          3,
          4,
          5,
          6,
          7,
          8,
          9,
          10,
          11,
          12
         ],
         "xaxis": "x",
         "y": [
          19.8,
          28,
          29.833333333333332,
          21.333333333333332,
          16,
          11.6,
          11.2,
          15.2,
          16.25,
          17.4,
          18.6,
          20
         ],
         "yaxis": "y"
        },
        {
         "legendgroup": "Estación SanC",
         "marker": {
          "color": "slateblue"
         },
         "name": "Estación SanC",
         "opacity": 0.75,
         "type": "bar",
         "x": [
          1,
          2,
          3,
          4,
          5,
          6,
          7,
          8,
          9,
          10,
          11,
          12
         ],
         "xaxis": "x",
         "y": [
          22.833333333333332,
          28.833333333333332,
          31,
          22.5,
          18.5,
          12.6,
          11.5,
          14.8,
          16.5,
          21.833333333333332,
          24.5,
          22
         ],
         "yaxis": "y"
        },
        {
         "legendgroup": "Estación Ken",
         "marker": {
          "color": "salmon"
         },
         "name": "Estación Ken",
         "opacity": 0.75,
         "showlegend": false,
         "type": "bar",
         "x": [
          1,
          2,
          3,
          4,
          5,
          6,
          7,
          8,
          9,
          10,
          11,
          12
         ],
         "xaxis": "x4",
         "y": [
          66.54545454545455,
          83.3,
          76.3,
          61.18181818181818,
          59.09090909090909,
          55.75,
          54.5,
          59.166666666666664,
          61.09090909090909,
          66.5,
          66,
          64.58333333333333
         ],
         "yaxis": "y5"
        },
        {
         "legendgroup": "Estación MinA",
         "marker": {
          "color": "mediumaquamarine"
         },
         "name": "Estación MinA",
         "opacity": 0.75,
         "showlegend": false,
         "type": "bar",
         "x": [
          1,
          2,
          3,
          4,
          5,
          6,
          7,
          8,
          9,
          10,
          11,
          12
         ],
         "xaxis": "x4",
         "y": [
          48.2,
          63.2,
          63.25,
          41.75,
          35,
          37.8,
          36.2,
          38.75,
          46.333333333333336,
          46.2,
          44.8,
          45.4
         ],
         "yaxis": "y5"
        },
        {
         "legendgroup": "Estación SanC",
         "marker": {
          "color": "slateblue"
         },
         "name": "Estación SanC",
         "opacity": 0.75,
         "showlegend": false,
         "type": "bar",
         "x": [
          1,
          2,
          3,
          4,
          5,
          6,
          7,
          8,
          9,
          10,
          11,
          12
         ],
         "xaxis": "x4",
         "y": [
          46,
          52.5,
          45.8,
          28.6,
          29.4,
          30.166666666666668,
          27.833333333333332,
          33,
          35.5,
          39.833333333333336,
          50,
          43
         ],
         "yaxis": "y5"
        },
        {
         "legendgroup": "Promedio total ",
         "marker": {
          "color": "grey"
         },
         "name": "Promedio total ",
         "opacity": 0.75,
         "type": "bar",
         "x": [
          1,
          2,
          3,
          4,
          5,
          6,
          7,
          8,
          9,
          10,
          11,
          12
         ],
         "xaxis": "x",
         "y": [
          20.169696969696968,
          25.075,
          26.75,
          19.166666666666664,
          15.26666666666667,
          11.776666666666666,
          10.553030303030303,
          12.578333333333333,
          14.830000000000002,
          17.080606060606062,
          19.70444444444444,
          18.323484848484846
         ],
         "yaxis": "y"
        },
        {
         "legendgroup": "Promedio total ",
         "marker": {
          "color": "grey"
         },
         "name": "Promedio total ",
         "opacity": 0.75,
         "showlegend": false,
         "type": "bar",
         "x": [
          1,
          2,
          3,
          4,
          5,
          6,
          7,
          8,
          9,
          10,
          11,
          12
         ],
         "xaxis": "x4",
         "y": [
          45.26170798898072,
          54.469696969696955,
          53.23030303030304,
          37.736225895316814,
          34.70068870523416,
          30.716666666666665,
          27.039393939393936,
          30.262121212121205,
          35.94765840220386,
          40.52424242424243,
          44.76969696969697,
          42.38484848484848
         ],
         "yaxis": "y5"
        },
        {
         "legendgroup": "Porcentaje mes del año",
         "line": {
          "color": "black",
          "dash": "dash",
          "width": 1.5
         },
         "mode": "lines+markers",
         "name": "Porcentaje mes del año",
         "showlegend": true,
         "type": "scatter",
         "x": [
          1,
          2,
          3,
          4,
          5,
          6,
          7,
          8,
          9,
          10,
          11,
          12
         ],
         "xaxis": "x",
         "y": [
          0.09546674023011366,
          0.11868440635804282,
          0.12661247737099285,
          0.09071922054619425,
          0.07225983132201214,
          0.055741044554731174,
          0.0499493573995449,
          0.05953547456192417,
          0.07019301081913361,
          0.08084552704042348,
          0.09326461780673673,
          0.0867282919901502
         ],
         "yaxis": "y2"
        },
        {
         "legendgroup": "Porcentaje mes del año",
         "line": {
          "color": "black",
          "dash": "dash",
          "width": 1.5
         },
         "mode": "lines+markers",
         "name": "Porcentaje mes del año",
         "showlegend": false,
         "type": "scatter",
         "x": [
          1,
          2,
          3,
          4,
          5,
          6,
          7,
          8,
          9,
          10,
          11,
          12
         ],
         "xaxis": "x4",
         "y": [
          0.09487967374789728,
          0.11418188369934865,
          0.11158380912727452,
          0.07910441210694669,
          0.07274117945309347,
          0.06438968924163826,
          0.05668122104307584,
          0.06343685015652548,
          0.07535513467658622,
          0.08494878056808847,
          0.09384829762304187,
          0.08884906855648345
         ],
         "yaxis": "y6"
        }
       ],
       "layout": {
        "font": {
         "size": 20
        },
        "height": 675,
        "legend": {
         "orientation": "h",
         "x": 0.95,
         "xanchor": "right",
         "y": 1,
         "yanchor": "bottom"
        },
        "template": {
         "data": {
          "bar": [
           {
            "error_x": {
             "color": "#2a3f5f"
            },
            "error_y": {
             "color": "#2a3f5f"
            },
            "marker": {
             "line": {
              "color": "#E5ECF6",
              "width": 0.5
             }
            },
            "type": "bar"
           }
          ],
          "barpolar": [
           {
            "marker": {
             "line": {
              "color": "#E5ECF6",
              "width": 0.5
             }
            },
            "type": "barpolar"
           }
          ],
          "carpet": [
           {
            "aaxis": {
             "endlinecolor": "#2a3f5f",
             "gridcolor": "white",
             "linecolor": "white",
             "minorgridcolor": "white",
             "startlinecolor": "#2a3f5f"
            },
            "baxis": {
             "endlinecolor": "#2a3f5f",
             "gridcolor": "white",
             "linecolor": "white",
             "minorgridcolor": "white",
             "startlinecolor": "#2a3f5f"
            },
            "type": "carpet"
           }
          ],
          "choropleth": [
           {
            "colorbar": {
             "outlinewidth": 0,
             "ticks": ""
            },
            "type": "choropleth"
           }
          ],
          "contour": [
           {
            "colorbar": {
             "outlinewidth": 0,
             "ticks": ""
            },
            "colorscale": [
             [
              0,
              "#0d0887"
             ],
             [
              0.1111111111111111,
              "#46039f"
             ],
             [
              0.2222222222222222,
              "#7201a8"
             ],
             [
              0.3333333333333333,
              "#9c179e"
             ],
             [
              0.4444444444444444,
              "#bd3786"
             ],
             [
              0.5555555555555556,
              "#d8576b"
             ],
             [
              0.6666666666666666,
              "#ed7953"
             ],
             [
              0.7777777777777778,
              "#fb9f3a"
             ],
             [
              0.8888888888888888,
              "#fdca26"
             ],
             [
              1,
              "#f0f921"
             ]
            ],
            "type": "contour"
           }
          ],
          "contourcarpet": [
           {
            "colorbar": {
             "outlinewidth": 0,
             "ticks": ""
            },
            "type": "contourcarpet"
           }
          ],
          "heatmap": [
           {
            "colorbar": {
             "outlinewidth": 0,
             "ticks": ""
            },
            "colorscale": [
             [
              0,
              "#0d0887"
             ],
             [
              0.1111111111111111,
              "#46039f"
             ],
             [
              0.2222222222222222,
              "#7201a8"
             ],
             [
              0.3333333333333333,
              "#9c179e"
             ],
             [
              0.4444444444444444,
              "#bd3786"
             ],
             [
              0.5555555555555556,
              "#d8576b"
             ],
             [
              0.6666666666666666,
              "#ed7953"
             ],
             [
              0.7777777777777778,
              "#fb9f3a"
             ],
             [
              0.8888888888888888,
              "#fdca26"
             ],
             [
              1,
              "#f0f921"
             ]
            ],
            "type": "heatmap"
           }
          ],
          "heatmapgl": [
           {
            "colorbar": {
             "outlinewidth": 0,
             "ticks": ""
            },
            "colorscale": [
             [
              0,
              "#0d0887"
             ],
             [
              0.1111111111111111,
              "#46039f"
             ],
             [
              0.2222222222222222,
              "#7201a8"
             ],
             [
              0.3333333333333333,
              "#9c179e"
             ],
             [
              0.4444444444444444,
              "#bd3786"
             ],
             [
              0.5555555555555556,
              "#d8576b"
             ],
             [
              0.6666666666666666,
              "#ed7953"
             ],
             [
              0.7777777777777778,
              "#fb9f3a"
             ],
             [
              0.8888888888888888,
              "#fdca26"
             ],
             [
              1,
              "#f0f921"
             ]
            ],
            "type": "heatmapgl"
           }
          ],
          "histogram": [
           {
            "marker": {
             "colorbar": {
              "outlinewidth": 0,
              "ticks": ""
             }
            },
            "type": "histogram"
           }
          ],
          "histogram2d": [
           {
            "colorbar": {
             "outlinewidth": 0,
             "ticks": ""
            },
            "colorscale": [
             [
              0,
              "#0d0887"
             ],
             [
              0.1111111111111111,
              "#46039f"
             ],
             [
              0.2222222222222222,
              "#7201a8"
             ],
             [
              0.3333333333333333,
              "#9c179e"
             ],
             [
              0.4444444444444444,
              "#bd3786"
             ],
             [
              0.5555555555555556,
              "#d8576b"
             ],
             [
              0.6666666666666666,
              "#ed7953"
             ],
             [
              0.7777777777777778,
              "#fb9f3a"
             ],
             [
              0.8888888888888888,
              "#fdca26"
             ],
             [
              1,
              "#f0f921"
             ]
            ],
            "type": "histogram2d"
           }
          ],
          "histogram2dcontour": [
           {
            "colorbar": {
             "outlinewidth": 0,
             "ticks": ""
            },
            "colorscale": [
             [
              0,
              "#0d0887"
             ],
             [
              0.1111111111111111,
              "#46039f"
             ],
             [
              0.2222222222222222,
              "#7201a8"
             ],
             [
              0.3333333333333333,
              "#9c179e"
             ],
             [
              0.4444444444444444,
              "#bd3786"
             ],
             [
              0.5555555555555556,
              "#d8576b"
             ],
             [
              0.6666666666666666,
              "#ed7953"
             ],
             [
              0.7777777777777778,
              "#fb9f3a"
             ],
             [
              0.8888888888888888,
              "#fdca26"
             ],
             [
              1,
              "#f0f921"
             ]
            ],
            "type": "histogram2dcontour"
           }
          ],
          "mesh3d": [
           {
            "colorbar": {
             "outlinewidth": 0,
             "ticks": ""
            },
            "type": "mesh3d"
           }
          ],
          "parcoords": [
           {
            "line": {
             "colorbar": {
              "outlinewidth": 0,
              "ticks": ""
             }
            },
            "type": "parcoords"
           }
          ],
          "pie": [
           {
            "automargin": true,
            "type": "pie"
           }
          ],
          "scatter": [
           {
            "marker": {
             "colorbar": {
              "outlinewidth": 0,
              "ticks": ""
             }
            },
            "type": "scatter"
           }
          ],
          "scatter3d": [
           {
            "line": {
             "colorbar": {
              "outlinewidth": 0,
              "ticks": ""
             }
            },
            "marker": {
             "colorbar": {
              "outlinewidth": 0,
              "ticks": ""
             }
            },
            "type": "scatter3d"
           }
          ],
          "scattercarpet": [
           {
            "marker": {
             "colorbar": {
              "outlinewidth": 0,
              "ticks": ""
             }
            },
            "type": "scattercarpet"
           }
          ],
          "scattergeo": [
           {
            "marker": {
             "colorbar": {
              "outlinewidth": 0,
              "ticks": ""
             }
            },
            "type": "scattergeo"
           }
          ],
          "scattergl": [
           {
            "marker": {
             "colorbar": {
              "outlinewidth": 0,
              "ticks": ""
             }
            },
            "type": "scattergl"
           }
          ],
          "scattermapbox": [
           {
            "marker": {
             "colorbar": {
              "outlinewidth": 0,
              "ticks": ""
             }
            },
            "type": "scattermapbox"
           }
          ],
          "scatterpolar": [
           {
            "marker": {
             "colorbar": {
              "outlinewidth": 0,
              "ticks": ""
             }
            },
            "type": "scatterpolar"
           }
          ],
          "scatterpolargl": [
           {
            "marker": {
             "colorbar": {
              "outlinewidth": 0,
              "ticks": ""
             }
            },
            "type": "scatterpolargl"
           }
          ],
          "scatterternary": [
           {
            "marker": {
             "colorbar": {
              "outlinewidth": 0,
              "ticks": ""
             }
            },
            "type": "scatterternary"
           }
          ],
          "surface": [
           {
            "colorbar": {
             "outlinewidth": 0,
             "ticks": ""
            },
            "colorscale": [
             [
              0,
              "#0d0887"
             ],
             [
              0.1111111111111111,
              "#46039f"
             ],
             [
              0.2222222222222222,
              "#7201a8"
             ],
             [
              0.3333333333333333,
              "#9c179e"
             ],
             [
              0.4444444444444444,
              "#bd3786"
             ],
             [
              0.5555555555555556,
              "#d8576b"
             ],
             [
              0.6666666666666666,
              "#ed7953"
             ],
             [
              0.7777777777777778,
              "#fb9f3a"
             ],
             [
              0.8888888888888888,
              "#fdca26"
             ],
             [
              1,
              "#f0f921"
             ]
            ],
            "type": "surface"
           }
          ],
          "table": [
           {
            "cells": {
             "fill": {
              "color": "#EBF0F8"
             },
             "line": {
              "color": "white"
             }
            },
            "header": {
             "fill": {
              "color": "#C8D4E3"
             },
             "line": {
              "color": "white"
             }
            },
            "type": "table"
           }
          ]
         },
         "layout": {
          "annotationdefaults": {
           "arrowcolor": "#2a3f5f",
           "arrowhead": 0,
           "arrowwidth": 1
          },
          "coloraxis": {
           "colorbar": {
            "outlinewidth": 0,
            "ticks": ""
           }
          },
          "colorscale": {
           "diverging": [
            [
             0,
             "#8e0152"
            ],
            [
             0.1,
             "#c51b7d"
            ],
            [
             0.2,
             "#de77ae"
            ],
            [
             0.3,
             "#f1b6da"
            ],
            [
             0.4,
             "#fde0ef"
            ],
            [
             0.5,
             "#f7f7f7"
            ],
            [
             0.6,
             "#e6f5d0"
            ],
            [
             0.7,
             "#b8e186"
            ],
            [
             0.8,
             "#7fbc41"
            ],
            [
             0.9,
             "#4d9221"
            ],
            [
             1,
             "#276419"
            ]
           ],
           "sequential": [
            [
             0,
             "#0d0887"
            ],
            [
             0.1111111111111111,
             "#46039f"
            ],
            [
             0.2222222222222222,
             "#7201a8"
            ],
            [
             0.3333333333333333,
             "#9c179e"
            ],
            [
             0.4444444444444444,
             "#bd3786"
            ],
            [
             0.5555555555555556,
             "#d8576b"
            ],
            [
             0.6666666666666666,
             "#ed7953"
            ],
            [
             0.7777777777777778,
             "#fb9f3a"
            ],
            [
             0.8888888888888888,
             "#fdca26"
            ],
            [
             1,
             "#f0f921"
            ]
           ],
           "sequentialminus": [
            [
             0,
             "#0d0887"
            ],
            [
             0.1111111111111111,
             "#46039f"
            ],
            [
             0.2222222222222222,
             "#7201a8"
            ],
            [
             0.3333333333333333,
             "#9c179e"
            ],
            [
             0.4444444444444444,
             "#bd3786"
            ],
            [
             0.5555555555555556,
             "#d8576b"
            ],
            [
             0.6666666666666666,
             "#ed7953"
            ],
            [
             0.7777777777777778,
             "#fb9f3a"
            ],
            [
             0.8888888888888888,
             "#fdca26"
            ],
            [
             1,
             "#f0f921"
            ]
           ]
          },
          "colorway": [
           "#636efa",
           "#EF553B",
           "#00cc96",
           "#ab63fa",
           "#FFA15A",
           "#19d3f3",
           "#FF6692",
           "#B6E880",
           "#FF97FF",
           "#FECB52"
          ],
          "font": {
           "color": "#2a3f5f"
          },
          "geo": {
           "bgcolor": "white",
           "lakecolor": "white",
           "landcolor": "#E5ECF6",
           "showlakes": true,
           "showland": true,
           "subunitcolor": "white"
          },
          "hoverlabel": {
           "align": "left"
          },
          "hovermode": "closest",
          "mapbox": {
           "style": "light"
          },
          "paper_bgcolor": "white",
          "plot_bgcolor": "#E5ECF6",
          "polar": {
           "angularaxis": {
            "gridcolor": "white",
            "linecolor": "white",
            "ticks": ""
           },
           "bgcolor": "#E5ECF6",
           "radialaxis": {
            "gridcolor": "white",
            "linecolor": "white",
            "ticks": ""
           }
          },
          "scene": {
           "xaxis": {
            "backgroundcolor": "#E5ECF6",
            "gridcolor": "white",
            "gridwidth": 2,
            "linecolor": "white",
            "showbackground": true,
            "ticks": "",
            "zerolinecolor": "white"
           },
           "yaxis": {
            "backgroundcolor": "#E5ECF6",
            "gridcolor": "white",
            "gridwidth": 2,
            "linecolor": "white",
            "showbackground": true,
            "ticks": "",
            "zerolinecolor": "white"
           },
           "zaxis": {
            "backgroundcolor": "#E5ECF6",
            "gridcolor": "white",
            "gridwidth": 2,
            "linecolor": "white",
            "showbackground": true,
            "ticks": "",
            "zerolinecolor": "white"
           }
          },
          "shapedefaults": {
           "line": {
            "color": "#2a3f5f"
           }
          },
          "ternary": {
           "aaxis": {
            "gridcolor": "white",
            "linecolor": "white",
            "ticks": ""
           },
           "baxis": {
            "gridcolor": "white",
            "linecolor": "white",
            "ticks": ""
           },
           "bgcolor": "#E5ECF6",
           "caxis": {
            "gridcolor": "white",
            "linecolor": "white",
            "ticks": ""
           }
          },
          "title": {
           "x": 0.05
          },
          "xaxis": {
           "automargin": true,
           "gridcolor": "white",
           "linecolor": "white",
           "ticks": "",
           "title": {
            "standoff": 15
           },
           "zerolinecolor": "white",
           "zerolinewidth": 2
          },
          "yaxis": {
           "automargin": true,
           "gridcolor": "white",
           "linecolor": "white",
           "ticks": "",
           "title": {
            "standoff": 15
           },
           "zerolinecolor": "white",
           "zerolinewidth": 2
          }
         }
        },
        "title": {
         "font": {
          "size": 25
         },
         "text": "Registros diarios por estación (2014-2019)"
        },
        "width": 1200,
        "xaxis": {
         "anchor": "y",
         "domain": [
          0,
          0.22444444444444445
         ],
         "matches": "x4",
         "showticklabels": false
        },
        "xaxis2": {
         "anchor": "y3",
         "domain": [
          0.35777777777777775,
          0.5822222222222222
         ],
         "matches": "x5",
         "showticklabels": false
        },
        "xaxis3": {
         "anchor": "y4",
         "domain": [
          0.7155555555555555,
          0.94
         ],
         "matches": "x6",
         "showticklabels": false
        },
        "xaxis4": {
         "anchor": "y5",
         "domain": [
          0,
          0.22444444444444445
         ]
        },
        "xaxis5": {
         "anchor": "y7",
         "domain": [
          0.35777777777777775,
          0.5822222222222222
         ]
        },
        "xaxis6": {
         "anchor": "y8",
         "domain": [
          0.7155555555555555,
          0.94
         ]
        },
        "yaxis": {
         "anchor": "x",
         "domain": [
          0.515,
          1
         ],
         "title": {
          "text": "pm 2.5 (μg/m³)"
         }
        },
        "yaxis2": {
         "anchor": "x",
         "overlaying": "y",
         "side": "right",
         "title": {
          "text": "pm 2.5 (μg/m³)"
         }
        },
        "yaxis3": {
         "anchor": "x2",
         "domain": [
          0.515,
          1
         ],
         "matches": "y",
         "showticklabels": false
        },
        "yaxis4": {
         "anchor": "x3",
         "domain": [
          0.515,
          1
         ],
         "matches": "y",
         "showticklabels": false
        },
        "yaxis5": {
         "anchor": "x4",
         "domain": [
          0,
          0.485
         ],
         "title": {
          "text": "pm 10 (μg/m³)"
         }
        },
        "yaxis6": {
         "anchor": "x4",
         "overlaying": "y5",
         "side": "right",
         "title": {
          "text": "pm 10 (μg/m³)"
         }
        },
        "yaxis7": {
         "anchor": "x5",
         "domain": [
          0,
          0.485
         ],
         "matches": "y5",
         "showticklabels": false
        },
        "yaxis8": {
         "anchor": "x6",
         "domain": [
          0,
          0.485
         ],
         "matches": "y5",
         "showticklabels": false
        }
       }
      },
      "text/html": [
       "<div>\n",
       "        \n",
       "        \n",
       "            <div id=\"38315922-0e42-4de3-93ea-a71407cbe9ae\" class=\"plotly-graph-div\" style=\"height:675.0px; width:1200px;\"></div>\n",
       "            <script type=\"text/javascript\">\n",
       "                require([\"plotly\"], function(Plotly) {\n",
       "                    window.PLOTLYENV=window.PLOTLYENV || {};\n",
       "                    \n",
       "                if (document.getElementById(\"38315922-0e42-4de3-93ea-a71407cbe9ae\")) {\n",
       "                    Plotly.newPlot(\n",
       "                        '38315922-0e42-4de3-93ea-a71407cbe9ae',\n",
       "                        [{\"legendgroup\": \"Total\", \"line\": {\"color\": \"black\", \"width\": 4}, \"mode\": \"lines\", \"name\": \"Total\", \"showlegend\": true, \"type\": \"scatter\", \"x\": [\"2014-01-01T00:00:00\", \"2014-02-01T00:00:00\", \"2014-03-01T00:00:00\", \"2014-04-01T00:00:00\", \"2014-05-01T00:00:00\", \"2014-06-01T00:00:00\", \"2014-07-01T00:00:00\", \"2014-08-01T00:00:00\", \"2014-09-01T00:00:00\", \"2014-10-01T00:00:00\", \"2014-11-01T00:00:00\", \"2014-12-01T00:00:00\", \"2015-01-01T00:00:00\", \"2015-02-01T00:00:00\", \"2015-03-01T00:00:00\", \"2015-04-01T00:00:00\", \"2015-05-01T00:00:00\", \"2015-06-01T00:00:00\", \"2015-07-01T00:00:00\", \"2015-08-01T00:00:00\", \"2015-09-01T00:00:00\", \"2015-10-01T00:00:00\", \"2015-11-01T00:00:00\", \"2015-12-01T00:00:00\", \"2016-01-01T00:00:00\", \"2016-02-01T00:00:00\", \"2016-03-01T00:00:00\", \"2016-04-01T00:00:00\", \"2016-05-01T00:00:00\", \"2016-06-01T00:00:00\", \"2016-07-01T00:00:00\", \"2016-08-01T00:00:00\", \"2016-09-01T00:00:00\", \"2016-10-01T00:00:00\", \"2016-11-01T00:00:00\", \"2016-12-01T00:00:00\", \"2017-01-01T00:00:00\", \"2017-02-01T00:00:00\", \"2017-03-01T00:00:00\", \"2017-04-01T00:00:00\", \"2017-05-01T00:00:00\", \"2017-06-01T00:00:00\", \"2017-07-01T00:00:00\", \"2017-08-01T00:00:00\", \"2017-09-01T00:00:00\", \"2017-10-01T00:00:00\", \"2017-11-01T00:00:00\", \"2017-12-01T00:00:00\", \"2018-01-01T00:00:00\", \"2018-02-01T00:00:00\", \"2018-03-01T00:00:00\", \"2018-04-01T00:00:00\", \"2018-05-01T00:00:00\", \"2018-06-01T00:00:00\", \"2018-07-01T00:00:00\", \"2018-08-01T00:00:00\", \"2018-09-01T00:00:00\", \"2018-10-01T00:00:00\", \"2018-11-01T00:00:00\", \"2018-12-01T00:00:00\", \"2019-01-01T00:00:00\", \"2019-02-01T00:00:00\", \"2019-03-01T00:00:00\", \"2019-04-01T00:00:00\", \"2019-05-01T00:00:00\", \"2019-06-01T00:00:00\", \"2019-07-01T00:00:00\", \"2019-08-01T00:00:00\", \"2019-09-01T00:00:00\", \"2019-10-01T00:00:00\", \"2019-11-01T00:00:00\", \"2019-12-01T00:00:00\"], \"xaxis\": \"x3\", \"y\": [19.8, 22.175, 25.03125, 23.934151785714285, 22.888113839285715, 20.808942522321427, 18.60670689174107, 17.830030168805802, 17.42252262660435, 18.004391969953264, 18.87829397746495, 20.049345483098712, 19.677634112324036, 20.97251129852874, 22.146050140563222, 20.937662605422418, 19.828246954066813, 17.59340743777233, 16.19505557832925, 15.410180572635827, 15.474302096143537, 16.189059905440985, 16.96991992908074, 16.51910661347722, 20.483079960107915, 21.778976636747604, 24.209232477560704, 23.719424358170528, 21.039568268627896, 18.60780120147092, 16.40897590110319, 15.467446211541677, 15.42201323008483, 16.538732144785843, 17.729049108589383, 18.771786831442036, 18.89134012358153, 20.206005092686148, 20.77950381951461, 20.475252864635955, 19.267153934191253, 18.37224045064344, 16.48230533798258, 15.711729003486935, 15.558796752615201, 15.631597564461401, 17.418142617790494, 18.17471807445398, 18.177913555840487, 20.117810166880364, 21.102246514049163, 20.476684885536873, 18.774180330819323, 16.68777810525735, 15.078333578943013, 13.808750184207259, 14.094062638155446, 14.845546978616584, 15.384160233962438, 15.275620175471829, 15.506715131603872, 17.880036348702905, 20.47252726152718, 20.204395446145384, 18.69079658460904, 16.462541882901224, 14.821906412175919, 14.397679809131938, 14.173259856848954, 14.036194892636715, 14.667771169477536, 14.788328377108153], \"yaxis\": \"y4\"}, {\"legendgroup\": \"Total\", \"line\": {\"color\": \"black\", \"width\": 4}, \"mode\": \"lines\", \"name\": \"Total\", \"showlegend\": false, \"type\": \"scatter\", \"x\": [\"2014-01-01T00:00:00\", \"2014-02-01T00:00:00\", \"2014-03-01T00:00:00\", \"2014-04-01T00:00:00\", \"2014-05-01T00:00:00\", \"2014-06-01T00:00:00\", \"2014-07-01T00:00:00\", \"2014-08-01T00:00:00\", \"2014-09-01T00:00:00\", \"2014-10-01T00:00:00\", \"2014-11-01T00:00:00\", \"2014-12-01T00:00:00\", \"2015-01-01T00:00:00\", \"2015-02-01T00:00:00\", \"2015-03-01T00:00:00\", \"2015-04-01T00:00:00\", \"2015-05-01T00:00:00\", \"2015-06-01T00:00:00\", \"2015-07-01T00:00:00\", \"2015-08-01T00:00:00\", \"2015-09-01T00:00:00\", \"2015-10-01T00:00:00\", \"2015-11-01T00:00:00\", \"2015-12-01T00:00:00\", \"2016-01-01T00:00:00\", \"2016-02-01T00:00:00\", \"2016-03-01T00:00:00\", \"2016-04-01T00:00:00\", \"2016-05-01T00:00:00\", \"2016-06-01T00:00:00\", \"2016-07-01T00:00:00\", \"2016-08-01T00:00:00\", \"2016-09-01T00:00:00\", \"2016-10-01T00:00:00\", \"2016-11-01T00:00:00\", \"2016-12-01T00:00:00\", \"2017-01-01T00:00:00\", \"2017-02-01T00:00:00\", \"2017-03-01T00:00:00\", \"2017-04-01T00:00:00\", \"2017-05-01T00:00:00\", \"2017-06-01T00:00:00\", \"2017-07-01T00:00:00\", \"2017-08-01T00:00:00\", \"2017-09-01T00:00:00\", \"2017-10-01T00:00:00\", \"2017-11-01T00:00:00\", \"2017-12-01T00:00:00\", \"2018-01-01T00:00:00\", \"2018-02-01T00:00:00\", \"2018-03-01T00:00:00\", \"2018-04-01T00:00:00\", \"2018-05-01T00:00:00\", \"2018-06-01T00:00:00\", \"2018-07-01T00:00:00\", \"2018-08-01T00:00:00\", \"2018-09-01T00:00:00\", \"2018-10-01T00:00:00\", \"2018-11-01T00:00:00\", \"2018-12-01T00:00:00\", \"2019-01-01T00:00:00\", \"2019-02-01T00:00:00\", \"2019-03-01T00:00:00\", \"2019-04-01T00:00:00\", \"2019-05-01T00:00:00\", \"2019-06-01T00:00:00\", \"2019-07-01T00:00:00\", \"2019-08-01T00:00:00\", \"2019-09-01T00:00:00\", \"2019-10-01T00:00:00\", \"2019-11-01T00:00:00\", \"2019-12-01T00:00:00\"], \"xaxis\": \"x6\", \"y\": [49.6, 52.85909090909091, 54.91704545454545, 51.903693181818184, 51.35832544191919, 49.4062440814394, 46.179683061079544, 45.10976229580966, 44.83232172185724, 45.686741291392934, 47.5775559685447, 49.19566697640853, 48.0467502323064, 49.5100626742298, 51.05754700567235, 48.10566025425426, 46.0917451906907, 41.34380889301803, 38.33285666976352, 36.349642502322645, 36.662231876741984, 38.17167390755649, 39.553755430667366, 38.30420546188941, 45.14482076308373, 47.4086155723128, 50.1502116792346, 49.862658759425955, 45.568869069569466, 42.0516518021771, 38.46373885163282, 36.62558191650239, 36.27474199293235, 37.80605649469926, 39.46704237102445, 41.47528177826834, 41.53146133370126, 44.03609600027595, 43.98540533354029, 37.87967900015522, 32.284759250116416, 33.38544443758731, 31.251583328190485, 31.96646527392064, 33.04984895544048, 34.36238671658036, 38.2301233707686, 39.92259252807645, 39.83083328494622, 43.30368051926522, 44.533315945004475, 43.64998695875336, 41.0152679968428, 37.525339886520996, 35.13150491489075, 33.41112868616806, 33.958346514626044, 34.74653766374731, 36.36545880336604, 36.61500319343362, 36.38170694052976, 39.2180983872155, 41.39084651768435, 40.24768034280872, 38.08348752983381, 33.80125201101173, 31.214575371895158, 29.820022438012277, 29.751380464872845, 30.57489898501827, 31.718674238763704, 32.71956123462834], \"yaxis\": \"y8\"}, {\"legendgroup\": \"Estaci\\u00f3n Ken\", \"line\": {\"color\": \"salmon\", \"width\": 4}, \"name\": \"Estaci\\u00f3n Ken\", \"opacity\": 0.85, \"type\": \"scatter\", \"x\": [\"2014-01-01T00:00:00\", \"2014-02-01T00:00:00\", \"2014-03-01T00:00:00\", \"2014-04-01T00:00:00\", \"2014-05-01T00:00:00\", \"2014-06-01T00:00:00\", \"2014-07-01T00:00:00\", \"2014-08-01T00:00:00\", \"2014-09-01T00:00:00\", \"2014-10-01T00:00:00\", \"2014-11-01T00:00:00\", \"2014-12-01T00:00:00\", \"2015-01-01T00:00:00\", \"2015-02-01T00:00:00\", \"2015-03-01T00:00:00\", \"2015-04-01T00:00:00\", \"2015-05-01T00:00:00\", \"2015-06-01T00:00:00\", \"2015-07-01T00:00:00\", \"2015-08-01T00:00:00\", \"2015-09-01T00:00:00\", \"2015-10-01T00:00:00\", \"2015-11-01T00:00:00\", \"2015-12-01T00:00:00\", \"2016-01-01T00:00:00\", \"2016-02-01T00:00:00\", \"2016-03-01T00:00:00\", \"2016-04-01T00:00:00\", \"2016-05-01T00:00:00\", \"2016-06-01T00:00:00\", \"2016-07-01T00:00:00\", \"2016-08-01T00:00:00\", \"2016-09-01T00:00:00\", \"2016-10-01T00:00:00\", \"2016-11-01T00:00:00\", \"2016-12-01T00:00:00\", \"2017-01-01T00:00:00\", \"2017-02-01T00:00:00\", \"2017-03-01T00:00:00\", \"2017-04-01T00:00:00\", \"2017-05-01T00:00:00\", \"2017-06-01T00:00:00\", \"2017-07-01T00:00:00\", \"2017-08-01T00:00:00\", \"2017-09-01T00:00:00\", \"2017-10-01T00:00:00\", \"2017-11-01T00:00:00\", \"2017-12-01T00:00:00\", \"2018-01-01T00:00:00\", \"2018-02-01T00:00:00\", \"2018-03-01T00:00:00\", \"2018-04-01T00:00:00\", \"2018-05-01T00:00:00\", \"2018-06-01T00:00:00\", \"2018-07-01T00:00:00\", \"2018-08-01T00:00:00\", \"2018-09-01T00:00:00\", \"2018-10-01T00:00:00\", \"2018-11-01T00:00:00\", \"2018-12-01T00:00:00\", \"2019-01-01T00:00:00\", \"2019-02-01T00:00:00\", \"2019-03-01T00:00:00\", \"2019-04-01T00:00:00\", \"2019-05-01T00:00:00\", \"2019-06-01T00:00:00\", \"2019-07-01T00:00:00\", \"2019-08-01T00:00:00\", \"2019-09-01T00:00:00\", \"2019-10-01T00:00:00\", \"2019-11-01T00:00:00\", \"2019-12-01T00:00:00\"], \"xaxis\": \"x3\", \"y\": [36.0, 38.125, 39.59375, 37.3203125, 35.740234375, 33.80517578125, 33.1038818359375, 31.827911376953125, 30.120933532714844, 30.465700149536133, 30.3492751121521, 31.636956334114075, 30.852717250585556, 31.889537937939167, 32.417153453454375, 31.43786509009078, 30.703398817568086, 28.527549113176065, 27.39566183488205, 26.671746376161536, 27.753809782121152, 29.315357336590864, 29.611518002443148, 28.83363850183236, 31.875228876374273, 33.4064216572807, 34.17981624296053, 32.884862182220395, 30.913646636665298, 29.310234977498972, 27.35767623312423, 27.14325717484317, 27.85744288113238, 29.143082160849282, 30.107311620636963, 31.330483715477722, 28.37286278660829, 29.154647089956217, 29.365985317467164, 29.149488988100373, 28.23711674107528, 27.55283755580646, 26.039628166854843, 26.279721125141133, 26.45979084385585, 26.71984313289189, 28.289882349668915, 28.717411762251686, 28.413058821688765, 29.184794116266573, 30.01359558719993, 29.510196690399948, 28.13264751779996, 26.849485638349968, 25.637114228762478, 25.47783567157186, 25.233376753678897, 25.175032565259173, 25.13127442394438, 26.223455817958286, 26.417591863468715, 30.313193897601536, 33.85989542320115, 33.644921567400864, 32.358691175550646, 30.019018381662985, 28.514263786247238, 28.135697839685427, 28.35177337976407, 29.26383003482305, 29.322872526117287, 29.617154394587963], \"yaxis\": \"y4\"}, {\"legendgroup\": \"Estaci\\u00f3n MinA\", \"line\": {\"color\": \"mediumaquamarine\", \"width\": 4}, \"name\": \"Estaci\\u00f3n MinA\", \"opacity\": 0.85, \"type\": \"scatter\", \"x\": [\"2014-01-01T00:00:00\", \"2014-02-01T00:00:00\", \"2014-03-01T00:00:00\", \"2014-04-01T00:00:00\", \"2014-05-01T00:00:00\", \"2014-06-01T00:00:00\", \"2014-07-01T00:00:00\", \"2014-08-01T00:00:00\", \"2014-09-01T00:00:00\", \"2014-10-01T00:00:00\", \"2014-11-01T00:00:00\", \"2014-12-01T00:00:00\", \"2015-01-01T00:00:00\", \"2015-02-01T00:00:00\", \"2015-03-01T00:00:00\", \"2015-04-01T00:00:00\", \"2015-05-01T00:00:00\", \"2015-06-01T00:00:00\", \"2015-07-01T00:00:00\", \"2015-08-01T00:00:00\", \"2015-09-01T00:00:00\", \"2015-10-01T00:00:00\", \"2015-11-01T00:00:00\", \"2015-12-01T00:00:00\", \"2016-01-01T00:00:00\", \"2016-02-01T00:00:00\", \"2016-03-01T00:00:00\", \"2016-04-01T00:00:00\", \"2016-05-01T00:00:00\", \"2016-06-01T00:00:00\", \"2016-07-01T00:00:00\", \"2016-08-01T00:00:00\", \"2016-09-01T00:00:00\", \"2016-10-01T00:00:00\", \"2016-11-01T00:00:00\", \"2016-12-01T00:00:00\", \"2017-01-01T00:00:00\", \"2017-02-01T00:00:00\", \"2017-03-01T00:00:00\", \"2017-04-01T00:00:00\", \"2017-05-01T00:00:00\", \"2017-06-01T00:00:00\", \"2017-07-01T00:00:00\", \"2017-08-01T00:00:00\", \"2017-09-01T00:00:00\", \"2017-10-01T00:00:00\", \"2017-11-01T00:00:00\", \"2017-12-01T00:00:00\", \"2018-01-01T00:00:00\", \"2018-02-01T00:00:00\", \"2018-03-01T00:00:00\", \"2018-04-01T00:00:00\", \"2018-05-01T00:00:00\", \"2018-06-01T00:00:00\", \"2018-07-01T00:00:00\", \"2018-08-01T00:00:00\", \"2018-09-01T00:00:00\", \"2018-10-01T00:00:00\", \"2018-11-01T00:00:00\", \"2018-12-01T00:00:00\", \"2019-01-01T00:00:00\", \"2019-02-01T00:00:00\", \"2019-03-01T00:00:00\", \"2019-04-01T00:00:00\", \"2019-05-01T00:00:00\", \"2019-06-01T00:00:00\", \"2019-07-01T00:00:00\", \"2019-08-01T00:00:00\", \"2019-09-01T00:00:00\", \"2019-10-01T00:00:00\", \"2019-11-01T00:00:00\", \"2019-12-01T00:00:00\"], \"xaxis\": \"x3\", \"y\": [null, null, 35.0, 32.25, 29.6875, 25.765625, 22.82421875, 21.3681640625, 21.3681640625, 21.2548828125, 21.691162109375, 22.76837158203125, 22.826278686523438, 24.619709014892578, 26.714781761169434, 25.536086320877075, 24.652064740657806, 22.239048555493355, 20.429286416620016, 19.571964812465012, 19.67897360934876, 20.25923020701157, 20.25923020701157, 19.87177475870032, 22.903831069025237, 25.177873301768926, 27.633404976326695, 26.725053732245023, 23.54379029918377, 23.54379029918377, 23.54379029918377, 23.54379029918377, 23.54379029918377, 23.54379029918377, 19.721291002912135, 20.2909682521841, 17.468226189138075, 19.601169641853556, 19.950877231390166, 20.463157923542624, 18.84736844265697, 16.385526331992725, 14.039144748994545, 14.529358561745909, 15.397018921309432, 15.547764190982074, 17.160823143236556, 18.370617357427417, 18.27796301807056, 20.20847226355292, 21.65635419766469, 20.74226564824852, 18.80669923618639, 17.105024427139792, 15.328768320354843, 14.246576240266133, 13.9349321801996, 13.9511991351497, 14.213399351362275, 14.660049513521706, 15.24503713514128, 17.93377785135596, 20.70033338851697, 20.02525004138773, 17.768937531040798, 15.326703148280599, 13.995027361210449, 14.246270520907837, 14.184702890680878, 14.138527168010658, 14.603895376007994, 14.702921532005995], \"yaxis\": \"y4\"}, {\"legendgroup\": \"Estaci\\u00f3n SanC\", \"line\": {\"color\": \"slateblue\", \"width\": 4}, \"name\": \"Estaci\\u00f3n SanC\", \"opacity\": 0.85, \"type\": \"scatter\", \"x\": [\"2014-01-01T00:00:00\", \"2014-02-01T00:00:00\", \"2014-03-01T00:00:00\", \"2014-04-01T00:00:00\", \"2014-05-01T00:00:00\", \"2014-06-01T00:00:00\", \"2014-07-01T00:00:00\", \"2014-08-01T00:00:00\", \"2014-09-01T00:00:00\", \"2014-10-01T00:00:00\", \"2014-11-01T00:00:00\", \"2014-12-01T00:00:00\", \"2015-01-01T00:00:00\", \"2015-02-01T00:00:00\", \"2015-03-01T00:00:00\", \"2015-04-01T00:00:00\", \"2015-05-01T00:00:00\", \"2015-06-01T00:00:00\", \"2015-07-01T00:00:00\", \"2015-08-01T00:00:00\", \"2015-09-01T00:00:00\", \"2015-10-01T00:00:00\", \"2015-11-01T00:00:00\", \"2015-12-01T00:00:00\", \"2016-01-01T00:00:00\", \"2016-02-01T00:00:00\", \"2016-03-01T00:00:00\", \"2016-04-01T00:00:00\", \"2016-05-01T00:00:00\", \"2016-06-01T00:00:00\", \"2016-07-01T00:00:00\", \"2016-08-01T00:00:00\", \"2016-09-01T00:00:00\", \"2016-10-01T00:00:00\", \"2016-11-01T00:00:00\", \"2016-12-01T00:00:00\", \"2017-01-01T00:00:00\", \"2017-02-01T00:00:00\", \"2017-03-01T00:00:00\", \"2017-04-01T00:00:00\", \"2017-05-01T00:00:00\", \"2017-06-01T00:00:00\", \"2017-07-01T00:00:00\", \"2017-08-01T00:00:00\", \"2017-09-01T00:00:00\", \"2017-10-01T00:00:00\", \"2017-11-01T00:00:00\", \"2017-12-01T00:00:00\", \"2018-01-01T00:00:00\", \"2018-02-01T00:00:00\", \"2018-03-01T00:00:00\", \"2018-04-01T00:00:00\", \"2018-05-01T00:00:00\", \"2018-06-01T00:00:00\", \"2018-07-01T00:00:00\", \"2018-08-01T00:00:00\", \"2018-09-01T00:00:00\", \"2018-10-01T00:00:00\", \"2018-11-01T00:00:00\", \"2018-12-01T00:00:00\", \"2019-01-01T00:00:00\", \"2019-02-01T00:00:00\", \"2019-03-01T00:00:00\", \"2019-04-01T00:00:00\", \"2019-05-01T00:00:00\", \"2019-06-01T00:00:00\", \"2019-07-01T00:00:00\", \"2019-08-01T00:00:00\", \"2019-09-01T00:00:00\", \"2019-10-01T00:00:00\", \"2019-11-01T00:00:00\", \"2019-12-01T00:00:00\"], \"xaxis\": \"x3\", \"y\": [18.0, 20.5, 24.125, 23.84375, 23.8828125, 21.912109375, 19.43408203125, 18.8255615234375, 18.619171142578125, 20.714378356933594, 23.285783767700195, 24.964337825775146, 24.22325336933136, 25.41744002699852, 26.81308002024889, 25.109810015186667, 23.83235751139, 21.1242681335425, 19.593201100156875, 18.694900825117656, 18.771175618838242, 19.578381714128682, 20.93378628559651, 20.700339714197384, 25.275254785648038, 26.20644108923603, 28.654830816927024, 27.74112311269527, 25.05584233452145, 21.791881750891086, 19.093911313168313, 17.820433484876233, 17.615325113657175, 19.21149383524288, 21.90862037643216, 23.43146528232412, 22.573598961743087, 24.430199221307316, 25.322649415980486, 24.741987061985363, 23.306490296489024, 20.97986772236677, 18.484900791775075, 17.863675593831307, 17.14775669537348, 17.86081752153011, 20.39561314114758, 21.046709855860687, 21.285032391895516, 23.963774293921638, 24.97283072044123, 24.72962304033092, 22.54721728024819, 22.54721728024819, 19.30191965555644, 19.30191965555644, 19.20902130000061, 20.156765975000457, 19.117574481250344, 18.338180860937758, 17.75363564570332, 19.565226734277488, 21.673920050708116, 21.255440038031086, 19.691580028523315, 16.768685021392486, 14.576513766044364, 13.682385324533273, 13.011788993399955, 13.508841745049967, 14.381631308787476, 14.536223481590607], \"yaxis\": \"y4\"}, {\"legendgroup\": \"Estaci\\u00f3n Ken\", \"line\": {\"color\": \"salmon\", \"width\": 4}, \"name\": \"Estaci\\u00f3n Ken\", \"opacity\": 0.85, \"showlegend\": false, \"type\": \"scatter\", \"x\": [\"2014-01-01T00:00:00\", \"2014-02-01T00:00:00\", \"2014-03-01T00:00:00\", \"2014-04-01T00:00:00\", \"2014-05-01T00:00:00\", \"2014-06-01T00:00:00\", \"2014-07-01T00:00:00\", \"2014-08-01T00:00:00\", \"2014-09-01T00:00:00\", \"2014-10-01T00:00:00\", \"2014-11-01T00:00:00\", \"2014-12-01T00:00:00\", \"2015-01-01T00:00:00\", \"2015-02-01T00:00:00\", \"2015-03-01T00:00:00\", \"2015-04-01T00:00:00\", \"2015-05-01T00:00:00\", \"2015-06-01T00:00:00\", \"2015-07-01T00:00:00\", \"2015-08-01T00:00:00\", \"2015-09-01T00:00:00\", \"2015-10-01T00:00:00\", \"2015-11-01T00:00:00\", \"2015-12-01T00:00:00\", \"2016-01-01T00:00:00\", \"2016-02-01T00:00:00\", \"2016-03-01T00:00:00\", \"2016-04-01T00:00:00\", \"2016-05-01T00:00:00\", \"2016-06-01T00:00:00\", \"2016-07-01T00:00:00\", \"2016-08-01T00:00:00\", \"2016-09-01T00:00:00\", \"2016-10-01T00:00:00\", \"2016-11-01T00:00:00\", \"2016-12-01T00:00:00\", \"2017-01-01T00:00:00\", \"2017-02-01T00:00:00\", \"2017-03-01T00:00:00\", \"2017-04-01T00:00:00\", \"2017-05-01T00:00:00\", \"2017-06-01T00:00:00\", \"2017-07-01T00:00:00\", \"2017-08-01T00:00:00\", \"2017-09-01T00:00:00\", \"2017-10-01T00:00:00\", \"2017-11-01T00:00:00\", \"2017-12-01T00:00:00\", \"2018-01-01T00:00:00\", \"2018-02-01T00:00:00\", \"2018-03-01T00:00:00\", \"2018-04-01T00:00:00\", \"2018-05-01T00:00:00\", \"2018-06-01T00:00:00\", \"2018-07-01T00:00:00\", \"2018-08-01T00:00:00\", \"2018-09-01T00:00:00\", \"2018-10-01T00:00:00\", \"2018-11-01T00:00:00\", \"2018-12-01T00:00:00\", \"2019-01-01T00:00:00\", \"2019-02-01T00:00:00\", \"2019-03-01T00:00:00\", \"2019-04-01T00:00:00\", \"2019-05-01T00:00:00\", \"2019-06-01T00:00:00\", \"2019-07-01T00:00:00\", \"2019-08-01T00:00:00\", \"2019-09-01T00:00:00\", \"2019-10-01T00:00:00\", \"2019-11-01T00:00:00\", \"2019-12-01T00:00:00\"], \"xaxis\": \"x6\", \"y\": [95.0, 96.75, 96.3125, 92.609375, 91.58203125, 85.8115234375, 84.858642578125, 81.51898193359375, 75.63923645019531, 75.60442733764648, 75.32832050323486, 77.62124037742615, 75.96593028306961, 81.47444771230221, 83.10583578422666, 81.70437683816999, 79.9032826286275, 74.92746197147062, 73.19559647860297, 71.14669735895222, 74.11002301921417, 77.33251726441063, 77.24938794830797, 74.43704096123098, 78.32778072092323, 81.49583554069243, 83.12187665551932, 78.34140749163949, 73.88105561872962, 69.2857917140472, 63.214343785535405, 62.41075783915156, 61.80806837936367, 61.85605128452275, 62.51703846339206, 65.01277884754404, 59.50958413565803, 63.00718810174352, 62.255391076307646, 53.81654330723073, 46.737407480423045, 49.42805561031729, 48.44604170773796, 51.084531280803475, 53.813398460602606, 55.860048845451956, 59.52003663408897, 59.890027475566725, 59.91752060667504, 61.81314045500628, 62.60985534125471, 62.70739150594103, 59.28054362945578, 57.58540772209183, 56.064055791568876, 56.42304184367666, 57.56728138275749, 58.17546103706812, 59.63159577780109, 59.223696833350814, 58.042772625013114, 58.53207946875983, 58.649059601569874, 57.4867947011774, 55.99009602588305, 52.117572019412286, 50.088179014559216, 48.06613426091941, 46.29960069568956, 47.849700521767176, 47.26227539132538, 46.82170654349404], \"yaxis\": \"y8\"}, {\"legendgroup\": \"Estaci\\u00f3n MinA\", \"line\": {\"color\": \"mediumaquamarine\", \"width\": 4}, \"name\": \"Estaci\\u00f3n MinA\", \"opacity\": 0.85, \"showlegend\": false, \"type\": \"scatter\", \"x\": [\"2014-01-01T00:00:00\", \"2014-02-01T00:00:00\", \"2014-03-01T00:00:00\", \"2014-04-01T00:00:00\", \"2014-05-01T00:00:00\", \"2014-06-01T00:00:00\", \"2014-07-01T00:00:00\", \"2014-08-01T00:00:00\", \"2014-09-01T00:00:00\", \"2014-10-01T00:00:00\", \"2014-11-01T00:00:00\", \"2014-12-01T00:00:00\", \"2015-01-01T00:00:00\", \"2015-02-01T00:00:00\", \"2015-03-01T00:00:00\", \"2015-04-01T00:00:00\", \"2015-05-01T00:00:00\", \"2015-06-01T00:00:00\", \"2015-07-01T00:00:00\", \"2015-08-01T00:00:00\", \"2015-09-01T00:00:00\", \"2015-10-01T00:00:00\", \"2015-11-01T00:00:00\", \"2015-12-01T00:00:00\", \"2016-01-01T00:00:00\", \"2016-02-01T00:00:00\", \"2016-03-01T00:00:00\", \"2016-04-01T00:00:00\", \"2016-05-01T00:00:00\", \"2016-06-01T00:00:00\", \"2016-07-01T00:00:00\", \"2016-08-01T00:00:00\", \"2016-09-01T00:00:00\", \"2016-10-01T00:00:00\", \"2016-11-01T00:00:00\", \"2016-12-01T00:00:00\", \"2017-01-01T00:00:00\", \"2017-02-01T00:00:00\", \"2017-03-01T00:00:00\", \"2017-04-01T00:00:00\", \"2017-05-01T00:00:00\", \"2017-06-01T00:00:00\", \"2017-07-01T00:00:00\", \"2017-08-01T00:00:00\", \"2017-09-01T00:00:00\", \"2017-10-01T00:00:00\", \"2017-11-01T00:00:00\", \"2017-12-01T00:00:00\", \"2018-01-01T00:00:00\", \"2018-02-01T00:00:00\", \"2018-03-01T00:00:00\", \"2018-04-01T00:00:00\", \"2018-05-01T00:00:00\", \"2018-06-01T00:00:00\", \"2018-07-01T00:00:00\", \"2018-08-01T00:00:00\", \"2018-09-01T00:00:00\", \"2018-10-01T00:00:00\", \"2018-11-01T00:00:00\", \"2018-12-01T00:00:00\", \"2019-01-01T00:00:00\", \"2019-02-01T00:00:00\", \"2019-03-01T00:00:00\", \"2019-04-01T00:00:00\", \"2019-05-01T00:00:00\", \"2019-06-01T00:00:00\", \"2019-07-01T00:00:00\", \"2019-08-01T00:00:00\", \"2019-09-01T00:00:00\", \"2019-10-01T00:00:00\", \"2019-11-01T00:00:00\", \"2019-12-01T00:00:00\"], \"xaxis\": \"x6\", \"y\": [65.0, 68.5, 70.375, 67.28125, 61.7109375, 56.283203125, 50.71240234375, 47.2843017578125, 47.2843017578125, 46.58143967848558, 46.68607975886418, 46.26455981914813, 46.1984198643611, 48.64881489827083, 50.236611173703125, 49.42745838027734, 49.070593785208004, 45.552945338906, 42.4147090041795, 41.06103175313463, 43.795773814850975, 46.59683036113823, 47.44762277085367, 47.44762277085367, 54.079123456744846, 57.309342592558636, 59.73200694441898, 59.73200694441898, 59.73200694441898, 53.87823691858866, 51.658677688941495, 51.658677688941495, 51.658677688941495, 48.43684413026559, 46.57763309769919, 47.683224823274394, 41.76241861745579, 46.57181396309184, 46.57181396309184, 39.011255820602045, 32.75844186545153, 35.81883139908865, 36.86412354931649, 40.14809266198736, 43.11106949649052, 44.83330212236789, 46.37497659177592, 48.28123244383194, 48.28123244383194, 48.28123244383194, 48.28123244383194, 48.28123244383194, 48.28123244383194, 48.28123244383194, 48.28123244383194, 48.28123244383194, 48.28123244383194, 48.28123244383194, 48.28123244383194, 40.9312788673918, 39.948459150543854, 43.211344362907894, 46.158508272180924, 44.61888120413569, 41.71416090310177, 37.53562067732633, 35.401715507994744, 34.30128663099606, 34.475964973247045, 35.356973729935284, 35.267730297451465, 35.7007977230886], \"yaxis\": \"y8\"}, {\"legendgroup\": \"Estaci\\u00f3n SanC\", \"line\": {\"color\": \"slateblue\", \"width\": 4}, \"name\": \"Estaci\\u00f3n SanC\", \"opacity\": 0.85, \"showlegend\": false, \"type\": \"scatter\", \"x\": [\"2014-01-01T00:00:00\", \"2014-02-01T00:00:00\", \"2014-03-01T00:00:00\", \"2014-04-01T00:00:00\", \"2014-05-01T00:00:00\", \"2014-06-01T00:00:00\", \"2014-07-01T00:00:00\", \"2014-08-01T00:00:00\", \"2014-09-01T00:00:00\", \"2014-10-01T00:00:00\", \"2014-11-01T00:00:00\", \"2014-12-01T00:00:00\", \"2015-01-01T00:00:00\", \"2015-02-01T00:00:00\", \"2015-03-01T00:00:00\", \"2015-04-01T00:00:00\", \"2015-05-01T00:00:00\", \"2015-06-01T00:00:00\", \"2015-07-01T00:00:00\", \"2015-08-01T00:00:00\", \"2015-09-01T00:00:00\", \"2015-10-01T00:00:00\", \"2015-11-01T00:00:00\", \"2015-12-01T00:00:00\", \"2016-01-01T00:00:00\", \"2016-02-01T00:00:00\", \"2016-03-01T00:00:00\", \"2016-04-01T00:00:00\", \"2016-05-01T00:00:00\", \"2016-06-01T00:00:00\", \"2016-07-01T00:00:00\", \"2016-08-01T00:00:00\", \"2016-09-01T00:00:00\", \"2016-10-01T00:00:00\", \"2016-11-01T00:00:00\", \"2016-12-01T00:00:00\", \"2017-01-01T00:00:00\", \"2017-02-01T00:00:00\", \"2017-03-01T00:00:00\", \"2017-04-01T00:00:00\", \"2017-05-01T00:00:00\", \"2017-06-01T00:00:00\", \"2017-07-01T00:00:00\", \"2017-08-01T00:00:00\", \"2017-09-01T00:00:00\", \"2017-10-01T00:00:00\", \"2017-11-01T00:00:00\", \"2017-12-01T00:00:00\", \"2018-01-01T00:00:00\", \"2018-02-01T00:00:00\", \"2018-03-01T00:00:00\", \"2018-04-01T00:00:00\", \"2018-05-01T00:00:00\", \"2018-06-01T00:00:00\", \"2018-07-01T00:00:00\", \"2018-08-01T00:00:00\", \"2018-09-01T00:00:00\", \"2018-10-01T00:00:00\", \"2018-11-01T00:00:00\", \"2018-12-01T00:00:00\", \"2019-01-01T00:00:00\", \"2019-02-01T00:00:00\", \"2019-03-01T00:00:00\", \"2019-04-01T00:00:00\", \"2019-05-01T00:00:00\", \"2019-06-01T00:00:00\", \"2019-07-01T00:00:00\", \"2019-08-01T00:00:00\", \"2019-09-01T00:00:00\", \"2019-10-01T00:00:00\", \"2019-11-01T00:00:00\", \"2019-12-01T00:00:00\"], \"xaxis\": \"x6\", \"y\": [38.0, 40.25, 41.1875, 38.140625, 38.140625, 42.09735576923077, 41.07301682692307, 43.80476262019231, 45.353571965144226, 48.01517897385817, 52.26138423039363, 57.69603817279523, 57.27202862959642, 57.95402147219731, 58.46551610414798, 54.099137078110985, 52.32435280858324, 46.743264606437435, 44.05744845482808, 40.293086341121054, 39.46981475584079, 39.60236106688059, 40.201770800160446, 38.90132810012034, 48.175996075090254, 52.63199705631769, 52.63199705631769, 52.63199705631769, 47.18753303536227, 43.390649776521705, 39.79298733239128, 38.59474049929346, 38.44605537447009, 41.08454153085257, 46.31340614813943, 48.23505461110457, 48.67629095832843, 52.257218218746324, 52.192913664059745, 44.89468524804481, 38.4210139360336, 37.3157604520252, 33.986820339018905, 33.986820339018905, 34.29856792701309, 36.223925945259815, 40.91794445894486, 41.18845834420864, 38.89134375815648, 39.66850781861736, 38.75138086396302, 35.313535647972266, 31.9851517359792, 28.4888638019844, 26.866647851488302, 26.89998588861623, 27.92498941646217, 27.94374206234663, 27.94374206234663, 27.961052197009206, 26.970789147756904, 29.478091860817678, 31.35856889561326, 29.768926671709945, 27.576695003782458, 24.682521252836843, 23.011890939627634, 22.758918204720725, 22.569188653540543, 22.926891490155406, 23.695168617616552, 24.021376463212412], \"yaxis\": \"y8\"}, {\"legendgroup\": \"L\\u00edmite anual OMS\", \"line\": {\"color\": \"red\", \"dash\": \"dash\", \"width\": 4}, \"mode\": \"lines\", \"name\": \"L\\u00edmite anual OMS\", \"showlegend\": true, \"type\": \"scatter\", \"x\": [\"2014-01-01T00:00:00\", \"2019-12-01T00:00:00\"], \"xaxis\": \"x3\", \"y\": [10, 10], \"yaxis\": \"y4\"}, {\"legendgroup\": \"L\\u00edmite anual OMS\", \"line\": {\"color\": \"red\", \"dash\": \"dash\", \"width\": 4}, \"mode\": \"lines\", \"name\": \"L\\u00edmite anual OMS\", \"showlegend\": false, \"type\": \"scatter\", \"x\": [\"2014-01-01T00:00:00\", \"2019-12-01T00:00:00\"], \"xaxis\": \"x6\", \"y\": [20, 20], \"yaxis\": \"y8\"}, {\"legendgroup\": \"Estaci\\u00f3n Ken\", \"marker\": {\"color\": \"salmon\", \"size\": 20}, \"mode\": \"markers\", \"name\": \"Estaci\\u00f3n Ken\", \"opacity\": 0.75, \"type\": \"scatter\", \"x\": [\"2014-01-01T00:00:00\", \"2014-02-01T00:00:00\", \"2014-03-01T00:00:00\", \"2014-04-01T00:00:00\", \"2014-05-01T00:00:00\", \"2014-06-01T00:00:00\", \"2014-07-01T00:00:00\", \"2014-08-01T00:00:00\", \"2014-09-01T00:00:00\", \"2014-10-01T00:00:00\", \"2014-11-01T00:00:00\", \"2014-12-01T00:00:00\", \"2015-01-01T00:00:00\", \"2015-02-01T00:00:00\", \"2015-03-01T00:00:00\", \"2015-04-01T00:00:00\", \"2015-05-01T00:00:00\", \"2015-06-01T00:00:00\", \"2015-07-01T00:00:00\", \"2015-08-01T00:00:00\", \"2015-09-01T00:00:00\", \"2015-10-01T00:00:00\", \"2015-11-01T00:00:00\", \"2015-12-01T00:00:00\", \"2016-01-01T00:00:00\", \"2016-02-01T00:00:00\", \"2016-03-01T00:00:00\", \"2016-04-01T00:00:00\", \"2016-05-01T00:00:00\", \"2016-06-01T00:00:00\", \"2016-07-01T00:00:00\", \"2016-08-01T00:00:00\", \"2016-09-01T00:00:00\", \"2016-10-01T00:00:00\", \"2016-11-01T00:00:00\", \"2016-12-01T00:00:00\", \"2017-01-01T00:00:00\", \"2017-02-01T00:00:00\", \"2017-03-01T00:00:00\", \"2017-04-01T00:00:00\", \"2017-05-01T00:00:00\", \"2017-06-01T00:00:00\", \"2017-07-01T00:00:00\", \"2017-08-01T00:00:00\", \"2017-09-01T00:00:00\", \"2017-10-01T00:00:00\", \"2017-11-01T00:00:00\", \"2017-12-01T00:00:00\", \"2018-01-01T00:00:00\", \"2018-02-01T00:00:00\", \"2018-03-01T00:00:00\", \"2018-04-01T00:00:00\", \"2018-05-01T00:00:00\", \"2018-06-01T00:00:00\", \"2018-07-01T00:00:00\", \"2018-08-01T00:00:00\", \"2018-09-01T00:00:00\", \"2018-10-01T00:00:00\", \"2018-11-01T00:00:00\", \"2018-12-01T00:00:00\", \"2019-01-01T00:00:00\", \"2019-02-01T00:00:00\", \"2019-03-01T00:00:00\", \"2019-04-01T00:00:00\", \"2019-05-01T00:00:00\", \"2019-06-01T00:00:00\", \"2019-07-01T00:00:00\", \"2019-08-01T00:00:00\", \"2019-09-01T00:00:00\", \"2019-10-01T00:00:00\", \"2019-11-01T00:00:00\", \"2019-12-01T00:00:00\"], \"xaxis\": \"x2\", \"y\": [36.0, 44.5, 44.0, 30.5, 31.0, 28.0, 31.0, 28.0, 25.0, 31.5, 30.0, 35.5, 28.5, 35.0, 34.0, 28.5, 28.5, 22.0, 24.0, 24.5, 31.0, 34.0, 30.5, 26.5, 41.0, 38.0, 36.5, 29.0, 25.0, 24.5, 21.5, 26.5, 30.0, 33.0, 33.0, 35.0, 19.5, 31.5, 30.0, 28.5, 25.5, 25.5, 21.5, 27.0, 27.0, 27.5, 33.0, 30.0, 27.5, 31.5, 32.5, 28.0, 24.0, 23.0, 22.0, 25.0, 24.5, 25.0, 25.0, 29.5, 27.0, 42.0, 44.5, 33.0, 28.5, 23.0, 24.0, 27.0, 29.0, 32.0, 29.5, 30.5], \"yaxis\": \"y3\"}, {\"legendgroup\": \"Estaci\\u00f3n MinA\", \"marker\": {\"color\": \"mediumaquamarine\", \"size\": 20}, \"mode\": \"markers\", \"name\": \"Estaci\\u00f3n MinA\", \"opacity\": 0.75, \"type\": \"scatter\", \"x\": [\"2014-01-01T00:00:00\", \"2014-02-01T00:00:00\", \"2014-03-01T00:00:00\", \"2014-04-01T00:00:00\", \"2014-05-01T00:00:00\", \"2014-06-01T00:00:00\", \"2014-07-01T00:00:00\", \"2014-08-01T00:00:00\", \"2014-09-01T00:00:00\", \"2014-10-01T00:00:00\", \"2014-11-01T00:00:00\", \"2014-12-01T00:00:00\", \"2015-01-01T00:00:00\", \"2015-02-01T00:00:00\", \"2015-03-01T00:00:00\", \"2015-04-01T00:00:00\", \"2015-05-01T00:00:00\", \"2015-06-01T00:00:00\", \"2015-07-01T00:00:00\", \"2015-08-01T00:00:00\", \"2015-09-01T00:00:00\", \"2015-10-01T00:00:00\", \"2015-11-01T00:00:00\", \"2015-12-01T00:00:00\", \"2016-01-01T00:00:00\", \"2016-02-01T00:00:00\", \"2016-03-01T00:00:00\", \"2016-04-01T00:00:00\", \"2016-05-01T00:00:00\", \"2016-06-01T00:00:00\", \"2016-07-01T00:00:00\", \"2016-08-01T00:00:00\", \"2016-09-01T00:00:00\", \"2016-10-01T00:00:00\", \"2016-11-01T00:00:00\", \"2016-12-01T00:00:00\", \"2017-01-01T00:00:00\", \"2017-02-01T00:00:00\", \"2017-03-01T00:00:00\", \"2017-04-01T00:00:00\", \"2017-05-01T00:00:00\", \"2017-06-01T00:00:00\", \"2017-07-01T00:00:00\", \"2017-08-01T00:00:00\", \"2017-09-01T00:00:00\", \"2017-10-01T00:00:00\", \"2017-11-01T00:00:00\", \"2017-12-01T00:00:00\", \"2018-01-01T00:00:00\", \"2018-02-01T00:00:00\", \"2018-03-01T00:00:00\", \"2018-04-01T00:00:00\", \"2018-05-01T00:00:00\", \"2018-06-01T00:00:00\", \"2018-07-01T00:00:00\", \"2018-08-01T00:00:00\", \"2018-09-01T00:00:00\", \"2018-10-01T00:00:00\", \"2018-11-01T00:00:00\", \"2018-12-01T00:00:00\", \"2019-01-01T00:00:00\", \"2019-02-01T00:00:00\", \"2019-03-01T00:00:00\", \"2019-04-01T00:00:00\", \"2019-05-01T00:00:00\", \"2019-06-01T00:00:00\", \"2019-07-01T00:00:00\", \"2019-08-01T00:00:00\", \"2019-09-01T00:00:00\", \"2019-10-01T00:00:00\", \"2019-11-01T00:00:00\", \"2019-12-01T00:00:00\"], \"xaxis\": \"x2\", \"y\": [null, null, 35.0, 24.0, 22.0, 14.0, 14.0, 17.0, null, 21.0, 23.0, 26.0, 23.0, 30.0, 33.0, 22.0, 22.0, 15.0, 15.0, 17.0, 20.0, 22.0, null, 19.0, 32.0, 32.0, 35.0, 24.0, 14.0, null, null, null, null, null, 17.0, 22.0, 9.0, 26.0, 21.0, 22.0, 14.0, 9.0, 7.0, 16.0, 18.0, 16.0, 22.0, 22.0, 18.0, 26.0, 26.0, 18.0, 13.0, 12.0, 10.0, 11.0, 13.0, 14.0, 15.0, 16.0, 17.0, 26.0, 29.0, 18.0, 11.0, 8.0, 10.0, 15.0, 14.0, 14.0, 16.0, 15.0], \"yaxis\": \"y3\"}, {\"legendgroup\": \"Estaci\\u00f3n SanC\", \"marker\": {\"color\": \"slateblue\", \"size\": 20}, \"mode\": \"markers\", \"name\": \"Estaci\\u00f3n SanC\", \"opacity\": 0.75, \"type\": \"scatter\", \"x\": [\"2014-01-01T00:00:00\", \"2014-02-01T00:00:00\", \"2014-03-01T00:00:00\", \"2014-04-01T00:00:00\", \"2014-05-01T00:00:00\", \"2014-06-01T00:00:00\", \"2014-07-01T00:00:00\", \"2014-08-01T00:00:00\", \"2014-09-01T00:00:00\", \"2014-10-01T00:00:00\", \"2014-11-01T00:00:00\", \"2014-12-01T00:00:00\", \"2015-01-01T00:00:00\", \"2015-02-01T00:00:00\", \"2015-03-01T00:00:00\", \"2015-04-01T00:00:00\", \"2015-05-01T00:00:00\", \"2015-06-01T00:00:00\", \"2015-07-01T00:00:00\", \"2015-08-01T00:00:00\", \"2015-09-01T00:00:00\", \"2015-10-01T00:00:00\", \"2015-11-01T00:00:00\", \"2015-12-01T00:00:00\", \"2016-01-01T00:00:00\", \"2016-02-01T00:00:00\", \"2016-03-01T00:00:00\", \"2016-04-01T00:00:00\", \"2016-05-01T00:00:00\", \"2016-06-01T00:00:00\", \"2016-07-01T00:00:00\", \"2016-08-01T00:00:00\", \"2016-09-01T00:00:00\", \"2016-10-01T00:00:00\", \"2016-11-01T00:00:00\", \"2016-12-01T00:00:00\", \"2017-01-01T00:00:00\", \"2017-02-01T00:00:00\", \"2017-03-01T00:00:00\", \"2017-04-01T00:00:00\", \"2017-05-01T00:00:00\", \"2017-06-01T00:00:00\", \"2017-07-01T00:00:00\", \"2017-08-01T00:00:00\", \"2017-09-01T00:00:00\", \"2017-10-01T00:00:00\", \"2017-11-01T00:00:00\", \"2017-12-01T00:00:00\", \"2018-01-01T00:00:00\", \"2018-02-01T00:00:00\", \"2018-03-01T00:00:00\", \"2018-04-01T00:00:00\", \"2018-05-01T00:00:00\", \"2018-06-01T00:00:00\", \"2018-07-01T00:00:00\", \"2018-08-01T00:00:00\", \"2018-09-01T00:00:00\", \"2018-10-01T00:00:00\", \"2018-11-01T00:00:00\", \"2018-12-01T00:00:00\", \"2019-01-01T00:00:00\", \"2019-02-01T00:00:00\", \"2019-03-01T00:00:00\", \"2019-04-01T00:00:00\", \"2019-05-01T00:00:00\", \"2019-06-01T00:00:00\", \"2019-07-01T00:00:00\", \"2019-08-01T00:00:00\", \"2019-09-01T00:00:00\", \"2019-10-01T00:00:00\", \"2019-11-01T00:00:00\", \"2019-12-01T00:00:00\"], \"xaxis\": \"x2\", \"y\": [18.0, 28.0, 35.0, 23.0, 24.0, 16.0, 12.0, 17.0, 18.0, 27.0, 31.0, 30.0, 22.0, 29.0, 31.0, 20.0, 20.0, 13.0, 15.0, 16.0, 19.0, 22.0, 25.0, 20.0, 39.0, 29.0, 36.0, 25.0, 17.0, 12.0, 11.0, 14.0, 17.0, 24.0, 30.0, 28.0, 20.0, 30.0, 28.0, 23.0, 19.0, 14.0, 11.0, 16.0, 15.0, 20.0, 28.0, 23.0, 22.0, 32.0, 28.0, 24.0, 16.0, null, 12.0, null, 19.0, 23.0, 16.0, 16.0, 16.0, 25.0, 28.0, 20.0, 15.0, 8.0, 8.0, 11.0, 11.0, 15.0, 17.0, 15.0], \"yaxis\": \"y3\"}, {\"legendgroup\": \"Estaci\\u00f3n Ken\", \"marker\": {\"color\": \"salmon\", \"size\": 20}, \"mode\": \"markers\", \"name\": \"Estaci\\u00f3n Ken\", \"opacity\": 0.75, \"showlegend\": false, \"type\": \"scatter\", \"x\": [\"2014-01-01T00:00:00\", \"2014-02-01T00:00:00\", \"2014-03-01T00:00:00\", \"2014-04-01T00:00:00\", \"2014-05-01T00:00:00\", \"2014-06-01T00:00:00\", \"2014-07-01T00:00:00\", \"2014-08-01T00:00:00\", \"2014-09-01T00:00:00\", \"2014-10-01T00:00:00\", \"2014-11-01T00:00:00\", \"2014-12-01T00:00:00\", \"2015-01-01T00:00:00\", \"2015-02-01T00:00:00\", \"2015-03-01T00:00:00\", \"2015-04-01T00:00:00\", \"2015-05-01T00:00:00\", \"2015-06-01T00:00:00\", \"2015-07-01T00:00:00\", \"2015-08-01T00:00:00\", \"2015-09-01T00:00:00\", \"2015-10-01T00:00:00\", \"2015-11-01T00:00:00\", \"2015-12-01T00:00:00\", \"2016-01-01T00:00:00\", \"2016-02-01T00:00:00\", \"2016-03-01T00:00:00\", \"2016-04-01T00:00:00\", \"2016-05-01T00:00:00\", \"2016-06-01T00:00:00\", \"2016-07-01T00:00:00\", \"2016-08-01T00:00:00\", \"2016-09-01T00:00:00\", \"2016-10-01T00:00:00\", \"2016-11-01T00:00:00\", \"2016-12-01T00:00:00\", \"2017-01-01T00:00:00\", \"2017-02-01T00:00:00\", \"2017-03-01T00:00:00\", \"2017-04-01T00:00:00\", \"2017-05-01T00:00:00\", \"2017-06-01T00:00:00\", \"2017-07-01T00:00:00\", \"2017-08-01T00:00:00\", \"2017-09-01T00:00:00\", \"2017-10-01T00:00:00\", \"2017-11-01T00:00:00\", \"2017-12-01T00:00:00\", \"2018-01-01T00:00:00\", \"2018-02-01T00:00:00\", \"2018-03-01T00:00:00\", \"2018-04-01T00:00:00\", \"2018-05-01T00:00:00\", \"2018-06-01T00:00:00\", \"2018-07-01T00:00:00\", \"2018-08-01T00:00:00\", \"2018-09-01T00:00:00\", \"2018-10-01T00:00:00\", \"2018-11-01T00:00:00\", \"2018-12-01T00:00:00\", \"2019-01-01T00:00:00\", \"2019-02-01T00:00:00\", \"2019-03-01T00:00:00\", \"2019-04-01T00:00:00\", \"2019-05-01T00:00:00\", \"2019-06-01T00:00:00\", \"2019-07-01T00:00:00\", \"2019-08-01T00:00:00\", \"2019-09-01T00:00:00\", \"2019-10-01T00:00:00\", \"2019-11-01T00:00:00\", \"2019-12-01T00:00:00\"], \"xaxis\": \"x5\", \"y\": [95.0, 102.0, 95.0, 81.5, 88.5, 68.5, 82.0, 71.5, 58.0, 75.5, 74.5, 84.5, 71.0, 98.0, 88.0, 77.5, 74.5, 60.0, 68.0, 65.0, 83.0, 87.0, 77.0, 66.0, 90.0, 91.0, 88.0, 64.0, 60.5, 55.5, 45.0, 60.0, 60.0, 62.0, 64.5, 72.5, 43.0, 73.5, 60.0, 28.5, 25.5, 57.5, 45.5, 59.0, 62.0, 62.0, 70.5, 61.0, 60.0, 67.5, 65.0, 63.0, 49.0, 52.5, 51.5, 57.5, 61.0, 60.0, 64.0, 58.0, 54.5, 60.0, 59.0, 54.0, 51.5, 40.5, 44.0, 42.0, 41.0, 52.5, 45.5, 45.5], \"yaxis\": \"y7\"}, {\"legendgroup\": \"Estaci\\u00f3n MinA\", \"marker\": {\"color\": \"mediumaquamarine\", \"size\": 20}, \"mode\": \"markers\", \"name\": \"Estaci\\u00f3n MinA\", \"opacity\": 0.75, \"showlegend\": false, \"type\": \"scatter\", \"x\": [\"2014-01-01T00:00:00\", \"2014-02-01T00:00:00\", \"2014-03-01T00:00:00\", \"2014-04-01T00:00:00\", \"2014-05-01T00:00:00\", \"2014-06-01T00:00:00\", \"2014-07-01T00:00:00\", \"2014-08-01T00:00:00\", \"2014-09-01T00:00:00\", \"2014-10-01T00:00:00\", \"2014-11-01T00:00:00\", \"2014-12-01T00:00:00\", \"2015-01-01T00:00:00\", \"2015-02-01T00:00:00\", \"2015-03-01T00:00:00\", \"2015-04-01T00:00:00\", \"2015-05-01T00:00:00\", \"2015-06-01T00:00:00\", \"2015-07-01T00:00:00\", \"2015-08-01T00:00:00\", \"2015-09-01T00:00:00\", \"2015-10-01T00:00:00\", \"2015-11-01T00:00:00\", \"2015-12-01T00:00:00\", \"2016-01-01T00:00:00\", \"2016-02-01T00:00:00\", \"2016-03-01T00:00:00\", \"2016-04-01T00:00:00\", \"2016-05-01T00:00:00\", \"2016-06-01T00:00:00\", \"2016-07-01T00:00:00\", \"2016-08-01T00:00:00\", \"2016-09-01T00:00:00\", \"2016-10-01T00:00:00\", \"2016-11-01T00:00:00\", \"2016-12-01T00:00:00\", \"2017-01-01T00:00:00\", \"2017-02-01T00:00:00\", \"2017-03-01T00:00:00\", \"2017-04-01T00:00:00\", \"2017-05-01T00:00:00\", \"2017-06-01T00:00:00\", \"2017-07-01T00:00:00\", \"2017-08-01T00:00:00\", \"2017-09-01T00:00:00\", \"2017-10-01T00:00:00\", \"2017-11-01T00:00:00\", \"2017-12-01T00:00:00\", \"2018-01-01T00:00:00\", \"2018-02-01T00:00:00\", \"2018-03-01T00:00:00\", \"2018-04-01T00:00:00\", \"2018-05-01T00:00:00\", \"2018-06-01T00:00:00\", \"2018-07-01T00:00:00\", \"2018-08-01T00:00:00\", \"2018-09-01T00:00:00\", \"2018-10-01T00:00:00\", \"2018-11-01T00:00:00\", \"2018-12-01T00:00:00\", \"2019-01-01T00:00:00\", \"2019-02-01T00:00:00\", \"2019-03-01T00:00:00\", \"2019-04-01T00:00:00\", \"2019-05-01T00:00:00\", \"2019-06-01T00:00:00\", \"2019-07-01T00:00:00\", \"2019-08-01T00:00:00\", \"2019-09-01T00:00:00\", \"2019-10-01T00:00:00\", \"2019-11-01T00:00:00\", \"2019-12-01T00:00:00\"], \"xaxis\": \"x5\", \"y\": [65.0, 79.0, 76.0, 58.0, 45.0, 40.0, 34.0, 37.0, null, 45.0, 47.0, 45.0, 46.0, 56.0, 55.0, 47.0, 48.0, 35.0, 33.0, 37.0, 52.0, 55.0, 50.0, null, 69.0, 67.0, 67.0, null, null, 44.0, 45.0, null, null, 43.0, 41.0, 51.0, 24.0, 61.0, null, 22.0, 14.0, 45.0, 40.0, 50.0, 52.0, 50.0, 51.0, 54.0, null, null, null, null, null, null, null, null, null, null, null, 40.0, 37.0, 53.0, 55.0, 40.0, 33.0, 25.0, 29.0, 31.0, 35.0, 38.0, 35.0, 37.0], \"yaxis\": \"y7\"}, {\"legendgroup\": \"Estaci\\u00f3n SanC\", \"marker\": {\"color\": \"slateblue\", \"size\": 20}, \"mode\": \"markers\", \"name\": \"Estaci\\u00f3n SanC\", \"opacity\": 0.75, \"showlegend\": false, \"type\": \"scatter\", \"x\": [\"2014-01-01T00:00:00\", \"2014-02-01T00:00:00\", \"2014-03-01T00:00:00\", \"2014-04-01T00:00:00\", \"2014-05-01T00:00:00\", \"2014-06-01T00:00:00\", \"2014-07-01T00:00:00\", \"2014-08-01T00:00:00\", \"2014-09-01T00:00:00\", \"2014-10-01T00:00:00\", \"2014-11-01T00:00:00\", \"2014-12-01T00:00:00\", \"2015-01-01T00:00:00\", \"2015-02-01T00:00:00\", \"2015-03-01T00:00:00\", \"2015-04-01T00:00:00\", \"2015-05-01T00:00:00\", \"2015-06-01T00:00:00\", \"2015-07-01T00:00:00\", \"2015-08-01T00:00:00\", \"2015-09-01T00:00:00\", \"2015-10-01T00:00:00\", \"2015-11-01T00:00:00\", \"2015-12-01T00:00:00\", \"2016-01-01T00:00:00\", \"2016-02-01T00:00:00\", \"2016-03-01T00:00:00\", \"2016-04-01T00:00:00\", \"2016-05-01T00:00:00\", \"2016-06-01T00:00:00\", \"2016-07-01T00:00:00\", \"2016-08-01T00:00:00\", \"2016-09-01T00:00:00\", \"2016-10-01T00:00:00\", \"2016-11-01T00:00:00\", \"2016-12-01T00:00:00\", \"2017-01-01T00:00:00\", \"2017-02-01T00:00:00\", \"2017-03-01T00:00:00\", \"2017-04-01T00:00:00\", \"2017-05-01T00:00:00\", \"2017-06-01T00:00:00\", \"2017-07-01T00:00:00\", \"2017-08-01T00:00:00\", \"2017-09-01T00:00:00\", \"2017-10-01T00:00:00\", \"2017-11-01T00:00:00\", \"2017-12-01T00:00:00\", \"2018-01-01T00:00:00\", \"2018-02-01T00:00:00\", \"2018-03-01T00:00:00\", \"2018-04-01T00:00:00\", \"2018-05-01T00:00:00\", \"2018-06-01T00:00:00\", \"2018-07-01T00:00:00\", \"2018-08-01T00:00:00\", \"2018-09-01T00:00:00\", \"2018-10-01T00:00:00\", \"2018-11-01T00:00:00\", \"2018-12-01T00:00:00\", \"2019-01-01T00:00:00\", \"2019-02-01T00:00:00\", \"2019-03-01T00:00:00\", \"2019-04-01T00:00:00\", \"2019-05-01T00:00:00\", \"2019-06-01T00:00:00\", \"2019-07-01T00:00:00\", \"2019-08-01T00:00:00\", \"2019-09-01T00:00:00\", \"2019-10-01T00:00:00\", \"2019-11-01T00:00:00\", \"2019-12-01T00:00:00\"], \"xaxis\": \"x5\", \"y\": [38.0, 47.0, 44.0, 29.0, null, 51.0, 38.0, 52.0, 50.0, 56.0, 65.0, 74.0, 56.0, 60.0, 60.0, 41.0, 47.0, 30.0, 36.0, 29.0, 37.0, 40.0, 42.0, 35.0, 76.0, 66.0, null, null, 38.0, 32.0, 29.0, 35.0, 38.0, 49.0, 62.0, 54.0, 50.0, 63.0, 52.0, 23.0, 19.0, 34.0, 24.0, null, 35.0, 42.0, 55.0, 42.0, 32.0, 42.0, 36.0, 25.0, 22.0, 18.0, 22.0, 27.0, 31.0, 28.0, null, 28.0, 24.0, 37.0, 37.0, 25.0, 21.0, 16.0, 18.0, 22.0, 22.0, 24.0, 26.0, 25.0], \"yaxis\": \"y7\"}, {\"legendgroup\": \"Media M\\u00f3vil\", \"line\": {\"color\": \"black\", \"width\": 4}, \"mode\": \"lines\", \"name\": \"Media M\\u00f3vil\", \"showlegend\": true, \"type\": \"scatter\", \"x\": [\"2014-01-01T00:00:00\", \"2014-02-01T00:00:00\", \"2014-03-01T00:00:00\", \"2014-04-01T00:00:00\", \"2014-05-01T00:00:00\", \"2014-06-01T00:00:00\", \"2014-07-01T00:00:00\", \"2014-08-01T00:00:00\", \"2014-09-01T00:00:00\", \"2014-10-01T00:00:00\", \"2014-11-01T00:00:00\", \"2014-12-01T00:00:00\", \"2015-01-01T00:00:00\", \"2015-02-01T00:00:00\", \"2015-03-01T00:00:00\", \"2015-04-01T00:00:00\", \"2015-05-01T00:00:00\", \"2015-06-01T00:00:00\", \"2015-07-01T00:00:00\", \"2015-08-01T00:00:00\", \"2015-09-01T00:00:00\", \"2015-10-01T00:00:00\", \"2015-11-01T00:00:00\", \"2015-12-01T00:00:00\", \"2016-01-01T00:00:00\", \"2016-02-01T00:00:00\", \"2016-03-01T00:00:00\", \"2016-04-01T00:00:00\", \"2016-05-01T00:00:00\", \"2016-06-01T00:00:00\", \"2016-07-01T00:00:00\", \"2016-08-01T00:00:00\", \"2016-09-01T00:00:00\", \"2016-10-01T00:00:00\", \"2016-11-01T00:00:00\", \"2016-12-01T00:00:00\", \"2017-01-01T00:00:00\", \"2017-02-01T00:00:00\", \"2017-03-01T00:00:00\", \"2017-04-01T00:00:00\", \"2017-05-01T00:00:00\", \"2017-06-01T00:00:00\", \"2017-07-01T00:00:00\", \"2017-08-01T00:00:00\", \"2017-09-01T00:00:00\", \"2017-10-01T00:00:00\", \"2017-11-01T00:00:00\", \"2017-12-01T00:00:00\", \"2018-01-01T00:00:00\", \"2018-02-01T00:00:00\", \"2018-03-01T00:00:00\", \"2018-04-01T00:00:00\", \"2018-05-01T00:00:00\", \"2018-06-01T00:00:00\", \"2018-07-01T00:00:00\", \"2018-08-01T00:00:00\", \"2018-09-01T00:00:00\", \"2018-10-01T00:00:00\", \"2018-11-01T00:00:00\", \"2018-12-01T00:00:00\", \"2019-01-01T00:00:00\", \"2019-02-01T00:00:00\", \"2019-03-01T00:00:00\", \"2019-04-01T00:00:00\", \"2019-05-01T00:00:00\", \"2019-06-01T00:00:00\", \"2019-07-01T00:00:00\", \"2019-08-01T00:00:00\", \"2019-09-01T00:00:00\", \"2019-10-01T00:00:00\", \"2019-11-01T00:00:00\", \"2019-12-01T00:00:00\"], \"xaxis\": \"x2\", \"y\": [19.8, 22.96666666666667, 26.511111111111113, 24.555026455026457, 22.953350970017638, 20.159376837154618, 17.43958455810308, 16.79305637206872, 16.59537091471248, 17.646913943141655, 18.93127596209444, 20.47501730806296, 19.83751153870864, 21.510721978186712, 22.8960368743467, 21.034857916231132, 19.523238610820755, 16.645122036843468, 15.096748024562313, 14.416350534893395, 14.83312257881782, 15.999859496989659, 17.104072997993107, 16.45827088755096, 21.763847258367306, 23.064787061133764, 25.87652470742251, 24.667683138281674, 20.778455425521116, 17.623136950347412, 15.01959130023161, 14.227346581106788, 14.580135815975956, 16.3497201736136, 17.999813449075734, 19.299875632717157, 19.283250421811438, 20.905500281207626, 21.437000187471753, 20.812166791647837, 19.089063575384273, 17.955209050256183, 15.574306033504122, 14.849537355669415, 14.93302490377961, 15.238683269186408, 17.7517147720502, 18.64929132951495, 18.4953608863433, 20.976073924228864, 22.00256780133776, 20.868378534225176, 18.467807911705677, 15.788062417327595, 13.94204161155173, 12.628027741034487, 13.402018494022991, 14.634678996015328, 15.423119330676887, 15.265412887117925, 15.576941924745284, 18.717961283163525, 21.895307522109018, 21.06353834807268, 18.75902556538179, 15.765276302847122, 13.810184201898082, 13.581789467932056, 13.554526311954705, 13.578017541303137, 14.572845027535426, 14.765230018356952], \"yaxis\": \"y3\"}, {\"legendgroup\": \"Media M\\u00f3vil\", \"line\": {\"color\": \"black\", \"width\": 4}, \"mode\": \"lines\", \"name\": \"Otras\", \"showlegend\": false, \"type\": \"scatter\", \"x\": [\"2014-01-01T00:00:00\", \"2014-02-01T00:00:00\", \"2014-03-01T00:00:00\", \"2014-04-01T00:00:00\", \"2014-05-01T00:00:00\", \"2014-06-01T00:00:00\", \"2014-07-01T00:00:00\", \"2014-08-01T00:00:00\", \"2014-09-01T00:00:00\", \"2014-10-01T00:00:00\", \"2014-11-01T00:00:00\", \"2014-12-01T00:00:00\", \"2015-01-01T00:00:00\", \"2015-02-01T00:00:00\", \"2015-03-01T00:00:00\", \"2015-04-01T00:00:00\", \"2015-05-01T00:00:00\", \"2015-06-01T00:00:00\", \"2015-07-01T00:00:00\", \"2015-08-01T00:00:00\", \"2015-09-01T00:00:00\", \"2015-10-01T00:00:00\", \"2015-11-01T00:00:00\", \"2015-12-01T00:00:00\", \"2016-01-01T00:00:00\", \"2016-02-01T00:00:00\", \"2016-03-01T00:00:00\", \"2016-04-01T00:00:00\", \"2016-05-01T00:00:00\", \"2016-06-01T00:00:00\", \"2016-07-01T00:00:00\", \"2016-08-01T00:00:00\", \"2016-09-01T00:00:00\", \"2016-10-01T00:00:00\", \"2016-11-01T00:00:00\", \"2016-12-01T00:00:00\", \"2017-01-01T00:00:00\", \"2017-02-01T00:00:00\", \"2017-03-01T00:00:00\", \"2017-04-01T00:00:00\", \"2017-05-01T00:00:00\", \"2017-06-01T00:00:00\", \"2017-07-01T00:00:00\", \"2017-08-01T00:00:00\", \"2017-09-01T00:00:00\", \"2017-10-01T00:00:00\", \"2017-11-01T00:00:00\", \"2017-12-01T00:00:00\", \"2018-01-01T00:00:00\", \"2018-02-01T00:00:00\", \"2018-03-01T00:00:00\", \"2018-04-01T00:00:00\", \"2018-05-01T00:00:00\", \"2018-06-01T00:00:00\", \"2018-07-01T00:00:00\", \"2018-08-01T00:00:00\", \"2018-09-01T00:00:00\", \"2018-10-01T00:00:00\", \"2018-11-01T00:00:00\", \"2018-12-01T00:00:00\", \"2019-01-01T00:00:00\", \"2019-02-01T00:00:00\", \"2019-03-01T00:00:00\", \"2019-04-01T00:00:00\", \"2019-05-01T00:00:00\", \"2019-06-01T00:00:00\", \"2019-07-01T00:00:00\", \"2019-08-01T00:00:00\", \"2019-09-01T00:00:00\", \"2019-10-01T00:00:00\", \"2019-11-01T00:00:00\", \"2019-12-01T00:00:00\"], \"xaxis\": \"x5\", \"y\": [49.6, 53.945454545454545, 56.32727272727273, 51.83939393939394, 51.13367003367004, 48.6057800224467, 44.57052001496447, 43.68034667664298, 43.78689778442866, 45.274598522952445, 47.9330656819683, 49.97204378797887, 48.18136252531925, 50.0875750168795, 51.95838334458634, 47.72225556305756, 45.16483704203837, 39.14322469469225, 35.8621497964615, 34.041433197641, 35.22762213176067, 37.718414754507116, 39.712276503004745, 37.99336952052168, 47.21780190257002, 49.54520126838001, 52.48846751225335, 51.325645008168905, 45.112930005445946, 40.5752866702973, 36.283524446864874, 34.55938666828029, 34.7803318529276, 37.320221235285075, 39.69681415685672, 42.297876104571145, 42.0985840697141, 45.24905604647607, 44.77714847542849, 36.37226565028566, 29.41484376685711, 31.839062511238076, 29.509375007492054, 31.043287042031743, 32.79552469468783, 34.63034979645855, 39.698010975416814, 41.46534065027788, 40.82874561870378, 45.12657115320992, 46.15845484288069, 44.43896989525379, 40.66301696720623, 36.12719649665601, 33.40146433110401, 31.684309554069344, 32.989539702712904, 34.363396838845645, 36.64967196663784, 36.887660098970684, 36.485712793253185, 40.23289943792637, 42.79162992831455, 40.80048055827031, 37.73062340248324, 32.13859741983731, 29.243913431406693, 28.04139683305901, 28.542749403857524, 30.0436511177232, 31.745767411815468, 33.07125234861772], \"yaxis\": \"y7\"}, {\"legendgroup\": \"L\\u00edmite anual OMS\", \"line\": {\"color\": \"red\", \"dash\": \"dash\", \"width\": 4}, \"mode\": \"lines\", \"name\": \"L\\u00edmite anual OMS\", \"showlegend\": true, \"type\": \"scatter\", \"x\": [\"2014-01-01T00:00:00\", \"2019-12-01T00:00:00\"], \"xaxis\": \"x2\", \"y\": [10, 10], \"yaxis\": \"y3\"}, {\"legendgroup\": \"L\\u00edmite anual OMS\", \"line\": {\"color\": \"red\", \"dash\": \"dash\", \"width\": 4}, \"mode\": \"lines\", \"name\": \"L\\u00edmite anual OMS\", \"showlegend\": false, \"type\": \"scatter\", \"x\": [\"2014-01-01T00:00:00\", \"2019-12-01T00:00:00\"], \"xaxis\": \"x5\", \"y\": [20, 20], \"yaxis\": \"y7\"}, {\"legendgroup\": \"Estaci\\u00f3n Ken\", \"marker\": {\"color\": \"salmon\"}, \"name\": \"Estaci\\u00f3n Ken\", \"opacity\": 0.75, \"type\": \"bar\", \"x\": [1, 2, 3, 4, 5, 6, 7, 8, 9, 10, 11, 12], \"xaxis\": \"x\", \"y\": [29.363636363636363, 37.0, 36.916666666666664, 29.583333333333332, 27.083333333333332, 24.333333333333332, 23.363636363636363, 26.333333333333332, 27.8, 30.272727272727273, 30.444444444444443, 30.818181818181817], \"yaxis\": \"y\"}, {\"legendgroup\": \"Estaci\\u00f3n MinA\", \"marker\": {\"color\": \"mediumaquamarine\"}, \"name\": \"Estaci\\u00f3n MinA\", \"opacity\": 0.75, \"type\": \"bar\", \"x\": [1, 2, 3, 4, 5, 6, 7, 8, 9, 10, 11, 12], \"xaxis\": \"x\", \"y\": [19.8, 28.0, 29.833333333333332, 21.333333333333332, 16.0, 11.6, 11.2, 15.2, 16.25, 17.4, 18.6, 20.0], \"yaxis\": \"y\"}, {\"legendgroup\": \"Estaci\\u00f3n SanC\", \"marker\": {\"color\": \"slateblue\"}, \"name\": \"Estaci\\u00f3n SanC\", \"opacity\": 0.75, \"type\": \"bar\", \"x\": [1, 2, 3, 4, 5, 6, 7, 8, 9, 10, 11, 12], \"xaxis\": \"x\", \"y\": [22.833333333333332, 28.833333333333332, 31.0, 22.5, 18.5, 12.6, 11.5, 14.8, 16.5, 21.833333333333332, 24.5, 22.0], \"yaxis\": \"y\"}, {\"legendgroup\": \"Estaci\\u00f3n Ken\", \"marker\": {\"color\": \"salmon\"}, \"name\": \"Estaci\\u00f3n Ken\", \"opacity\": 0.75, \"showlegend\": false, \"type\": \"bar\", \"x\": [1, 2, 3, 4, 5, 6, 7, 8, 9, 10, 11, 12], \"xaxis\": \"x4\", \"y\": [66.54545454545455, 83.3, 76.3, 61.18181818181818, 59.09090909090909, 55.75, 54.5, 59.166666666666664, 61.09090909090909, 66.5, 66.0, 64.58333333333333], \"yaxis\": \"y5\"}, {\"legendgroup\": \"Estaci\\u00f3n MinA\", \"marker\": {\"color\": \"mediumaquamarine\"}, \"name\": \"Estaci\\u00f3n MinA\", \"opacity\": 0.75, \"showlegend\": false, \"type\": \"bar\", \"x\": [1, 2, 3, 4, 5, 6, 7, 8, 9, 10, 11, 12], \"xaxis\": \"x4\", \"y\": [48.2, 63.2, 63.25, 41.75, 35.0, 37.8, 36.2, 38.75, 46.333333333333336, 46.2, 44.8, 45.4], \"yaxis\": \"y5\"}, {\"legendgroup\": \"Estaci\\u00f3n SanC\", \"marker\": {\"color\": \"slateblue\"}, \"name\": \"Estaci\\u00f3n SanC\", \"opacity\": 0.75, \"showlegend\": false, \"type\": \"bar\", \"x\": [1, 2, 3, 4, 5, 6, 7, 8, 9, 10, 11, 12], \"xaxis\": \"x4\", \"y\": [46.0, 52.5, 45.8, 28.6, 29.4, 30.166666666666668, 27.833333333333332, 33.0, 35.5, 39.833333333333336, 50.0, 43.0], \"yaxis\": \"y5\"}, {\"legendgroup\": \"Promedio total \", \"marker\": {\"color\": \"grey\"}, \"name\": \"Promedio total \", \"opacity\": 0.75, \"type\": \"bar\", \"x\": [1, 2, 3, 4, 5, 6, 7, 8, 9, 10, 11, 12], \"xaxis\": \"x\", \"y\": [20.169696969696968, 25.075, 26.75, 19.166666666666664, 15.26666666666667, 11.776666666666666, 10.553030303030303, 12.578333333333333, 14.830000000000002, 17.080606060606062, 19.70444444444444, 18.323484848484846], \"yaxis\": \"y\"}, {\"legendgroup\": \"Promedio total \", \"marker\": {\"color\": \"grey\"}, \"name\": \"Promedio total \", \"opacity\": 0.75, \"showlegend\": false, \"type\": \"bar\", \"x\": [1, 2, 3, 4, 5, 6, 7, 8, 9, 10, 11, 12], \"xaxis\": \"x4\", \"y\": [45.26170798898072, 54.469696969696955, 53.23030303030304, 37.736225895316814, 34.70068870523416, 30.716666666666665, 27.039393939393936, 30.262121212121205, 35.94765840220386, 40.52424242424243, 44.76969696969697, 42.38484848484848], \"yaxis\": \"y5\"}, {\"legendgroup\": \"Porcentaje mes del a\\u00f1o\", \"line\": {\"color\": \"black\", \"dash\": \"dash\", \"width\": 1.5}, \"mode\": \"lines+markers\", \"name\": \"Porcentaje mes del a\\u00f1o\", \"showlegend\": true, \"type\": \"scatter\", \"x\": [1, 2, 3, 4, 5, 6, 7, 8, 9, 10, 11, 12], \"xaxis\": \"x\", \"y\": [0.09546674023011366, 0.11868440635804282, 0.12661247737099285, 0.09071922054619425, 0.07225983132201214, 0.055741044554731174, 0.0499493573995449, 0.05953547456192417, 0.07019301081913361, 0.08084552704042348, 0.09326461780673673, 0.0867282919901502], \"yaxis\": \"y2\"}, {\"legendgroup\": \"Porcentaje mes del a\\u00f1o\", \"line\": {\"color\": \"black\", \"dash\": \"dash\", \"width\": 1.5}, \"mode\": \"lines+markers\", \"name\": \"Porcentaje mes del a\\u00f1o\", \"showlegend\": false, \"type\": \"scatter\", \"x\": [1, 2, 3, 4, 5, 6, 7, 8, 9, 10, 11, 12], \"xaxis\": \"x4\", \"y\": [0.09487967374789728, 0.11418188369934865, 0.11158380912727452, 0.07910441210694669, 0.07274117945309347, 0.06438968924163826, 0.05668122104307584, 0.06343685015652548, 0.07535513467658622, 0.08494878056808847, 0.09384829762304187, 0.08884906855648345], \"yaxis\": \"y6\"}],\n",
       "                        {\"font\": {\"size\": 20}, \"height\": 675.0, \"legend\": {\"orientation\": \"h\", \"x\": 0.95, \"xanchor\": \"right\", \"y\": 1.0, \"yanchor\": \"bottom\"}, \"template\": {\"data\": {\"bar\": [{\"error_x\": {\"color\": \"#2a3f5f\"}, \"error_y\": {\"color\": \"#2a3f5f\"}, \"marker\": {\"line\": {\"color\": \"#E5ECF6\", \"width\": 0.5}}, \"type\": \"bar\"}], \"barpolar\": [{\"marker\": {\"line\": {\"color\": \"#E5ECF6\", \"width\": 0.5}}, \"type\": \"barpolar\"}], \"carpet\": [{\"aaxis\": {\"endlinecolor\": \"#2a3f5f\", \"gridcolor\": \"white\", \"linecolor\": \"white\", \"minorgridcolor\": \"white\", \"startlinecolor\": \"#2a3f5f\"}, \"baxis\": {\"endlinecolor\": \"#2a3f5f\", \"gridcolor\": \"white\", \"linecolor\": \"white\", \"minorgridcolor\": \"white\", \"startlinecolor\": \"#2a3f5f\"}, \"type\": \"carpet\"}], \"choropleth\": [{\"colorbar\": {\"outlinewidth\": 0, \"ticks\": \"\"}, \"type\": \"choropleth\"}], \"contour\": [{\"colorbar\": {\"outlinewidth\": 0, \"ticks\": \"\"}, \"colorscale\": [[0.0, \"#0d0887\"], [0.1111111111111111, \"#46039f\"], [0.2222222222222222, \"#7201a8\"], [0.3333333333333333, \"#9c179e\"], [0.4444444444444444, \"#bd3786\"], [0.5555555555555556, \"#d8576b\"], [0.6666666666666666, \"#ed7953\"], [0.7777777777777778, \"#fb9f3a\"], [0.8888888888888888, \"#fdca26\"], [1.0, \"#f0f921\"]], \"type\": \"contour\"}], \"contourcarpet\": [{\"colorbar\": {\"outlinewidth\": 0, \"ticks\": \"\"}, \"type\": \"contourcarpet\"}], \"heatmap\": [{\"colorbar\": {\"outlinewidth\": 0, \"ticks\": \"\"}, \"colorscale\": [[0.0, \"#0d0887\"], [0.1111111111111111, \"#46039f\"], [0.2222222222222222, \"#7201a8\"], [0.3333333333333333, \"#9c179e\"], [0.4444444444444444, \"#bd3786\"], [0.5555555555555556, \"#d8576b\"], [0.6666666666666666, \"#ed7953\"], [0.7777777777777778, \"#fb9f3a\"], [0.8888888888888888, \"#fdca26\"], [1.0, \"#f0f921\"]], \"type\": \"heatmap\"}], \"heatmapgl\": [{\"colorbar\": {\"outlinewidth\": 0, \"ticks\": \"\"}, \"colorscale\": [[0.0, \"#0d0887\"], [0.1111111111111111, \"#46039f\"], [0.2222222222222222, \"#7201a8\"], [0.3333333333333333, \"#9c179e\"], [0.4444444444444444, \"#bd3786\"], [0.5555555555555556, \"#d8576b\"], [0.6666666666666666, \"#ed7953\"], [0.7777777777777778, \"#fb9f3a\"], [0.8888888888888888, \"#fdca26\"], [1.0, \"#f0f921\"]], \"type\": \"heatmapgl\"}], \"histogram\": [{\"marker\": {\"colorbar\": {\"outlinewidth\": 0, \"ticks\": \"\"}}, \"type\": \"histogram\"}], \"histogram2d\": [{\"colorbar\": {\"outlinewidth\": 0, \"ticks\": \"\"}, \"colorscale\": [[0.0, \"#0d0887\"], [0.1111111111111111, \"#46039f\"], [0.2222222222222222, \"#7201a8\"], [0.3333333333333333, \"#9c179e\"], [0.4444444444444444, \"#bd3786\"], [0.5555555555555556, \"#d8576b\"], [0.6666666666666666, \"#ed7953\"], [0.7777777777777778, \"#fb9f3a\"], [0.8888888888888888, \"#fdca26\"], [1.0, \"#f0f921\"]], \"type\": \"histogram2d\"}], \"histogram2dcontour\": [{\"colorbar\": {\"outlinewidth\": 0, \"ticks\": \"\"}, \"colorscale\": [[0.0, \"#0d0887\"], [0.1111111111111111, \"#46039f\"], [0.2222222222222222, \"#7201a8\"], [0.3333333333333333, \"#9c179e\"], [0.4444444444444444, \"#bd3786\"], [0.5555555555555556, \"#d8576b\"], [0.6666666666666666, \"#ed7953\"], [0.7777777777777778, \"#fb9f3a\"], [0.8888888888888888, \"#fdca26\"], [1.0, \"#f0f921\"]], \"type\": \"histogram2dcontour\"}], \"mesh3d\": [{\"colorbar\": {\"outlinewidth\": 0, \"ticks\": \"\"}, \"type\": \"mesh3d\"}], \"parcoords\": [{\"line\": {\"colorbar\": {\"outlinewidth\": 0, \"ticks\": \"\"}}, \"type\": \"parcoords\"}], \"pie\": [{\"automargin\": true, \"type\": \"pie\"}], \"scatter\": [{\"marker\": {\"colorbar\": {\"outlinewidth\": 0, \"ticks\": \"\"}}, \"type\": \"scatter\"}], \"scatter3d\": [{\"line\": {\"colorbar\": {\"outlinewidth\": 0, \"ticks\": \"\"}}, \"marker\": {\"colorbar\": {\"outlinewidth\": 0, \"ticks\": \"\"}}, \"type\": \"scatter3d\"}], \"scattercarpet\": [{\"marker\": {\"colorbar\": {\"outlinewidth\": 0, \"ticks\": \"\"}}, \"type\": \"scattercarpet\"}], \"scattergeo\": [{\"marker\": {\"colorbar\": {\"outlinewidth\": 0, \"ticks\": \"\"}}, \"type\": \"scattergeo\"}], \"scattergl\": [{\"marker\": {\"colorbar\": {\"outlinewidth\": 0, \"ticks\": \"\"}}, \"type\": \"scattergl\"}], \"scattermapbox\": [{\"marker\": {\"colorbar\": {\"outlinewidth\": 0, \"ticks\": \"\"}}, \"type\": \"scattermapbox\"}], \"scatterpolar\": [{\"marker\": {\"colorbar\": {\"outlinewidth\": 0, \"ticks\": \"\"}}, \"type\": \"scatterpolar\"}], \"scatterpolargl\": [{\"marker\": {\"colorbar\": {\"outlinewidth\": 0, \"ticks\": \"\"}}, \"type\": \"scatterpolargl\"}], \"scatterternary\": [{\"marker\": {\"colorbar\": {\"outlinewidth\": 0, \"ticks\": \"\"}}, \"type\": \"scatterternary\"}], \"surface\": [{\"colorbar\": {\"outlinewidth\": 0, \"ticks\": \"\"}, \"colorscale\": [[0.0, \"#0d0887\"], [0.1111111111111111, \"#46039f\"], [0.2222222222222222, \"#7201a8\"], [0.3333333333333333, \"#9c179e\"], [0.4444444444444444, \"#bd3786\"], [0.5555555555555556, \"#d8576b\"], [0.6666666666666666, \"#ed7953\"], [0.7777777777777778, \"#fb9f3a\"], [0.8888888888888888, \"#fdca26\"], [1.0, \"#f0f921\"]], \"type\": \"surface\"}], \"table\": [{\"cells\": {\"fill\": {\"color\": \"#EBF0F8\"}, \"line\": {\"color\": \"white\"}}, \"header\": {\"fill\": {\"color\": \"#C8D4E3\"}, \"line\": {\"color\": \"white\"}}, \"type\": \"table\"}]}, \"layout\": {\"annotationdefaults\": {\"arrowcolor\": \"#2a3f5f\", \"arrowhead\": 0, \"arrowwidth\": 1}, \"coloraxis\": {\"colorbar\": {\"outlinewidth\": 0, \"ticks\": \"\"}}, \"colorscale\": {\"diverging\": [[0, \"#8e0152\"], [0.1, \"#c51b7d\"], [0.2, \"#de77ae\"], [0.3, \"#f1b6da\"], [0.4, \"#fde0ef\"], [0.5, \"#f7f7f7\"], [0.6, \"#e6f5d0\"], [0.7, \"#b8e186\"], [0.8, \"#7fbc41\"], [0.9, \"#4d9221\"], [1, \"#276419\"]], \"sequential\": [[0.0, \"#0d0887\"], [0.1111111111111111, \"#46039f\"], [0.2222222222222222, \"#7201a8\"], [0.3333333333333333, \"#9c179e\"], [0.4444444444444444, \"#bd3786\"], [0.5555555555555556, \"#d8576b\"], [0.6666666666666666, \"#ed7953\"], [0.7777777777777778, \"#fb9f3a\"], [0.8888888888888888, \"#fdca26\"], [1.0, \"#f0f921\"]], \"sequentialminus\": [[0.0, \"#0d0887\"], [0.1111111111111111, \"#46039f\"], [0.2222222222222222, \"#7201a8\"], [0.3333333333333333, \"#9c179e\"], [0.4444444444444444, \"#bd3786\"], [0.5555555555555556, \"#d8576b\"], [0.6666666666666666, \"#ed7953\"], [0.7777777777777778, \"#fb9f3a\"], [0.8888888888888888, \"#fdca26\"], [1.0, \"#f0f921\"]]}, \"colorway\": [\"#636efa\", \"#EF553B\", \"#00cc96\", \"#ab63fa\", \"#FFA15A\", \"#19d3f3\", \"#FF6692\", \"#B6E880\", \"#FF97FF\", \"#FECB52\"], \"font\": {\"color\": \"#2a3f5f\"}, \"geo\": {\"bgcolor\": \"white\", \"lakecolor\": \"white\", \"landcolor\": \"#E5ECF6\", \"showlakes\": true, \"showland\": true, \"subunitcolor\": \"white\"}, \"hoverlabel\": {\"align\": \"left\"}, \"hovermode\": \"closest\", \"mapbox\": {\"style\": \"light\"}, \"paper_bgcolor\": \"white\", \"plot_bgcolor\": \"#E5ECF6\", \"polar\": {\"angularaxis\": {\"gridcolor\": \"white\", \"linecolor\": \"white\", \"ticks\": \"\"}, \"bgcolor\": \"#E5ECF6\", \"radialaxis\": {\"gridcolor\": \"white\", \"linecolor\": \"white\", \"ticks\": \"\"}}, \"scene\": {\"xaxis\": {\"backgroundcolor\": \"#E5ECF6\", \"gridcolor\": \"white\", \"gridwidth\": 2, \"linecolor\": \"white\", \"showbackground\": true, \"ticks\": \"\", \"zerolinecolor\": \"white\"}, \"yaxis\": {\"backgroundcolor\": \"#E5ECF6\", \"gridcolor\": \"white\", \"gridwidth\": 2, \"linecolor\": \"white\", \"showbackground\": true, \"ticks\": \"\", \"zerolinecolor\": \"white\"}, \"zaxis\": {\"backgroundcolor\": \"#E5ECF6\", \"gridcolor\": \"white\", \"gridwidth\": 2, \"linecolor\": \"white\", \"showbackground\": true, \"ticks\": \"\", \"zerolinecolor\": \"white\"}}, \"shapedefaults\": {\"line\": {\"color\": \"#2a3f5f\"}}, \"ternary\": {\"aaxis\": {\"gridcolor\": \"white\", \"linecolor\": \"white\", \"ticks\": \"\"}, \"baxis\": {\"gridcolor\": \"white\", \"linecolor\": \"white\", \"ticks\": \"\"}, \"bgcolor\": \"#E5ECF6\", \"caxis\": {\"gridcolor\": \"white\", \"linecolor\": \"white\", \"ticks\": \"\"}}, \"title\": {\"x\": 0.05}, \"xaxis\": {\"automargin\": true, \"gridcolor\": \"white\", \"linecolor\": \"white\", \"ticks\": \"\", \"title\": {\"standoff\": 15}, \"zerolinecolor\": \"white\", \"zerolinewidth\": 2}, \"yaxis\": {\"automargin\": true, \"gridcolor\": \"white\", \"linecolor\": \"white\", \"ticks\": \"\", \"title\": {\"standoff\": 15}, \"zerolinecolor\": \"white\", \"zerolinewidth\": 2}}}, \"title\": {\"font\": {\"size\": 25}, \"text\": \"Registros diarios por estaci\\u00f3n (2014-2019)\"}, \"width\": 1200, \"xaxis\": {\"anchor\": \"y\", \"domain\": [0.0, 0.22444444444444445], \"matches\": \"x4\", \"showticklabels\": false}, \"xaxis2\": {\"anchor\": \"y3\", \"domain\": [0.35777777777777775, 0.5822222222222222], \"matches\": \"x5\", \"showticklabels\": false}, \"xaxis3\": {\"anchor\": \"y4\", \"domain\": [0.7155555555555555, 0.94], \"matches\": \"x6\", \"showticklabels\": false}, \"xaxis4\": {\"anchor\": \"y5\", \"domain\": [0.0, 0.22444444444444445]}, \"xaxis5\": {\"anchor\": \"y7\", \"domain\": [0.35777777777777775, 0.5822222222222222]}, \"xaxis6\": {\"anchor\": \"y8\", \"domain\": [0.7155555555555555, 0.94]}, \"yaxis\": {\"anchor\": \"x\", \"domain\": [0.515, 1.0], \"title\": {\"text\": \"pm 2.5 (\\u03bcg/m\\u00b3)\"}}, \"yaxis2\": {\"anchor\": \"x\", \"overlaying\": \"y\", \"side\": \"right\", \"title\": {\"text\": \"pm 2.5 (\\u03bcg/m\\u00b3)\"}}, \"yaxis3\": {\"anchor\": \"x2\", \"domain\": [0.515, 1.0], \"matches\": \"y\", \"showticklabels\": false}, \"yaxis4\": {\"anchor\": \"x3\", \"domain\": [0.515, 1.0], \"matches\": \"y\", \"showticklabels\": false}, \"yaxis5\": {\"anchor\": \"x4\", \"domain\": [0.0, 0.485], \"title\": {\"text\": \"pm 10 (\\u03bcg/m\\u00b3)\"}}, \"yaxis6\": {\"anchor\": \"x4\", \"overlaying\": \"y5\", \"side\": \"right\", \"title\": {\"text\": \"pm 10 (\\u03bcg/m\\u00b3)\"}}, \"yaxis7\": {\"anchor\": \"x5\", \"domain\": [0.0, 0.485], \"matches\": \"y5\", \"showticklabels\": false}, \"yaxis8\": {\"anchor\": \"x6\", \"domain\": [0.0, 0.485], \"matches\": \"y5\", \"showticklabels\": false}},\n",
       "                        {\"responsive\": true}\n",
       "                    ).then(function(){\n",
       "                            \n",
       "var gd = document.getElementById('38315922-0e42-4de3-93ea-a71407cbe9ae');\n",
       "var x = new MutationObserver(function (mutations, observer) {{\n",
       "        var display = window.getComputedStyle(gd).display;\n",
       "        if (!display || display === 'none') {{\n",
       "            console.log([gd, 'removed!']);\n",
       "            Plotly.purge(gd);\n",
       "            observer.disconnect();\n",
       "        }}\n",
       "}});\n",
       "\n",
       "// Listen for the removal of the full notebook cells\n",
       "var notebookContainer = gd.closest('#notebook-container');\n",
       "if (notebookContainer) {{\n",
       "    x.observe(notebookContainer, {childList: true});\n",
       "}}\n",
       "\n",
       "// Listen for the clearing of the current output cell\n",
       "var outputEl = gd.closest('.output');\n",
       "if (outputEl) {{\n",
       "    x.observe(outputEl, {childList: true});\n",
       "}}\n",
       "\n",
       "                        })\n",
       "                };\n",
       "                });\n",
       "            </script>\n",
       "        </div>"
      ]
     },
     "metadata": {},
     "output_type": "display_data"
    }
   ],
   "source": [
    "#figura\n",
    "fig = make_subplots(rows=2, \n",
    "                    cols=3, \n",
    "                    shared_xaxes=True,\n",
    "                    shared_yaxes=True,\n",
    "                    vertical_spacing = 0.03,\n",
    "                    specs=[[{\"secondary_y\": True}, {} , {}],\n",
    "                       [{\"secondary_y\": True}, {}, {}]]\n",
    "                   )\n",
    "\n",
    "medias_moviles(max_est_25, max_est_10, d_anual, 3)\n",
    "\n",
    "scatter_datos(max_est_25, max_est_10, d_anual, 2)\n",
    "\n",
    "fig_bar(max_est_25, max_est_10, datos,1 )\n",
    "\n",
    "fig.show()"
   ]
  },
  {
   "cell_type": "code",
   "execution_count": null,
   "metadata": {},
   "outputs": [],
   "source": []
  },
  {
   "cell_type": "markdown",
   "metadata": {},
   "source": [
    "## TO HTML"
   ]
  },
  {
   "cell_type": "code",
   "execution_count": 61,
   "metadata": {
    "ExecuteTime": {
     "end_time": "2021-03-08T16:20:56.876653Z",
     "start_time": "2021-03-08T16:20:56.847349Z"
    }
   },
   "outputs": [
    {
     "ename": "PlotlyError",
     "evalue": "Because you didn't supply a 'file_id' in the call, we're assuming you're trying to snag a figure from a url. You supplied the url, 'https://plot.ly/~elizabethts/9/', we expected it to start with 'https://plotly.com'.\nRun help on this function for more information.",
     "output_type": "error",
     "traceback": [
      "\u001b[0;31m---------------------------------------------------------------------------\u001b[0m",
      "\u001b[0;31mPlotlyError\u001b[0m                               Traceback (most recent call last)",
      "\u001b[0;32m<ipython-input-61-d68bb85ff69f>\u001b[0m in \u001b[0;36m<module>\u001b[0;34m\u001b[0m\n\u001b[1;32m      1\u001b[0m \u001b[0;32mimport\u001b[0m \u001b[0mchart_studio\u001b[0m\u001b[0;34m.\u001b[0m\u001b[0mtools\u001b[0m \u001b[0;32mas\u001b[0m \u001b[0mtls\u001b[0m\u001b[0;34m\u001b[0m\u001b[0;34m\u001b[0m\u001b[0m\n\u001b[0;32m----> 2\u001b[0;31m \u001b[0mtls\u001b[0m\u001b[0;34m.\u001b[0m\u001b[0mget_embed\u001b[0m\u001b[0;34m(\u001b[0m\u001b[0;34m'https://plot.ly/~elizabethts/9/'\u001b[0m\u001b[0;34m)\u001b[0m \u001b[0;31m#change to your url\u001b[0m\u001b[0;34m\u001b[0m\u001b[0;34m\u001b[0m\u001b[0m\n\u001b[0m\u001b[1;32m      3\u001b[0m \u001b[0;34m\u001b[0m\u001b[0m\n\u001b[1;32m      4\u001b[0m \u001b[0;31m#help(tls.get_embed)\u001b[0m\u001b[0;34m\u001b[0m\u001b[0;34m\u001b[0m\u001b[0;34m\u001b[0m\u001b[0m\n",
      "\u001b[0;32m~/anaconda3/lib/python3.7/site-packages/chart_studio/tools.py\u001b[0m in \u001b[0;36mget_embed\u001b[0;34m(file_owner_or_url, file_id, width, height)\u001b[0m\n\u001b[1;32m    326\u001b[0m \u001b[0;34m\u001b[0m\u001b[0m\n\u001b[1;32m    327\u001b[0m     \"\"\"\n\u001b[0;32m--> 328\u001b[0;31m     \u001b[0membed_url\u001b[0m \u001b[0;34m=\u001b[0m \u001b[0m_get_embed_url\u001b[0m\u001b[0;34m(\u001b[0m\u001b[0mfile_owner_or_url\u001b[0m\u001b[0;34m,\u001b[0m \u001b[0mfile_id\u001b[0m\u001b[0;34m)\u001b[0m\u001b[0;34m\u001b[0m\u001b[0;34m\u001b[0m\u001b[0m\n\u001b[0m\u001b[1;32m    329\u001b[0m \u001b[0;34m\u001b[0m\u001b[0m\n\u001b[1;32m    330\u001b[0m     return (\n",
      "\u001b[0;32m~/anaconda3/lib/python3.7/site-packages/chart_studio/tools.py\u001b[0m in \u001b[0;36m_get_embed_url\u001b[0;34m(file_owner_or_url, file_id)\u001b[0m\n\u001b[1;32m    259\u001b[0m                 \u001b[0;34m\"'{1}'.\"\u001b[0m\u001b[0;34m\u001b[0m\u001b[0;34m\u001b[0m\u001b[0m\n\u001b[1;32m    260\u001b[0m                 \u001b[0;34m\"\\nRun help on this function for more information.\"\u001b[0m\u001b[0;34m\u001b[0m\u001b[0;34m\u001b[0m\u001b[0m\n\u001b[0;32m--> 261\u001b[0;31m                 \u001b[0;34m\"\"\u001b[0m\u001b[0;34m.\u001b[0m\u001b[0mformat\u001b[0m\u001b[0;34m(\u001b[0m\u001b[0murl\u001b[0m\u001b[0;34m,\u001b[0m \u001b[0mplotly_rest_url\u001b[0m\u001b[0;34m)\u001b[0m\u001b[0;34m\u001b[0m\u001b[0;34m\u001b[0m\u001b[0m\n\u001b[0m\u001b[1;32m    262\u001b[0m             )\n\u001b[1;32m    263\u001b[0m         \u001b[0murlsplit\u001b[0m \u001b[0;34m=\u001b[0m \u001b[0msix\u001b[0m\u001b[0;34m.\u001b[0m\u001b[0mmoves\u001b[0m\u001b[0;34m.\u001b[0m\u001b[0murllib\u001b[0m\u001b[0;34m.\u001b[0m\u001b[0mparse\u001b[0m\u001b[0;34m.\u001b[0m\u001b[0murlparse\u001b[0m\u001b[0;34m(\u001b[0m\u001b[0murl\u001b[0m\u001b[0;34m)\u001b[0m\u001b[0;34m\u001b[0m\u001b[0;34m\u001b[0m\u001b[0m\n",
      "\u001b[0;31mPlotlyError\u001b[0m: Because you didn't supply a 'file_id' in the call, we're assuming you're trying to snag a figure from a url. You supplied the url, 'https://plot.ly/~elizabethts/9/', we expected it to start with 'https://plotly.com'.\nRun help on this function for more information."
     ]
    }
   ],
   "source": [
    "\n",
    "\n",
    "import chart_studio.tools as tls\n",
    "tls.get_embed('https://plot.ly/~elizabethts/9/') #change to your url\n",
    "\n",
    "#help(tls.get_embed)"
   ]
  },
  {
   "cell_type": "code",
   "execution_count": 54,
   "metadata": {
    "ExecuteTime": {
     "end_time": "2021-03-08T16:17:52.362785Z",
     "start_time": "2021-03-08T16:17:52.336764Z"
    }
   },
   "outputs": [],
   "source": [
    "username = 'davera' # your username\n",
    "api_key = 'G66HMqzOff6JKS0t8GhD' # your api key - go to profile > settings > regenerate key\n",
    "tls.set_credentials_file(username=username, api_key=api_key)"
   ]
  },
  {
   "cell_type": "code",
   "execution_count": 49,
   "metadata": {
    "ExecuteTime": {
     "end_time": "2021-03-08T16:11:38.599077Z",
     "start_time": "2021-03-08T16:11:38.591864Z"
    }
   },
   "outputs": [],
   "source": [
    "import chart_studio.plotly as py"
   ]
  },
  {
   "cell_type": "code",
   "execution_count": 50,
   "metadata": {
    "ExecuteTime": {
     "end_time": "2021-03-08T16:11:43.853797Z",
     "start_time": "2021-03-08T16:11:39.211529Z"
    }
   },
   "outputs": [
    {
     "data": {
      "text/plain": [
       "'https://plotly.com/~davera/2/'"
      ]
     },
     "execution_count": 50,
     "metadata": {},
     "output_type": "execute_result"
    }
   ],
   "source": [
    "py.plot(d_temp, filename= 'datosmensual', auto_open=False)"
   ]
  },
  {
   "cell_type": "code",
   "execution_count": 45,
   "metadata": {
    "ExecuteTime": {
     "end_time": "2021-03-08T16:10:04.475466Z",
     "start_time": "2021-03-08T16:10:04.467215Z"
    }
   },
   "outputs": [
    {
     "data": {
      "text/plain": [
       "NoneType"
      ]
     },
     "execution_count": 45,
     "metadata": {},
     "output_type": "execute_result"
    }
   ],
   "source": [
    "type(d_temp)"
   ]
  },
  {
   "cell_type": "code",
   "execution_count": null,
   "metadata": {},
   "outputs": [],
   "source": []
  }
 ],
 "metadata": {
  "kernelspec": {
   "display_name": "Python 3",
   "language": "python",
   "name": "python3"
  },
  "language_info": {
   "codemirror_mode": {
    "name": "ipython",
    "version": 3
   },
   "file_extension": ".py",
   "mimetype": "text/x-python",
   "name": "python",
   "nbconvert_exporter": "python",
   "pygments_lexer": "ipython3",
   "version": "3.7.6"
  }
 },
 "nbformat": 4,
 "nbformat_minor": 4
}
